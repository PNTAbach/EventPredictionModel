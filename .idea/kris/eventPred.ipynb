{
 "cells": [
  {
   "cell_type": "markdown",
   "id": "f570181b",
   "metadata": {},
   "source": [
    "# Event Like Prediction Model\n",
    "This notebook connects to your local PostgreSQL `pnta` database and trains a machine learning model to predict whether an event will get more than a threshold number of likes."
   ]
  },
  {
   "cell_type": "code",
   "execution_count": 1,
   "id": "e7ab927e",
   "metadata": {},
   "outputs": [],
   "source": [
    "import pandas as pd\n",
    "from sqlalchemy import create_engine\n",
    "from sklearn.preprocessing import MultiLabelBinarizer\n",
    "\n",
    "DB_USER = 'postgres'\n",
    "DB_PASS = '1234'   # change\n",
    "DB_HOST = 'localhost'\n",
    "DB_PORT = '5432'\n",
    "DB_NAME = 'postgres'\n",
    "\n",
    "# Step 2: Create SQLAlchemy engine\n",
    "engine = create_engine(f'postgresql+psycopg2://{DB_USER}:{DB_PASS}@{DB_HOST}:{DB_PORT}/{DB_NAME}')\n"
   ]
  },
  {
   "cell_type": "markdown",
   "id": "d12d8e68",
   "metadata": {},
   "source": [
    "### Load each required table into its own DataFrame"
   ]
  },
  {
   "cell_type": "code",
   "execution_count": 2,
   "id": "cc22529a",
   "metadata": {},
   "outputs": [],
   "source": [
    "# 1. user_event_like (event likes)\n",
    "df_user_event_like = pd.read_sql(\"SELECT user_id, event_id FROM pnta.user_event_like\", engine)\n",
    "\n",
    "# 2. user_event_rating\n",
    "df_user_event_rating = pd.read_sql(\"SELECT user_id, event_id, rating FROM pnta.user_event_rating\", engine)\n",
    "\n",
    "# 3. user_event_checkin\n",
    "df_user_event_checkin = pd.read_sql(\"SELECT user_id, event_id, checked_in_at FROM pnta.user_event_checkin\", engine)\n",
    "\n",
    "# 4. event\n",
    "df_event = pd.read_sql(\"SELECT event_id, event_date, start_time, end_time, venue_id FROM pnta.event\", engine)\n",
    "\n",
    "# 5. event_tag\n",
    "df_event_tag = pd.read_sql(\"SELECT * FROM pnta.event_tag\", engine)\n",
    "\n",
    "# 6. location\n",
    "df_location = pd.read_sql(\"SELECT venue_id, city FROM pnta.location\", engine)\n",
    "\n",
    "# 7. tag\n",
    "df_tag = pd.read_sql(\"SELECT * FROM pnta.tag\", engine)\n",
    "\n",
    "# 8. user_filter_tag\n",
    "df_user_filter_tag = pd.read_sql(\"SELECT * FROM pnta.user_filter_tag\", engine)\n",
    "\n",
    "# 9. user_venue_like\n",
    "df_user_venue_like = pd.read_sql(\"SELECT user_id, venue_id FROM pnta.user_venue_like\", engine)\n",
    "\n",
    "# 10. user_venue_rating\n",
    "df_user_venue_rating = pd.read_sql(\"SELECT user_id, venue_id, rating FROM pnta.user_venue_rating\", engine)\n",
    "\n",
    "# 11. userp\n",
    "df_userp = pd.read_sql(\"SELECT user_id, gender, city, birth_date FROM pnta.userp\", engine)\n",
    "\n",
    "# 12. venue\n",
    "df_venue = pd.read_sql(\"SELECT venue_id, price_rating, rating FROM pnta.venue\", engine)\n"
   ]
  },
  {
   "cell_type": "markdown",
   "id": "130febdf",
   "metadata": {},
   "source": [
    "### Merge all dataframes into one using left-join"
   ]
  },
  {
   "cell_type": "code",
   "execution_count": 3,
   "id": "61020364",
   "metadata": {},
   "outputs": [
    {
     "name": "stdout",
     "output_type": "stream",
     "text": [
      "    event_id  event_date start_time  end_time  venue_id  like_count  checkin_count  avg_event_rating  event_rating_count                                  tags price_rating  rating        city    avg_age  percent_male  percent_female  percent_local_users  success_flag\n",
      "0         15  2025-04-28   19:00:00  23:00:00        27        18.0           14.0          4.555556                 9.0        Karaoke,Tavern,Hotel,Guest DJs         HIGH     5.0     Randers  29.142857      0.428571        0.142857             0.285714             1\n",
      "1         39  2025-05-02   21:00:00  23:00:00        16         0.0            0.0          0.000000                 0.0                                                LOW     4.0  Copenhagen   0.000000      0.000000        0.000000             0.000000             0\n",
      "2          5  2025-04-25   21:00:00  01:00:00        13        47.0           13.0          4.200000                 5.0                               Rap,Pub         HIGH     3.9      Aarhus  33.538462      0.307692        0.230769             0.230769             1\n",
      "3         50  2025-04-18   21:00:00  23:00:00        15         0.0            0.0          0.000000                 0.0                                                LOW     1.0     Aalborg   0.000000      0.000000        0.000000             0.000000             0\n",
      "4         46  2025-04-26   17:00:00  02:00:00        29         0.0            0.0          0.000000                 0.0                                                LOW     4.2     Randers   0.000000      0.000000        0.000000             0.000000             0\n",
      "5         25  2025-04-11   18:00:00  01:00:00        11        15.0           11.0          5.000000                 1.0                    Gastro,Medium,Open          LOW     4.2     Aalborg  33.727273      0.545455        0.363636             0.363636             1\n",
      "6          1  2025-04-23   21:00:00  22:00:00        13        49.0            6.0          4.000000                 2.0                           Karaoke,Low         HIGH     3.9      Aarhus  29.666667      0.333333        0.333333             0.166667             1\n",
      "7         30  2025-04-20   19:00:00  02:00:00        28        21.0            8.0          5.000000                 1.0          Gastro,Art Bar,Live,Open Air       MEDIUM     4.1     Aalborg  28.875000      0.125000        0.375000             0.375000             1\n",
      "8         12  2025-04-20   19:00:00  22:00:00        29        22.0           10.0          4.800000                 5.0           Hotel,Medium,Indie,Open Air          LOW     4.2     Randers  28.300000      0.400000        0.200000             0.200000             1\n",
      "9         36  2025-04-22   17:00:00  00:00:00         7         0.0            0.0          0.000000                 0.0                                                LOW     3.0     Esbjerg   0.000000      0.000000        0.000000             0.000000             0\n",
      "10         2  2025-04-10   19:00:00  01:00:00        10        14.0           12.0          4.400000                 5.0                            Open,Local         HIGH     3.1      Aarhus  31.916667      0.583333        0.166667             0.166667             1\n",
      "11        47  2025-04-14   18:00:00  23:00:00        27         0.0            0.0          0.000000                 0.0                                               HIGH     5.0     Randers   0.000000      0.000000        0.000000             0.000000             0\n",
      "12        22  2025-04-22   20:00:00  22:00:00        13        55.0            8.0          4.000000                 5.0                            Inn,DJ,Pub         HIGH     3.9      Aarhus  35.125000      0.250000        0.625000             0.250000             1\n",
      "13        51  2025-04-30   19:00:00  02:00:00        28         0.0            0.0          0.000000                 0.0                                             MEDIUM     4.1     Aalborg   0.000000      0.000000        0.000000             0.000000             0\n",
      "14        31  2025-04-23   21:00:00  22:00:00        13         0.0            0.0          0.000000                 0.0                                               HIGH     3.9      Aarhus   0.000000      0.000000        0.000000             0.000000             0\n",
      "15        55  2025-04-11   18:00:00  01:00:00        11         0.0            0.0          0.000000                 0.0                                                LOW     4.2     Aalborg   0.000000      0.000000        0.000000             0.000000             0\n",
      "16        13  2025-04-18   17:00:00  00:00:00        17        50.0            6.0          4.250000                 4.0                              Club,Pub         HIGH     2.0     Aalborg  27.666667      0.500000        0.166667             0.333333             1\n",
      "17        41  2025-04-30   21:00:00  22:00:00         6         0.0            0.0          0.000000                 0.0                                                LOW     4.7     Horsens   0.000000      0.000000        0.000000             0.000000             0\n",
      "18        19  2025-04-21   20:00:00  01:00:00         1        13.0           13.0          4.200000                 5.0                       Any,Rave,Lounge       MEDIUM     3.3      Odense  35.923077      0.230769        0.461538             0.384615             1\n",
      "19        56  2025-04-28   18:00:00  01:00:00         4         0.0            0.0          0.000000                 0.0                                                LOW     4.4     Horsens   0.000000      0.000000        0.000000             0.000000             0\n",
      "20        48  2025-04-25   19:00:00  23:00:00        16         0.0            0.0          0.000000                 0.0                                                LOW     4.0  Copenhagen   0.000000      0.000000        0.000000             0.000000             0\n",
      "21         7  2025-04-13   21:00:00  23:00:00        30        20.0            3.0          4.500000                 2.0                         LGBTQ,Student       MEDIUM     3.7     Esbjerg  31.000000      0.000000        0.333333             0.666667             0\n",
      "22        14  2025-04-15   17:00:00  23:00:00         8        14.0            8.0          3.800000                 5.0  Art Bar,Acoustic,Karaoke,Mixed Crowd          LOW     4.9       Vejle  32.000000      0.500000        0.250000             0.250000             0\n",
      "23        34  2025-04-15   20:00:00  02:00:00        27         0.0            0.0          0.000000                 0.0                                               HIGH     5.0     Randers   0.000000      0.000000        0.000000             0.000000             0\n",
      "24        45  2025-04-28   19:00:00  23:00:00        27         0.0            0.0          0.000000                 0.0                                               HIGH     5.0     Randers   0.000000      0.000000        0.000000             0.000000             0\n",
      "25        20  2025-04-18   21:00:00  23:00:00        15         9.0           11.0          4.333333                 3.0                             Indie,Any          LOW     1.0     Aalborg  35.454545      0.363636        0.363636             0.272727             0\n",
      "26        53  2025-04-11   20:00:00  22:00:00        24         0.0            0.0          0.000000                 0.0                                                LOW     4.5     Kolding   0.000000      0.000000        0.000000             0.000000             0\n",
      "27        11  2025-04-30   21:00:00  22:00:00         6        14.0            7.0          4.000000                 2.0              Karaoke,High,Tavern,Jazz          LOW     4.7     Horsens  34.285714      0.428571        0.285714             0.428571             1\n",
      "28         8  2025-04-27   20:00:00  01:00:00        30        10.0           10.0          4.666667                 3.0        Themed Night,40+,Street,Sports       MEDIUM     3.7     Esbjerg  32.000000      0.300000        0.300000             0.200000             1\n",
      "29        58  2025-04-28   20:00:00  23:00:00         5         0.0            0.0          0.000000                 0.0                                                LOW     4.6     Randers   0.000000      0.000000        0.000000             0.000000             0\n",
      "30        57  2025-04-16   20:00:00  22:00:00        15         0.0            0.0          0.000000                 0.0                                                LOW     1.0     Aalborg   0.000000      0.000000        0.000000             0.000000             0\n",
      "31        35  2025-04-25   21:00:00  01:00:00        13         0.0            0.0          0.000000                 0.0                                               HIGH     3.9      Aarhus   0.000000      0.000000        0.000000             0.000000             0\n",
      "32        29  2025-04-19   20:00:00  01:00:00        12        17.0            7.0          4.800000                 5.0               Street,Sports,Medium,DJ       MEDIUM     4.5      Odense  31.142857      0.571429        0.285714             0.285714             1\n",
      "33        21  2025-04-30   19:00:00  02:00:00        28        20.0           11.0          4.000000                 4.0              Local,Themed Night,Beach       MEDIUM     4.1     Aalborg  34.090909      0.181818        0.636364             0.272727             1\n",
      "34        33  2025-05-06   17:00:00  22:00:00        22         0.0            0.0          0.000000                 0.0                                             MEDIUM     4.5    Roskilde   0.000000      0.000000        0.000000             0.000000             0\n",
      "35        42  2025-04-20   19:00:00  22:00:00        29         0.0            0.0          0.000000                 0.0                                                LOW     4.2     Randers   0.000000      0.000000        0.000000             0.000000             0\n",
      "36         9  2025-05-02   21:00:00  23:00:00        16        41.0           13.0          4.750000                 4.0                    Hotel,Indie,Gastro          LOW     4.0  Copenhagen  34.692308      0.230769        0.615385             0.230769             1\n",
      "37        32  2025-04-10   19:00:00  01:00:00        10         0.0            0.0          0.000000                 0.0                                               HIGH     3.1      Aarhus   0.000000      0.000000        0.000000             0.000000             0\n",
      "38        59  2025-04-19   20:00:00  01:00:00        12         0.0            0.0          0.000000                 0.0                                             MEDIUM     4.5      Odense   0.000000      0.000000        0.000000             0.000000             0\n",
      "39        26  2025-04-28   18:00:00  01:00:00         4         8.0           11.0          4.166667                 6.0                            Club,Beach          LOW     4.4     Horsens  34.363636      0.181818        0.272727             0.272727             0\n",
      "40        54  2025-04-21   18:00:00  00:00:00         9         0.0            0.0          0.000000                 0.0                                               HIGH     3.1  Copenhagen   0.000000      0.000000        0.000000             0.000000             0\n",
      "41        49  2025-04-21   20:00:00  01:00:00         1         0.0            0.0          0.000000                 0.0                                             MEDIUM     3.3      Odense   0.000000      0.000000        0.000000             0.000000             0\n",
      "42        40  2025-04-13   21:00:00  00:00:00        22         0.0            0.0          0.000000                 0.0                                             MEDIUM     4.5    Roskilde   0.000000      0.000000        0.000000             0.000000             0\n",
      "43        43  2025-04-18   17:00:00  00:00:00        17         0.0            0.0          0.000000                 0.0                                               HIGH     2.0     Aalborg   0.000000      0.000000        0.000000             0.000000             0\n",
      "44        18  2025-04-25   19:00:00  23:00:00        16        63.0            7.0          4.333333                 3.0               Indie,Tavern,Dress Code          LOW     4.0  Copenhagen  32.000000      0.000000        0.428571             0.428571             1\n",
      "45         6  2025-04-22   17:00:00  00:00:00         7        10.0            9.0          4.800000                 5.0                    Beach,Hotel,Lounge          LOW     3.0     Esbjerg  28.888889      0.555556        0.222222             0.444444             1\n",
      "46        27  2025-04-16   20:00:00  22:00:00        15        19.0            8.0          4.500000                 2.0                    Pub,Techno,Rooftop          LOW     1.0     Aalborg  36.125000      0.375000        0.500000             0.250000             1\n",
      "47        60  2025-04-20   19:00:00  02:00:00        28         0.0            0.0          0.000000                 0.0                                             MEDIUM     4.1     Aalborg   0.000000      0.000000        0.000000             0.000000             0\n",
      "48        17  2025-04-14   18:00:00  23:00:00        27        15.0            6.0          5.000000                 1.0                          Pop,Acoustic         HIGH     5.0     Randers  37.833333      0.333333        0.666667             0.166667             1\n",
      "49        37  2025-04-13   21:00:00  23:00:00        30         0.0            0.0          0.000000                 0.0                                             MEDIUM     3.7     Esbjerg   0.000000      0.000000        0.000000             0.000000             0\n"
     ]
    }
   ],
   "source": [
    "# Merge user_event_like: count likes per event\n",
    "likes = df_user_event_like.groupby(\"event_id\").size().reset_index(name=\"like_count\")\n",
    "\n",
    "# Merge user_event_checkin: count check-ins per event\n",
    "checkins = df_user_event_checkin.groupby(\"event_id\").size().reset_index(name=\"checkin_count\")\n",
    "\n",
    "# Merge user_event_rating: average rating per event\n",
    "ratings = df_user_event_rating.groupby(\"event_id\").agg(\n",
    "    avg_event_rating=(\"rating\", \"mean\"),\n",
    "    event_rating_count=(\"rating\", \"count\")\n",
    ").reset_index()\n",
    "\n",
    "# Merge event_tag with tag to get tag names\n",
    "event_tags = pd.merge(df_event_tag, df_tag, on=\"tag_id\", how=\"left\")\n",
    "tags = event_tags.groupby(\"event_id\").agg(tags=(\"name\", lambda x: \",\".join(x))).reset_index()\n",
    "\n",
    "# Merge venue with location to get venue city\n",
    "venue_full = pd.merge(df_venue, df_location, on=\"venue_id\", how=\"left\")\n",
    "\n",
    "# Merge user check-in with userp for demographics\n",
    "user_demo = pd.merge(df_user_event_checkin, df_userp, on=\"user_id\", how=\"left\")\n",
    "user_demo[\"age\"] = pd.Timestamp(\"now\").year - pd.to_datetime(user_demo[\"birth_date\"]).dt.year\n",
    "user_stats = user_demo.groupby(\"event_id\").agg(\n",
    "    avg_age=(\"age\", \"mean\"),\n",
    "    percent_male=(\"gender\", lambda x: (x == \"male\").mean()),\n",
    "    percent_female=(\"gender\", lambda x: (x == \"female\").mean()),\n",
    "    percent_local_users=(\"city\", lambda x: (x == x.mode()[0]).mean() if not x.mode().empty else 0)\n",
    ").reset_index()\n",
    "\n",
    "# Start with base event info\n",
    "df_merged = df_event.copy()\n",
    "\n",
    "# Join step-by-step\n",
    "df_merged = df_merged.merge(likes, on=\"event_id\", how=\"left\")\n",
    "df_merged = df_merged.merge(checkins, on=\"event_id\", how=\"left\")\n",
    "df_merged = df_merged.merge(ratings, on=\"event_id\", how=\"left\")\n",
    "df_merged = df_merged.merge(tags, on=\"event_id\", how=\"left\")\n",
    "df_merged = df_merged.merge(venue_full, on=\"venue_id\", how=\"left\")\n",
    "df_merged = df_merged.merge(user_stats, on=\"event_id\", how=\"left\")\n",
    "# Define success_flag based on thresholds\n",
    "df_merged[\"success_flag\"] = (\n",
    "    (df_merged[\"like_count\"] >= 10) &\n",
    "    (df_merged[\"checkin_count\"] >= 5) &\n",
    "    (df_merged[\"avg_event_rating\"] >= 4.0)\n",
    ").astype(int)\n",
    "\n",
    "\n",
    "# Optional: Fill NaNs if desired\n",
    "df_merged.fillna({\n",
    "    \"like_count\": 0,\n",
    "    \"checkin_count\": 0,\n",
    "    \"avg_event_rating\": 0,\n",
    "    \"tags\": \"\",\n",
    "    \"price_rating\": 0,\n",
    "    \"venue_rating\": 0,\n",
    "    \"city\": \"Unknown\",\n",
    "    \"avg_age\": 0,\n",
    "    \"percent_male\": 0,\n",
    "    \"percent_female\": 0,\n",
    "    \"percent_local_users\": 0,\n",
    "    \"event_rating_count\": 0\n",
    "}, inplace=True)\n",
    "\n",
    "pd.set_option('display.max_columns', None)\n",
    "pd.set_option('display.expand_frame_repr', False)\n",
    "print(df_merged.head(50))\n",
    "\n"
   ]
  },
  {
   "cell_type": "markdown",
   "id": "852deabb",
   "metadata": {},
   "source": [
    "### Check how balanced success flag is"
   ]
  },
  {
   "cell_type": "code",
   "execution_count": 4,
   "id": "39022b3e",
   "metadata": {},
   "outputs": [
    {
     "name": "stdout",
     "output_type": "stream",
     "text": [
      "success_flag\n",
      "0    0.583333\n",
      "1    0.416667\n",
      "Name: proportion, dtype: float64\n"
     ]
    }
   ],
   "source": [
    "print(df_merged[\"success_flag\"].value_counts(normalize=True))\n"
   ]
  },
  {
   "cell_type": "markdown",
   "id": "6902dafd",
   "metadata": {},
   "source": [
    "#### Add 'has_demographics' so model understands whether he can rely on demographics data "
   ]
  },
  {
   "cell_type": "code",
   "execution_count": 5,
   "id": "33ab04ad",
   "metadata": {},
   "outputs": [],
   "source": [
    "df_merged[\"has_demographics\"] = (df_merged[\"avg_age\"] > 0).astype(int)"
   ]
  },
  {
   "cell_type": "markdown",
   "id": "7dd1c60f",
   "metadata": {},
   "source": [
    "## Ordinal encoding"
   ]
  },
  {
   "cell_type": "code",
   "execution_count": 6,
   "id": "82108cd9",
   "metadata": {},
   "outputs": [
    {
     "name": "stdout",
     "output_type": "stream",
     "text": [
      "    event_id event_date start_time  end_time  venue_id  like_count  checkin_count  avg_event_rating  event_rating_count                                  tags price_rating  rating        city    avg_age  percent_male  percent_female  percent_local_users  success_flag  has_demographics  price_rating_encoded\n",
      "0         15 2025-04-28   19:00:00  23:00:00        27        18.0           14.0          4.555556                 9.0        Karaoke,Tavern,Hotel,Guest DJs         HIGH     5.0     Randers  29.142857      0.428571        0.142857             0.285714             1                 1                     3\n",
      "1         39 2025-05-02   21:00:00  23:00:00        16         0.0            0.0          0.000000                 0.0                                                LOW     4.0  Copenhagen   0.000000      0.000000        0.000000             0.000000             0                 0                     1\n",
      "2          5 2025-04-25   21:00:00  01:00:00        13        47.0           13.0          4.200000                 5.0                               Rap,Pub         HIGH     3.9      Aarhus  33.538462      0.307692        0.230769             0.230769             1                 1                     3\n",
      "3         50 2025-04-18   21:00:00  23:00:00        15         0.0            0.0          0.000000                 0.0                                                LOW     1.0     Aalborg   0.000000      0.000000        0.000000             0.000000             0                 0                     1\n",
      "4         46 2025-04-26   17:00:00  02:00:00        29         0.0            0.0          0.000000                 0.0                                                LOW     4.2     Randers   0.000000      0.000000        0.000000             0.000000             0                 0                     1\n",
      "5         25 2025-04-11   18:00:00  01:00:00        11        15.0           11.0          5.000000                 1.0                    Gastro,Medium,Open          LOW     4.2     Aalborg  33.727273      0.545455        0.363636             0.363636             1                 1                     1\n",
      "6          1 2025-04-23   21:00:00  22:00:00        13        49.0            6.0          4.000000                 2.0                           Karaoke,Low         HIGH     3.9      Aarhus  29.666667      0.333333        0.333333             0.166667             1                 1                     3\n",
      "7         30 2025-04-20   19:00:00  02:00:00        28        21.0            8.0          5.000000                 1.0          Gastro,Art Bar,Live,Open Air       MEDIUM     4.1     Aalborg  28.875000      0.125000        0.375000             0.375000             1                 1                     2\n",
      "8         12 2025-04-20   19:00:00  22:00:00        29        22.0           10.0          4.800000                 5.0           Hotel,Medium,Indie,Open Air          LOW     4.2     Randers  28.300000      0.400000        0.200000             0.200000             1                 1                     1\n",
      "9         36 2025-04-22   17:00:00  00:00:00         7         0.0            0.0          0.000000                 0.0                                                LOW     3.0     Esbjerg   0.000000      0.000000        0.000000             0.000000             0                 0                     1\n",
      "10         2 2025-04-10   19:00:00  01:00:00        10        14.0           12.0          4.400000                 5.0                            Open,Local         HIGH     3.1      Aarhus  31.916667      0.583333        0.166667             0.166667             1                 1                     3\n",
      "11        47 2025-04-14   18:00:00  23:00:00        27         0.0            0.0          0.000000                 0.0                                               HIGH     5.0     Randers   0.000000      0.000000        0.000000             0.000000             0                 0                     3\n",
      "12        22 2025-04-22   20:00:00  22:00:00        13        55.0            8.0          4.000000                 5.0                            Inn,DJ,Pub         HIGH     3.9      Aarhus  35.125000      0.250000        0.625000             0.250000             1                 1                     3\n",
      "13        51 2025-04-30   19:00:00  02:00:00        28         0.0            0.0          0.000000                 0.0                                             MEDIUM     4.1     Aalborg   0.000000      0.000000        0.000000             0.000000             0                 0                     2\n",
      "14        31 2025-04-23   21:00:00  22:00:00        13         0.0            0.0          0.000000                 0.0                                               HIGH     3.9      Aarhus   0.000000      0.000000        0.000000             0.000000             0                 0                     3\n",
      "15        55 2025-04-11   18:00:00  01:00:00        11         0.0            0.0          0.000000                 0.0                                                LOW     4.2     Aalborg   0.000000      0.000000        0.000000             0.000000             0                 0                     1\n",
      "16        13 2025-04-18   17:00:00  00:00:00        17        50.0            6.0          4.250000                 4.0                              Club,Pub         HIGH     2.0     Aalborg  27.666667      0.500000        0.166667             0.333333             1                 1                     3\n",
      "17        41 2025-04-30   21:00:00  22:00:00         6         0.0            0.0          0.000000                 0.0                                                LOW     4.7     Horsens   0.000000      0.000000        0.000000             0.000000             0                 0                     1\n",
      "18        19 2025-04-21   20:00:00  01:00:00         1        13.0           13.0          4.200000                 5.0                       Any,Rave,Lounge       MEDIUM     3.3      Odense  35.923077      0.230769        0.461538             0.384615             1                 1                     2\n",
      "19        56 2025-04-28   18:00:00  01:00:00         4         0.0            0.0          0.000000                 0.0                                                LOW     4.4     Horsens   0.000000      0.000000        0.000000             0.000000             0                 0                     1\n",
      "20        48 2025-04-25   19:00:00  23:00:00        16         0.0            0.0          0.000000                 0.0                                                LOW     4.0  Copenhagen   0.000000      0.000000        0.000000             0.000000             0                 0                     1\n",
      "21         7 2025-04-13   21:00:00  23:00:00        30        20.0            3.0          4.500000                 2.0                         LGBTQ,Student       MEDIUM     3.7     Esbjerg  31.000000      0.000000        0.333333             0.666667             0                 1                     2\n",
      "22        14 2025-04-15   17:00:00  23:00:00         8        14.0            8.0          3.800000                 5.0  Art Bar,Acoustic,Karaoke,Mixed Crowd          LOW     4.9       Vejle  32.000000      0.500000        0.250000             0.250000             0                 1                     1\n",
      "23        34 2025-04-15   20:00:00  02:00:00        27         0.0            0.0          0.000000                 0.0                                               HIGH     5.0     Randers   0.000000      0.000000        0.000000             0.000000             0                 0                     3\n",
      "24        45 2025-04-28   19:00:00  23:00:00        27         0.0            0.0          0.000000                 0.0                                               HIGH     5.0     Randers   0.000000      0.000000        0.000000             0.000000             0                 0                     3\n",
      "25        20 2025-04-18   21:00:00  23:00:00        15         9.0           11.0          4.333333                 3.0                             Indie,Any          LOW     1.0     Aalborg  35.454545      0.363636        0.363636             0.272727             0                 1                     1\n",
      "26        53 2025-04-11   20:00:00  22:00:00        24         0.0            0.0          0.000000                 0.0                                                LOW     4.5     Kolding   0.000000      0.000000        0.000000             0.000000             0                 0                     1\n",
      "27        11 2025-04-30   21:00:00  22:00:00         6        14.0            7.0          4.000000                 2.0              Karaoke,High,Tavern,Jazz          LOW     4.7     Horsens  34.285714      0.428571        0.285714             0.428571             1                 1                     1\n",
      "28         8 2025-04-27   20:00:00  01:00:00        30        10.0           10.0          4.666667                 3.0        Themed Night,40+,Street,Sports       MEDIUM     3.7     Esbjerg  32.000000      0.300000        0.300000             0.200000             1                 1                     2\n",
      "29        58 2025-04-28   20:00:00  23:00:00         5         0.0            0.0          0.000000                 0.0                                                LOW     4.6     Randers   0.000000      0.000000        0.000000             0.000000             0                 0                     1\n",
      "30        57 2025-04-16   20:00:00  22:00:00        15         0.0            0.0          0.000000                 0.0                                                LOW     1.0     Aalborg   0.000000      0.000000        0.000000             0.000000             0                 0                     1\n",
      "31        35 2025-04-25   21:00:00  01:00:00        13         0.0            0.0          0.000000                 0.0                                               HIGH     3.9      Aarhus   0.000000      0.000000        0.000000             0.000000             0                 0                     3\n",
      "32        29 2025-04-19   20:00:00  01:00:00        12        17.0            7.0          4.800000                 5.0               Street,Sports,Medium,DJ       MEDIUM     4.5      Odense  31.142857      0.571429        0.285714             0.285714             1                 1                     2\n",
      "33        21 2025-04-30   19:00:00  02:00:00        28        20.0           11.0          4.000000                 4.0              Local,Themed Night,Beach       MEDIUM     4.1     Aalborg  34.090909      0.181818        0.636364             0.272727             1                 1                     2\n",
      "34        33 2025-05-06   17:00:00  22:00:00        22         0.0            0.0          0.000000                 0.0                                             MEDIUM     4.5    Roskilde   0.000000      0.000000        0.000000             0.000000             0                 0                     2\n",
      "35        42 2025-04-20   19:00:00  22:00:00        29         0.0            0.0          0.000000                 0.0                                                LOW     4.2     Randers   0.000000      0.000000        0.000000             0.000000             0                 0                     1\n",
      "36         9 2025-05-02   21:00:00  23:00:00        16        41.0           13.0          4.750000                 4.0                    Hotel,Indie,Gastro          LOW     4.0  Copenhagen  34.692308      0.230769        0.615385             0.230769             1                 1                     1\n",
      "37        32 2025-04-10   19:00:00  01:00:00        10         0.0            0.0          0.000000                 0.0                                               HIGH     3.1      Aarhus   0.000000      0.000000        0.000000             0.000000             0                 0                     3\n",
      "38        59 2025-04-19   20:00:00  01:00:00        12         0.0            0.0          0.000000                 0.0                                             MEDIUM     4.5      Odense   0.000000      0.000000        0.000000             0.000000             0                 0                     2\n",
      "39        26 2025-04-28   18:00:00  01:00:00         4         8.0           11.0          4.166667                 6.0                            Club,Beach          LOW     4.4     Horsens  34.363636      0.181818        0.272727             0.272727             0                 1                     1\n",
      "40        54 2025-04-21   18:00:00  00:00:00         9         0.0            0.0          0.000000                 0.0                                               HIGH     3.1  Copenhagen   0.000000      0.000000        0.000000             0.000000             0                 0                     3\n",
      "41        49 2025-04-21   20:00:00  01:00:00         1         0.0            0.0          0.000000                 0.0                                             MEDIUM     3.3      Odense   0.000000      0.000000        0.000000             0.000000             0                 0                     2\n",
      "42        40 2025-04-13   21:00:00  00:00:00        22         0.0            0.0          0.000000                 0.0                                             MEDIUM     4.5    Roskilde   0.000000      0.000000        0.000000             0.000000             0                 0                     2\n",
      "43        43 2025-04-18   17:00:00  00:00:00        17         0.0            0.0          0.000000                 0.0                                               HIGH     2.0     Aalborg   0.000000      0.000000        0.000000             0.000000             0                 0                     3\n",
      "44        18 2025-04-25   19:00:00  23:00:00        16        63.0            7.0          4.333333                 3.0               Indie,Tavern,Dress Code          LOW     4.0  Copenhagen  32.000000      0.000000        0.428571             0.428571             1                 1                     1\n",
      "45         6 2025-04-22   17:00:00  00:00:00         7        10.0            9.0          4.800000                 5.0                    Beach,Hotel,Lounge          LOW     3.0     Esbjerg  28.888889      0.555556        0.222222             0.444444             1                 1                     1\n",
      "46        27 2025-04-16   20:00:00  22:00:00        15        19.0            8.0          4.500000                 2.0                    Pub,Techno,Rooftop          LOW     1.0     Aalborg  36.125000      0.375000        0.500000             0.250000             1                 1                     1\n",
      "47        60 2025-04-20   19:00:00  02:00:00        28         0.0            0.0          0.000000                 0.0                                             MEDIUM     4.1     Aalborg   0.000000      0.000000        0.000000             0.000000             0                 0                     2\n",
      "48        17 2025-04-14   18:00:00  23:00:00        27        15.0            6.0          5.000000                 1.0                          Pop,Acoustic         HIGH     5.0     Randers  37.833333      0.333333        0.666667             0.166667             1                 1                     3\n",
      "49        37 2025-04-13   21:00:00  23:00:00        30         0.0            0.0          0.000000                 0.0                                             MEDIUM     3.7     Esbjerg   0.000000      0.000000        0.000000             0.000000             0                 0                     2\n"
     ]
    }
   ],
   "source": [
    "df_merged[\"price_rating\"] = df_merged[\"price_rating\"].str.upper()\n",
    "price_map = {\"LOW\": 1, \"MEDIUM\": 2, \"HIGH\": 3}\n",
    "df_merged[\"price_rating_encoded\"] = df_merged[\"price_rating\"].map(price_map)\n",
    "\n",
    "df_merged[\"event_date\"] = pd.to_datetime(df_merged[\"event_date\"])\n",
    "df_merged[\"start_time\"] = pd.to_datetime(df_merged[\"start_time\"], format=\"%H:%M:%S\").dt.time\n",
    "df_merged[\"end_time\"] = pd.to_datetime(df_merged[\"end_time\"], format=\"%H:%M:%S\").dt.time\n",
    "\n",
    "\n",
    "\n",
    "pd.set_option('display.max_columns', None)\n",
    "pd.set_option('display.expand_frame_repr', False)\n",
    "print(df_merged.head(50))\n"
   ]
  },
  {
   "cell_type": "markdown",
   "id": "f87d6104",
   "metadata": {},
   "source": [
    "### Ordinal encoding of tags - Since tags do not follow frequency like Low->Medium-> High. We count matching tags and assign ordinal values to them. "
   ]
  },
  {
   "cell_type": "code",
   "execution_count": 7,
   "id": "abea9080",
   "metadata": {},
   "outputs": [
    {
     "name": "stdout",
     "output_type": "stream",
     "text": [
      "                             tags     tags_encoded\n",
      "0  Karaoke,Tavern,Hotel,Guest DJs    [3, 7, 1, 26]\n",
      "1                                               []\n",
      "2                         Rap,Pub           [8, 4]\n",
      "3                                               []\n",
      "4                                               []\n",
      "5              Gastro,Medium,Open       [9, 5, 10]\n",
      "6                     Karaoke,Low          [3, 27]\n",
      "7    Gastro,Art Bar,Live,Open Air  [9, 14, 15, 16]\n",
      "8     Hotel,Medium,Indie,Open Air    [1, 5, 2, 16]\n",
      "9                                               []\n"
     ]
    }
   ],
   "source": [
    "# Step 1: Split all tags and count frequency\n",
    "from collections import Counter\n",
    "\n",
    "# Split tags and flatten list\n",
    "all_tags = df_merged[\"tags\"].dropna().str.split(\",\").sum()\n",
    "tag_counts = Counter(all_tags)\n",
    "\n",
    "# Step 2: Assign ordinal codes (most common gets lowest code)\n",
    "sorted_tags = [tag for tag, _ in tag_counts.most_common()]\n",
    "tag_to_code = {tag: idx for idx, tag in enumerate(sorted_tags)}\n",
    "\n",
    "# Step 3: Map encoded tags back to each row (as list of ints)\n",
    "def encode_tag_list(tag_str):\n",
    "    if pd.isna(tag_str) or tag_str.strip() == \"\":\n",
    "        return []\n",
    "    return [tag_to_code[tag] for tag in tag_str.split(\",\") if tag in tag_to_code]\n",
    "\n",
    "df_merged[\"tags_encoded\"] = df_merged[\"tags\"].apply(encode_tag_list)\n",
    "print(df_merged[[\"tags\", \"tags_encoded\"]].head(10))\n",
    "\n"
   ]
  },
  {
   "cell_type": "markdown",
   "id": "8ee5f4e6",
   "metadata": {},
   "source": [
    "### Since XGboost doesn't take in arrays into classifying output, we multi-hot encode these tags"
   ]
  },
  {
   "cell_type": "code",
   "execution_count": 8,
   "id": "58c1dbe4",
   "metadata": {},
   "outputs": [],
   "source": [
    "mlb = MultiLabelBinarizer()\n",
    "tags_multi_hot = mlb.fit_transform(df_merged[\"tags_encoded\"])\n",
    "\n",
    "# Step 2: Clean and flatten tag columns\n",
    "tag_names = [str(cls).replace(\" \", \"_\").replace(\"/\", \"_\") for cls in mlb.classes_]\n",
    "tags_df = pd.DataFrame(tags_multi_hot, columns=[f\"type_tag_{name}\" for name in tag_names])\n",
    "\n",
    "# Step 3: Ensure all tag values are scalar integers\n",
    "tags_df = tags_df.astype(\"int8\")  # or \"int32\" if many rows\n",
    "\n",
    "# Step 4: Reset index before merge to avoid nesting\n",
    "tags_df.index = df_merged.index\n",
    "df_merged = df_merged.reset_index(drop=True)\n",
    "\n",
    "# Step 5: Concatenate the tag features\n",
    "df_merged = pd.concat([df_merged, tags_df], axis=1)"
   ]
  },
  {
   "cell_type": "code",
   "execution_count": 9,
   "id": "9607e3d4",
   "metadata": {},
   "outputs": [
    {
     "name": "stdout",
     "output_type": "stream",
     "text": [
      "⚠️ Problem: column 'tags_encoded' contains nested structures!\n"
     ]
    }
   ],
   "source": [
    "for col in df_merged.columns:\n",
    "    if isinstance(df_merged[col].iloc[0], (pd.Series, pd.DataFrame, list, dict)):\n",
    "        print(f\"⚠️ Problem: column '{col}' contains nested structures!\")\n"
   ]
  },
  {
   "cell_type": "markdown",
   "id": "6b240e44",
   "metadata": {},
   "source": [
    "### Same ordinal encoding for cities"
   ]
  },
  {
   "cell_type": "code",
   "execution_count": 10,
   "id": "87a424fa",
   "metadata": {},
   "outputs": [
    {
     "name": "stdout",
     "output_type": "stream",
     "text": [
      "          city  city_encoded\n",
      "0      Randers             0\n",
      "3      Aalborg             1\n",
      "2       Aarhus             2\n",
      "1   Copenhagen             3\n",
      "9      Esbjerg             4\n",
      "17     Horsens             5\n",
      "18      Odense             6\n",
      "34    Roskilde             7\n",
      "22       Vejle             8\n",
      "26     Kolding             9\n"
     ]
    }
   ],
   "source": [
    "# Frequency-based ordinal encoding\n",
    "city_freq = df_merged[\"city\"].value_counts().index.tolist()\n",
    "city_to_code = {city: idx for idx, city in enumerate(city_freq)}\n",
    "\n",
    "df_merged[\"city_encoded\"] = df_merged[\"city\"].map(city_to_code)\n",
    "\n",
    "print(df_merged[[\"city\", \"city_encoded\"]].drop_duplicates().sort_values(\"city_encoded\"))\n"
   ]
  },
  {
   "cell_type": "code",
   "execution_count": 11,
   "id": "05133d74",
   "metadata": {},
   "outputs": [
    {
     "name": "stdout",
     "output_type": "stream",
     "text": [
      "   event_id event_date start_time  end_time  venue_id  like_count  checkin_count  avg_event_rating  event_rating_count                            tags price_rating  rating        city    avg_age  percent_male  percent_female  percent_local_users  success_flag  has_demographics  price_rating_encoded     tags_encoded  type_tag_1  type_tag_2  type_tag_3  type_tag_4  type_tag_5  type_tag_6  type_tag_7  type_tag_8  type_tag_9  type_tag_10  type_tag_11  type_tag_12  type_tag_13  type_tag_14  type_tag_15  type_tag_16  type_tag_17  type_tag_18  type_tag_19  type_tag_20  type_tag_21  type_tag_22  type_tag_23  type_tag_24  type_tag_25  type_tag_26  type_tag_27  type_tag_28  type_tag_29  type_tag_30  type_tag_31  type_tag_32  type_tag_33  type_tag_34  type_tag_35  type_tag_36  type_tag_37  type_tag_38  type_tag_39  type_tag_40  city_encoded  event_weekday_num  is_holiday\n",
      "0        15 2025-04-28   19:00:00  23:00:00        27        18.0           14.0          4.555556                 9.0  Karaoke,Tavern,Hotel,Guest DJs         HIGH     5.0     Randers  29.142857      0.428571        0.142857             0.285714             1                 1                     3    [3, 7, 1, 26]           1           0           1           0           0           0           1           0           0            0            0            0            0            0            0            0            0            0            0            0            0            0            0            0            0            1            0            0            0            0            0            0            0            0            0            0            0            0            0            0             0                  0           0\n",
      "1        39 2025-05-02   21:00:00  23:00:00        16         0.0            0.0          0.000000                 0.0                                          LOW     4.0  Copenhagen   0.000000      0.000000        0.000000             0.000000             0                 0                     1               []           0           0           0           0           0           0           0           0           0            0            0            0            0            0            0            0            0            0            0            0            0            0            0            0            0            0            0            0            0            0            0            0            0            0            0            0            0            0            0            0             3                  4           0\n",
      "2         5 2025-04-25   21:00:00  01:00:00        13        47.0           13.0          4.200000                 5.0                         Rap,Pub         HIGH     3.9      Aarhus  33.538462      0.307692        0.230769             0.230769             1                 1                     3           [8, 4]           0           0           0           1           0           0           0           1           0            0            0            0            0            0            0            0            0            0            0            0            0            0            0            0            0            0            0            0            0            0            0            0            0            0            0            0            0            0            0            0             2                  4           0\n",
      "3        50 2025-04-18   21:00:00  23:00:00        15         0.0            0.0          0.000000                 0.0                                          LOW     1.0     Aalborg   0.000000      0.000000        0.000000             0.000000             0                 0                     1               []           0           0           0           0           0           0           0           0           0            0            0            0            0            0            0            0            0            0            0            0            0            0            0            0            0            0            0            0            0            0            0            0            0            0            0            0            0            0            0            0             1                  4           0\n",
      "4        46 2025-04-26   17:00:00  02:00:00        29         0.0            0.0          0.000000                 0.0                                          LOW     4.2     Randers   0.000000      0.000000        0.000000             0.000000             0                 0                     1               []           0           0           0           0           0           0           0           0           0            0            0            0            0            0            0            0            0            0            0            0            0            0            0            0            0            0            0            0            0            0            0            0            0            0            0            0            0            0            0            0             0                  5           0\n",
      "5        25 2025-04-11   18:00:00  01:00:00        11        15.0           11.0          5.000000                 1.0              Gastro,Medium,Open          LOW     4.2     Aalborg  33.727273      0.545455        0.363636             0.363636             1                 1                     1       [9, 5, 10]           0           0           0           0           1           0           0           0           1            1            0            0            0            0            0            0            0            0            0            0            0            0            0            0            0            0            0            0            0            0            0            0            0            0            0            0            0            0            0            0             1                  4           0\n",
      "6         1 2025-04-23   21:00:00  22:00:00        13        49.0            6.0          4.000000                 2.0                     Karaoke,Low         HIGH     3.9      Aarhus  29.666667      0.333333        0.333333             0.166667             1                 1                     3          [3, 27]           0           0           1           0           0           0           0           0           0            0            0            0            0            0            0            0            0            0            0            0            0            0            0            0            0            0            1            0            0            0            0            0            0            0            0            0            0            0            0            0             2                  2           0\n",
      "7        30 2025-04-20   19:00:00  02:00:00        28        21.0            8.0          5.000000                 1.0    Gastro,Art Bar,Live,Open Air       MEDIUM     4.1     Aalborg  28.875000      0.125000        0.375000             0.375000             1                 1                     2  [9, 14, 15, 16]           0           0           0           0           0           0           0           0           1            0            0            0            0            1            1            1            0            0            0            0            0            0            0            0            0            0            0            0            0            0            0            0            0            0            0            0            0            0            0            0             1                  6           0\n",
      "8        12 2025-04-20   19:00:00  22:00:00        29        22.0           10.0          4.800000                 5.0     Hotel,Medium,Indie,Open Air          LOW     4.2     Randers  28.300000      0.400000        0.200000             0.200000             1                 1                     1    [1, 5, 2, 16]           1           1           0           0           1           0           0           0           0            0            0            0            0            0            0            1            0            0            0            0            0            0            0            0            0            0            0            0            0            0            0            0            0            0            0            0            0            0            0            0             0                  6           0\n",
      "9        36 2025-04-22   17:00:00  00:00:00         7         0.0            0.0          0.000000                 0.0                                          LOW     3.0     Esbjerg   0.000000      0.000000        0.000000             0.000000             0                 0                     1               []           0           0           0           0           0           0           0           0           0            0            0            0            0            0            0            0            0            0            0            0            0            0            0            0            0            0            0            0            0            0            0            0            0            0            0            0            0            0            0            0             4                  1           0\n"
     ]
    }
   ],
   "source": [
    "import holidays\n",
    "\n",
    "df_merged[\"event_weekday_num\"] = df_merged[\"event_date\"].dt.weekday  # 0=Monday, 6=Sunday\n",
    "\n",
    "# Step 2: Flag holidays using Denmark's calendar\n",
    "dk_holidays = holidays.country_holidays(\"DK\")\n",
    "df_merged[\"is_holiday\"] = df_merged[\"event_date\"].isin(dk_holidays).astype(int)\n",
    "df_merged[\"event_weekday_num\"] = df_merged[\"event_date\"].dt.weekday\n",
    "\n",
    "\n",
    "print(df_merged.head(10))"
   ]
  },
  {
   "cell_type": "markdown",
   "id": "78634919",
   "metadata": {},
   "source": [
    "## Drop columns and run XGBOOST"
   ]
  },
  {
   "cell_type": "code",
   "execution_count": 18,
   "id": "78c07c91",
   "metadata": {},
   "outputs": [
    {
     "name": "stderr",
     "output_type": "stream",
     "text": [
      "C:\\Users\\blaiz\\AppData\\Local\\Packages\\PythonSoftwareFoundation.Python.3.12_qbz5n2kfra8p0\\LocalCache\\local-packages\\Python312\\site-packages\\xgboost\\training.py:183: UserWarning: [10:34:32] WARNING: C:\\actions-runner\\_work\\xgboost\\xgboost\\src\\learner.cc:738: \n",
      "Parameters: { \"use_label_encoder\" } are not used.\n",
      "\n",
      "  bst.update(dtrain, iteration=i, fobj=obj)\n"
     ]
    },
    {
     "data": {
      "text/html": [
       "<div>\n",
       "<style scoped>\n",
       "    .dataframe tbody tr th:only-of-type {\n",
       "        vertical-align: middle;\n",
       "    }\n",
       "\n",
       "    .dataframe tbody tr th {\n",
       "        vertical-align: top;\n",
       "    }\n",
       "\n",
       "    .dataframe thead th {\n",
       "        text-align: right;\n",
       "    }\n",
       "</style>\n",
       "<table border=\"1\" class=\"dataframe\">\n",
       "  <thead>\n",
       "    <tr style=\"text-align: right;\">\n",
       "      <th></th>\n",
       "      <th>precision</th>\n",
       "      <th>recall</th>\n",
       "      <th>f1-score</th>\n",
       "      <th>support</th>\n",
       "    </tr>\n",
       "  </thead>\n",
       "  <tbody>\n",
       "    <tr>\n",
       "      <th>0</th>\n",
       "      <td>0.380952</td>\n",
       "      <td>0.727273</td>\n",
       "      <td>0.500000</td>\n",
       "      <td>11.000000</td>\n",
       "    </tr>\n",
       "    <tr>\n",
       "      <th>1</th>\n",
       "      <td>0.000000</td>\n",
       "      <td>0.000000</td>\n",
       "      <td>0.000000</td>\n",
       "      <td>13.000000</td>\n",
       "    </tr>\n",
       "    <tr>\n",
       "      <th>accuracy</th>\n",
       "      <td>0.333333</td>\n",
       "      <td>0.333333</td>\n",
       "      <td>0.333333</td>\n",
       "      <td>0.333333</td>\n",
       "    </tr>\n",
       "    <tr>\n",
       "      <th>macro avg</th>\n",
       "      <td>0.190476</td>\n",
       "      <td>0.363636</td>\n",
       "      <td>0.250000</td>\n",
       "      <td>24.000000</td>\n",
       "    </tr>\n",
       "    <tr>\n",
       "      <th>weighted avg</th>\n",
       "      <td>0.174603</td>\n",
       "      <td>0.333333</td>\n",
       "      <td>0.229167</td>\n",
       "      <td>24.000000</td>\n",
       "    </tr>\n",
       "  </tbody>\n",
       "</table>\n",
       "</div>"
      ],
      "text/plain": [
       "              precision    recall  f1-score    support\n",
       "0              0.380952  0.727273  0.500000  11.000000\n",
       "1              0.000000  0.000000  0.000000  13.000000\n",
       "accuracy       0.333333  0.333333  0.333333   0.333333\n",
       "macro avg      0.190476  0.363636  0.250000  24.000000\n",
       "weighted avg   0.174603  0.333333  0.229167  24.000000"
      ]
     },
     "metadata": {},
     "output_type": "display_data"
    }
   ],
   "source": [
    "from sklearn.model_selection import train_test_split\n",
    "from sklearn.metrics import precision_score, classification_report\n",
    "from xgboost import XGBClassifier\n",
    "from IPython.display import display\n",
    "\n",
    "drop_cols = [\"tags\", \"tags_encoded\", \"event_date\", \"city\", \"success_flag\",\"start_time\",\"end_time\",\"price_rating\",\"event_id\",\"like_count\",\"checkin_count\", \"avg_event_rating\", \"venue_id\",\"event_rating_count\", \"avg_age\", \"percent_male\", \"percent_female\",\"percent_local_users\", \"has_demographics\", \"rating\"]\n",
    "X = df_merged.drop(columns=drop_cols)\n",
    "y = df_merged[\"success_flag\"]\n",
    "\n",
    "# Step 6: Train/test split\n",
    "X_train, X_test, y_train, y_test = train_test_split(X, y, test_size=0.4, random_state=42)\n",
    "\n",
    "# Step 7: Train XGBoost model\n",
    "model = XGBClassifier(eval_metric=\"logloss\", use_label_encoder=False, random_state=42)\n",
    "model.fit(X_train, y_train)\n",
    "\n",
    "# Step 8: Predict and evaluate\n",
    "probs = model.predict_proba(X_test)[:, 1]\n",
    "threshold = 0.5\n",
    "y_pred = (probs >= threshold).astype(int)\n",
    "precision = precision_score(y_test, y_pred)\n",
    "report = classification_report(y_test, y_pred, output_dict=True)\n",
    "report_df = pd.DataFrame(report).transpose()\n",
    "\n",
    "\n",
    "display(report_df)"
   ]
  },
  {
   "cell_type": "code",
   "execution_count": 19,
   "id": "7e1eaf2c",
   "metadata": {},
   "outputs": [
    {
     "name": "stdout",
     "output_type": "stream",
     "text": [
      "   price_rating_encoded  type_tag_1  type_tag_2  type_tag_3  type_tag_4  type_tag_5  type_tag_6  type_tag_7  type_tag_8  type_tag_9  type_tag_10  type_tag_11  type_tag_12  type_tag_13  type_tag_14  type_tag_15  type_tag_16  type_tag_17  type_tag_18  type_tag_19  type_tag_20  type_tag_21  type_tag_22  type_tag_23  type_tag_24  type_tag_25  type_tag_26  type_tag_27  type_tag_28  type_tag_29  type_tag_30  type_tag_31  type_tag_32  type_tag_33  type_tag_34  type_tag_35  type_tag_36  type_tag_37  type_tag_38  type_tag_39  type_tag_40  city_encoded  event_weekday_num  is_holiday\n",
      "0                     3           1           0           1           0           0           0           1           0           0            0            0            0            0            0            0            0            0            0            0            0            0            0            0            0            0            1            0            0            0            0            0            0            0            0            0            0            0            0            0            0             0                  0           0\n",
      "1                     1           0           0           0           0           0           0           0           0           0            0            0            0            0            0            0            0            0            0            0            0            0            0            0            0            0            0            0            0            0            0            0            0            0            0            0            0            0            0            0            0             3                  4           0\n",
      "2                     3           0           0           0           1           0           0           0           1           0            0            0            0            0            0            0            0            0            0            0            0            0            0            0            0            0            0            0            0            0            0            0            0            0            0            0            0            0            0            0            0             2                  4           0\n",
      "3                     1           0           0           0           0           0           0           0           0           0            0            0            0            0            0            0            0            0            0            0            0            0            0            0            0            0            0            0            0            0            0            0            0            0            0            0            0            0            0            0            0             1                  4           0\n",
      "4                     1           0           0           0           0           0           0           0           0           0            0            0            0            0            0            0            0            0            0            0            0            0            0            0            0            0            0            0            0            0            0            0            0            0            0            0            0            0            0            0            0             0                  5           0\n",
      "5                     1           0           0           0           0           1           0           0           0           1            1            0            0            0            0            0            0            0            0            0            0            0            0            0            0            0            0            0            0            0            0            0            0            0            0            0            0            0            0            0            0             1                  4           0\n",
      "6                     3           0           0           1           0           0           0           0           0           0            0            0            0            0            0            0            0            0            0            0            0            0            0            0            0            0            0            1            0            0            0            0            0            0            0            0            0            0            0            0            0             2                  2           0\n",
      "7                     2           0           0           0           0           0           0           0           0           1            0            0            0            0            1            1            1            0            0            0            0            0            0            0            0            0            0            0            0            0            0            0            0            0            0            0            0            0            0            0            0             1                  6           0\n",
      "8                     1           1           1           0           0           1           0           0           0           0            0            0            0            0            0            0            1            0            0            0            0            0            0            0            0            0            0            0            0            0            0            0            0            0            0            0            0            0            0            0            0             0                  6           0\n",
      "9                     1           0           0           0           0           0           0           0           0           0            0            0            0            0            0            0            0            0            0            0            0            0            0            0            0            0            0            0            0            0            0            0            0            0            0            0            0            0            0            0            0             4                  1           0\n"
     ]
    }
   ],
   "source": [
    "print(X.head(10))"
   ]
  }
 ],
 "metadata": {
  "kernelspec": {
   "display_name": "Python 3",
   "language": "python",
   "name": "python3"
  },
  "language_info": {
   "codemirror_mode": {
    "name": "ipython",
    "version": 3
   },
   "file_extension": ".py",
   "mimetype": "text/x-python",
   "name": "python",
   "nbconvert_exporter": "python",
   "pygments_lexer": "ipython3",
   "version": "3.12.10"
  }
 },
 "nbformat": 4,
 "nbformat_minor": 5
}
