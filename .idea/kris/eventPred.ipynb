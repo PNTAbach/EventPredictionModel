{
 "cells": [
  {
   "cell_type": "markdown",
   "id": "f570181b",
   "metadata": {},
   "source": [
    "# Event Like Prediction Model\n",
    "This notebook connects to your local PostgreSQL `pnta` database and trains a machine learning model to predict whether an event will get more than a threshold number of likes."
   ]
  },
  {
   "cell_type": "code",
   "execution_count": 11,
   "id": "e7ab927e",
   "metadata": {},
   "outputs": [],
   "source": [
    "import pandas as pd\n",
    "from sqlalchemy import create_engine\n",
    "from sklearn.preprocessing import MultiLabelBinarizer\n",
    "\n",
    "DB_USER = 'postgres'\n",
    "DB_PASS = '1234'   # change\n",
    "DB_HOST = 'localhost'\n",
    "DB_PORT = '5432'\n",
    "DB_NAME = 'postgres'\n",
    "\n",
    "# Step 2: Create SQLAlchemy engine\n",
    "engine = create_engine(f'postgresql+psycopg2://{DB_USER}:{DB_PASS}@{DB_HOST}:{DB_PORT}/{DB_NAME}')\n"
   ]
  },
  {
   "cell_type": "markdown",
   "id": "d12d8e68",
   "metadata": {},
   "source": [
    "### Load each required table into its own DataFrame"
   ]
  },
  {
   "cell_type": "code",
   "execution_count": 12,
   "id": "cc22529a",
   "metadata": {},
   "outputs": [],
   "source": [
    "# 1. user_event_like (event likes)\n",
    "df_user_event_like = pd.read_sql(\"SELECT user_id, event_id FROM pnta.user_event_like\", engine)\n",
    "\n",
    "# 2. user_event_rating\n",
    "df_user_event_rating = pd.read_sql(\"SELECT user_id, event_id, rating FROM pnta.user_event_rating\", engine)\n",
    "\n",
    "# 3. user_event_checkin\n",
    "df_user_event_checkin = pd.read_sql(\"SELECT user_id, event_id, checked_in_at FROM pnta.user_event_checkin\", engine)\n",
    "\n",
    "# 4. event\n",
    "df_event = pd.read_sql(\"SELECT event_id, event_date, start_time, end_time, venue_id FROM pnta.event\", engine)\n",
    "\n",
    "# 5. event_tag\n",
    "df_event_tag = pd.read_sql(\"SELECT * FROM pnta.event_tag\", engine)\n",
    "\n",
    "# 6. location\n",
    "df_location = pd.read_sql(\"SELECT venue_id, city FROM pnta.location\", engine)\n",
    "\n",
    "# 7. tag\n",
    "df_tag = pd.read_sql(\"SELECT * FROM pnta.tag\", engine)\n",
    "\n",
    "# 8. user_filter_tag\n",
    "df_user_filter_tag = pd.read_sql(\"SELECT * FROM pnta.user_filter_tag\", engine)\n",
    "\n",
    "# 9. user_venue_like\n",
    "df_user_venue_like = pd.read_sql(\"SELECT user_id, venue_id FROM pnta.user_venue_like\", engine)\n",
    "\n",
    "# 10. user_venue_rating\n",
    "df_user_venue_rating = pd.read_sql(\"SELECT user_id, venue_id, rating FROM pnta.user_venue_rating\", engine)\n",
    "\n",
    "# 11. userp\n",
    "df_userp = pd.read_sql(\"SELECT user_id, gender, city, birth_date FROM pnta.userp\", engine)\n",
    "\n",
    "# 12. venue\n",
    "df_venue = pd.read_sql(\"SELECT venue_id, price_rating, rating FROM pnta.venue\", engine)\n"
   ]
  },
  {
   "cell_type": "markdown",
   "id": "130febdf",
   "metadata": {},
   "source": [
    "### Merge all dataframes into one using left-join"
   ]
  },
  {
   "cell_type": "code",
   "execution_count": 13,
   "id": "61020364",
   "metadata": {},
   "outputs": [
    {
     "name": "stdout",
     "output_type": "stream",
     "text": [
      "    event_id  event_date start_time  end_time  venue_id  like_count  checkin_count  avg_event_rating  event_rating_count                                  tags price_rating  rating        city    avg_age  percent_male  percent_female  percent_local_users  success_flag\n",
      "0         15  2025-04-28   19:00:00  23:00:00        27        18.0           14.0          4.555556                 9.0        Karaoke,Tavern,Hotel,Guest DJs         HIGH     5.0     Randers  29.142857      0.428571        0.142857             0.285714             1\n",
      "1         39  2025-05-02   21:00:00  23:00:00        16         0.0            0.0          0.000000                 0.0                                                LOW     4.0  Copenhagen   0.000000      0.000000        0.000000             0.000000             0\n",
      "2          5  2025-04-25   21:00:00  01:00:00        13        47.0           13.0          4.200000                 5.0                               Rap,Pub         HIGH     3.9      Aarhus  33.538462      0.307692        0.230769             0.230769             1\n",
      "3         50  2025-04-18   21:00:00  23:00:00        15         0.0            0.0          0.000000                 0.0                                                LOW     1.0     Aalborg   0.000000      0.000000        0.000000             0.000000             0\n",
      "4         46  2025-04-26   17:00:00  02:00:00        29         0.0            0.0          0.000000                 0.0                                                LOW     4.2     Randers   0.000000      0.000000        0.000000             0.000000             0\n",
      "5         25  2025-04-11   18:00:00  01:00:00        11        15.0           11.0          5.000000                 1.0                    Gastro,Medium,Open          LOW     4.2     Aalborg  33.727273      0.545455        0.363636             0.363636             1\n",
      "6          1  2025-04-23   21:00:00  22:00:00        13        49.0            6.0          4.000000                 2.0                           Karaoke,Low         HIGH     3.9      Aarhus  29.666667      0.333333        0.333333             0.166667             1\n",
      "7         30  2025-04-20   19:00:00  02:00:00        28        21.0            8.0          5.000000                 1.0          Gastro,Art Bar,Live,Open Air       MEDIUM     4.1     Aalborg  28.875000      0.125000        0.375000             0.375000             1\n",
      "8         12  2025-04-20   19:00:00  22:00:00        29        22.0           10.0          4.800000                 5.0           Hotel,Medium,Indie,Open Air          LOW     4.2     Randers  28.300000      0.400000        0.200000             0.200000             1\n",
      "9         36  2025-04-22   17:00:00  00:00:00         7         0.0            0.0          0.000000                 0.0                                                LOW     3.0     Esbjerg   0.000000      0.000000        0.000000             0.000000             0\n",
      "10         2  2025-04-10   19:00:00  01:00:00        10        14.0           12.0          4.400000                 5.0                            Open,Local         HIGH     3.1      Aarhus  31.916667      0.583333        0.166667             0.166667             1\n",
      "11        47  2025-04-14   18:00:00  23:00:00        27         0.0            0.0          0.000000                 0.0                                               HIGH     5.0     Randers   0.000000      0.000000        0.000000             0.000000             0\n",
      "12        22  2025-04-22   20:00:00  22:00:00        13        55.0            8.0          4.000000                 5.0                            Inn,DJ,Pub         HIGH     3.9      Aarhus  35.125000      0.250000        0.625000             0.250000             1\n",
      "13        51  2025-04-30   19:00:00  02:00:00        28         0.0            0.0          0.000000                 0.0                                             MEDIUM     4.1     Aalborg   0.000000      0.000000        0.000000             0.000000             0\n",
      "14        31  2025-04-23   21:00:00  22:00:00        13         0.0            0.0          0.000000                 0.0                                               HIGH     3.9      Aarhus   0.000000      0.000000        0.000000             0.000000             0\n",
      "15        55  2025-04-11   18:00:00  01:00:00        11         0.0            0.0          0.000000                 0.0                                                LOW     4.2     Aalborg   0.000000      0.000000        0.000000             0.000000             0\n",
      "16        13  2025-04-18   17:00:00  00:00:00        17        50.0            6.0          4.250000                 4.0                              Club,Pub         HIGH     2.0     Aalborg  27.666667      0.500000        0.166667             0.333333             1\n",
      "17        41  2025-04-30   21:00:00  22:00:00         6         0.0            0.0          0.000000                 0.0                                                LOW     4.7     Horsens   0.000000      0.000000        0.000000             0.000000             0\n",
      "18        19  2025-04-21   20:00:00  01:00:00         1        13.0           13.0          4.200000                 5.0                       Any,Rave,Lounge       MEDIUM     3.3      Odense  35.923077      0.230769        0.461538             0.384615             1\n",
      "19        56  2025-04-28   18:00:00  01:00:00         4         0.0            0.0          0.000000                 0.0                                                LOW     4.4     Horsens   0.000000      0.000000        0.000000             0.000000             0\n",
      "20        48  2025-04-25   19:00:00  23:00:00        16         0.0            0.0          0.000000                 0.0                                                LOW     4.0  Copenhagen   0.000000      0.000000        0.000000             0.000000             0\n",
      "21         7  2025-04-13   21:00:00  23:00:00        30        20.0            3.0          4.500000                 2.0                         LGBTQ,Student       MEDIUM     3.7     Esbjerg  31.000000      0.000000        0.333333             0.666667             0\n",
      "22        14  2025-04-15   17:00:00  23:00:00         8        14.0            8.0          3.800000                 5.0  Art Bar,Acoustic,Karaoke,Mixed Crowd          LOW     4.9       Vejle  32.000000      0.500000        0.250000             0.250000             0\n",
      "23        34  2025-04-15   20:00:00  02:00:00        27         0.0            0.0          0.000000                 0.0                                               HIGH     5.0     Randers   0.000000      0.000000        0.000000             0.000000             0\n",
      "24        45  2025-04-28   19:00:00  23:00:00        27         0.0            0.0          0.000000                 0.0                                               HIGH     5.0     Randers   0.000000      0.000000        0.000000             0.000000             0\n",
      "25        20  2025-04-18   21:00:00  23:00:00        15         9.0           11.0          4.333333                 3.0                             Indie,Any          LOW     1.0     Aalborg  35.454545      0.363636        0.363636             0.272727             0\n",
      "26        53  2025-04-11   20:00:00  22:00:00        24         0.0            0.0          0.000000                 0.0                                                LOW     4.5     Kolding   0.000000      0.000000        0.000000             0.000000             0\n",
      "27        11  2025-04-30   21:00:00  22:00:00         6        14.0            7.0          4.000000                 2.0              Karaoke,High,Tavern,Jazz          LOW     4.7     Horsens  34.285714      0.428571        0.285714             0.428571             1\n",
      "28         8  2025-04-27   20:00:00  01:00:00        30        10.0           10.0          4.666667                 3.0        Themed Night,40+,Street,Sports       MEDIUM     3.7     Esbjerg  32.000000      0.300000        0.300000             0.200000             1\n",
      "29        58  2025-04-28   20:00:00  23:00:00         5         0.0            0.0          0.000000                 0.0                                                LOW     4.6     Randers   0.000000      0.000000        0.000000             0.000000             0\n",
      "30        57  2025-04-16   20:00:00  22:00:00        15         0.0            0.0          0.000000                 0.0                                                LOW     1.0     Aalborg   0.000000      0.000000        0.000000             0.000000             0\n",
      "31        35  2025-04-25   21:00:00  01:00:00        13         0.0            0.0          0.000000                 0.0                                               HIGH     3.9      Aarhus   0.000000      0.000000        0.000000             0.000000             0\n",
      "32        29  2025-04-19   20:00:00  01:00:00        12        17.0            7.0          4.800000                 5.0               Street,Sports,Medium,DJ       MEDIUM     4.5      Odense  31.142857      0.571429        0.285714             0.285714             1\n",
      "33        21  2025-04-30   19:00:00  02:00:00        28        20.0           11.0          4.000000                 4.0              Local,Themed Night,Beach       MEDIUM     4.1     Aalborg  34.090909      0.181818        0.636364             0.272727             1\n",
      "34        33  2025-05-06   17:00:00  22:00:00        22         0.0            0.0          0.000000                 0.0                                             MEDIUM     4.5    Roskilde   0.000000      0.000000        0.000000             0.000000             0\n",
      "35        42  2025-04-20   19:00:00  22:00:00        29         0.0            0.0          0.000000                 0.0                                                LOW     4.2     Randers   0.000000      0.000000        0.000000             0.000000             0\n",
      "36         9  2025-05-02   21:00:00  23:00:00        16        41.0           13.0          4.750000                 4.0                    Hotel,Indie,Gastro          LOW     4.0  Copenhagen  34.692308      0.230769        0.615385             0.230769             1\n",
      "37        32  2025-04-10   19:00:00  01:00:00        10         0.0            0.0          0.000000                 0.0                                               HIGH     3.1      Aarhus   0.000000      0.000000        0.000000             0.000000             0\n",
      "38        59  2025-04-19   20:00:00  01:00:00        12         0.0            0.0          0.000000                 0.0                                             MEDIUM     4.5      Odense   0.000000      0.000000        0.000000             0.000000             0\n",
      "39        26  2025-04-28   18:00:00  01:00:00         4         8.0           11.0          4.166667                 6.0                            Club,Beach          LOW     4.4     Horsens  34.363636      0.181818        0.272727             0.272727             0\n",
      "40        54  2025-04-21   18:00:00  00:00:00         9         0.0            0.0          0.000000                 0.0                                               HIGH     3.1  Copenhagen   0.000000      0.000000        0.000000             0.000000             0\n",
      "41        49  2025-04-21   20:00:00  01:00:00         1         0.0            0.0          0.000000                 0.0                                             MEDIUM     3.3      Odense   0.000000      0.000000        0.000000             0.000000             0\n",
      "42        40  2025-04-13   21:00:00  00:00:00        22         0.0            0.0          0.000000                 0.0                                             MEDIUM     4.5    Roskilde   0.000000      0.000000        0.000000             0.000000             0\n",
      "43        43  2025-04-18   17:00:00  00:00:00        17         0.0            0.0          0.000000                 0.0                                               HIGH     2.0     Aalborg   0.000000      0.000000        0.000000             0.000000             0\n",
      "44        18  2025-04-25   19:00:00  23:00:00        16        63.0            7.0          4.333333                 3.0               Indie,Tavern,Dress Code          LOW     4.0  Copenhagen  32.000000      0.000000        0.428571             0.428571             1\n",
      "45         6  2025-04-22   17:00:00  00:00:00         7        10.0            9.0          4.800000                 5.0                    Beach,Hotel,Lounge          LOW     3.0     Esbjerg  28.888889      0.555556        0.222222             0.444444             1\n",
      "46        27  2025-04-16   20:00:00  22:00:00        15        19.0            8.0          4.500000                 2.0                    Pub,Techno,Rooftop          LOW     1.0     Aalborg  36.125000      0.375000        0.500000             0.250000             1\n",
      "47        60  2025-04-20   19:00:00  02:00:00        28         0.0            0.0          0.000000                 0.0                                             MEDIUM     4.1     Aalborg   0.000000      0.000000        0.000000             0.000000             0\n",
      "48        17  2025-04-14   18:00:00  23:00:00        27        15.0            6.0          5.000000                 1.0                          Pop,Acoustic         HIGH     5.0     Randers  37.833333      0.333333        0.666667             0.166667             1\n",
      "49        37  2025-04-13   21:00:00  23:00:00        30         0.0            0.0          0.000000                 0.0                                             MEDIUM     3.7     Esbjerg   0.000000      0.000000        0.000000             0.000000             0\n"
     ]
    }
   ],
   "source": [
    "# Merge user_event_like: count likes per event\n",
    "likes = df_user_event_like.groupby(\"event_id\").size().reset_index(name=\"like_count\")\n",
    "\n",
    "# Merge user_event_checkin: count check-ins per event\n",
    "checkins = df_user_event_checkin.groupby(\"event_id\").size().reset_index(name=\"checkin_count\")\n",
    "\n",
    "# Merge user_event_rating: average rating per event\n",
    "ratings = df_user_event_rating.groupby(\"event_id\").agg(\n",
    "    avg_event_rating=(\"rating\", \"mean\"),\n",
    "    event_rating_count=(\"rating\", \"count\")\n",
    ").reset_index()\n",
    "\n",
    "# Merge event_tag with tag to get tag names\n",
    "event_tags = pd.merge(df_event_tag, df_tag, on=\"tag_id\", how=\"left\")\n",
    "tags = event_tags.groupby(\"event_id\").agg(tags=(\"name\", lambda x: \",\".join(x))).reset_index()\n",
    "\n",
    "# Merge venue with location to get venue city\n",
    "venue_full = pd.merge(df_venue, df_location, on=\"venue_id\", how=\"left\")\n",
    "\n",
    "# Merge user check-in with userp for demographics\n",
    "user_demo = pd.merge(df_user_event_checkin, df_userp, on=\"user_id\", how=\"left\")\n",
    "user_demo[\"age\"] = pd.Timestamp(\"now\").year - pd.to_datetime(user_demo[\"birth_date\"]).dt.year\n",
    "user_stats = user_demo.groupby(\"event_id\").agg(\n",
    "    avg_age=(\"age\", \"mean\"),\n",
    "    percent_male=(\"gender\", lambda x: (x == \"male\").mean()),\n",
    "    percent_female=(\"gender\", lambda x: (x == \"female\").mean()),\n",
    "    percent_local_users=(\"city\", lambda x: (x == x.mode()[0]).mean() if not x.mode().empty else 0)\n",
    ").reset_index()\n",
    "\n",
    "# Start with base event info\n",
    "df_merged = df_event.copy()\n",
    "\n",
    "# Join step-by-step\n",
    "df_merged = df_merged.merge(likes, on=\"event_id\", how=\"left\")\n",
    "df_merged = df_merged.merge(checkins, on=\"event_id\", how=\"left\")\n",
    "df_merged = df_merged.merge(ratings, on=\"event_id\", how=\"left\")\n",
    "df_merged = df_merged.merge(tags, on=\"event_id\", how=\"left\")\n",
    "df_merged = df_merged.merge(venue_full, on=\"venue_id\", how=\"left\")\n",
    "df_merged = df_merged.merge(user_stats, on=\"event_id\", how=\"left\")\n",
    "# Define success_flag based on thresholds\n",
    "df_merged[\"success_flag\"] = (\n",
    "    (df_merged[\"like_count\"] >= 10) &\n",
    "    (df_merged[\"checkin_count\"] >= 5) &\n",
    "    (df_merged[\"avg_event_rating\"] >= 4.0)\n",
    ").astype(int)\n",
    "\n",
    "\n",
    "# Optional: Fill NaNs if desired\n",
    "df_merged.fillna({\n",
    "    \"like_count\": 0,\n",
    "    \"checkin_count\": 0,\n",
    "    \"avg_event_rating\": 0,\n",
    "    \"tags\": \"\",\n",
    "    \"price_rating\": 0,\n",
    "    \"venue_rating\": 0,\n",
    "    \"city\": \"Unknown\",\n",
    "    \"avg_age\": 0,\n",
    "    \"percent_male\": 0,\n",
    "    \"percent_female\": 0,\n",
    "    \"percent_local_users\": 0,\n",
    "    \"event_rating_count\": 0\n",
    "}, inplace=True)\n",
    "\n",
    "pd.set_option('display.max_columns', None)\n",
    "pd.set_option('display.expand_frame_repr', False)\n",
    "print(df_merged.head(50))\n",
    "\n"
   ]
  },
  {
   "cell_type": "markdown",
   "id": "852deabb",
   "metadata": {},
   "source": [
    "### Check how balanced success flag is"
   ]
  },
  {
   "cell_type": "code",
   "execution_count": 14,
   "id": "39022b3e",
   "metadata": {},
   "outputs": [
    {
     "name": "stdout",
     "output_type": "stream",
     "text": [
      "success_flag\n",
      "0    0.583333\n",
      "1    0.416667\n",
      "Name: proportion, dtype: float64\n"
     ]
    }
   ],
   "source": [
    "print(df_merged[\"success_flag\"].value_counts(normalize=True))\n"
   ]
  },
  {
   "cell_type": "markdown",
   "id": "6902dafd",
   "metadata": {},
   "source": [
    "#### Add 'has_demographics' so model understands whether he can rely on demographics data "
   ]
  },
  {
   "cell_type": "code",
   "execution_count": 15,
   "id": "33ab04ad",
   "metadata": {},
   "outputs": [],
   "source": [
    "df_merged[\"has_demographics\"] = (df_merged[\"avg_age\"] > 0).astype(int)"
   ]
  },
  {
   "cell_type": "markdown",
   "id": "7dd1c60f",
   "metadata": {},
   "source": [
    "## Ordinal encoding"
   ]
  },
  {
   "cell_type": "code",
   "execution_count": 16,
   "id": "82108cd9",
   "metadata": {},
   "outputs": [
    {
     "name": "stdout",
     "output_type": "stream",
     "text": [
      "    event_id event_date start_time  end_time  venue_id  like_count  checkin_count  avg_event_rating  event_rating_count                                  tags price_rating  rating        city    avg_age  percent_male  percent_female  percent_local_users  success_flag  has_demographics  price_rating_encoded\n",
      "0         15 2025-04-28   19:00:00  23:00:00        27        18.0           14.0          4.555556                 9.0        Karaoke,Tavern,Hotel,Guest DJs         HIGH     5.0     Randers  29.142857      0.428571        0.142857             0.285714             1                 1                     3\n",
      "1         39 2025-05-02   21:00:00  23:00:00        16         0.0            0.0          0.000000                 0.0                                                LOW     4.0  Copenhagen   0.000000      0.000000        0.000000             0.000000             0                 0                     1\n",
      "2          5 2025-04-25   21:00:00  01:00:00        13        47.0           13.0          4.200000                 5.0                               Rap,Pub         HIGH     3.9      Aarhus  33.538462      0.307692        0.230769             0.230769             1                 1                     3\n",
      "3         50 2025-04-18   21:00:00  23:00:00        15         0.0            0.0          0.000000                 0.0                                                LOW     1.0     Aalborg   0.000000      0.000000        0.000000             0.000000             0                 0                     1\n",
      "4         46 2025-04-26   17:00:00  02:00:00        29         0.0            0.0          0.000000                 0.0                                                LOW     4.2     Randers   0.000000      0.000000        0.000000             0.000000             0                 0                     1\n",
      "5         25 2025-04-11   18:00:00  01:00:00        11        15.0           11.0          5.000000                 1.0                    Gastro,Medium,Open          LOW     4.2     Aalborg  33.727273      0.545455        0.363636             0.363636             1                 1                     1\n",
      "6          1 2025-04-23   21:00:00  22:00:00        13        49.0            6.0          4.000000                 2.0                           Karaoke,Low         HIGH     3.9      Aarhus  29.666667      0.333333        0.333333             0.166667             1                 1                     3\n",
      "7         30 2025-04-20   19:00:00  02:00:00        28        21.0            8.0          5.000000                 1.0          Gastro,Art Bar,Live,Open Air       MEDIUM     4.1     Aalborg  28.875000      0.125000        0.375000             0.375000             1                 1                     2\n",
      "8         12 2025-04-20   19:00:00  22:00:00        29        22.0           10.0          4.800000                 5.0           Hotel,Medium,Indie,Open Air          LOW     4.2     Randers  28.300000      0.400000        0.200000             0.200000             1                 1                     1\n",
      "9         36 2025-04-22   17:00:00  00:00:00         7         0.0            0.0          0.000000                 0.0                                                LOW     3.0     Esbjerg   0.000000      0.000000        0.000000             0.000000             0                 0                     1\n",
      "10         2 2025-04-10   19:00:00  01:00:00        10        14.0           12.0          4.400000                 5.0                            Open,Local         HIGH     3.1      Aarhus  31.916667      0.583333        0.166667             0.166667             1                 1                     3\n",
      "11        47 2025-04-14   18:00:00  23:00:00        27         0.0            0.0          0.000000                 0.0                                               HIGH     5.0     Randers   0.000000      0.000000        0.000000             0.000000             0                 0                     3\n",
      "12        22 2025-04-22   20:00:00  22:00:00        13        55.0            8.0          4.000000                 5.0                            Inn,DJ,Pub         HIGH     3.9      Aarhus  35.125000      0.250000        0.625000             0.250000             1                 1                     3\n",
      "13        51 2025-04-30   19:00:00  02:00:00        28         0.0            0.0          0.000000                 0.0                                             MEDIUM     4.1     Aalborg   0.000000      0.000000        0.000000             0.000000             0                 0                     2\n",
      "14        31 2025-04-23   21:00:00  22:00:00        13         0.0            0.0          0.000000                 0.0                                               HIGH     3.9      Aarhus   0.000000      0.000000        0.000000             0.000000             0                 0                     3\n",
      "15        55 2025-04-11   18:00:00  01:00:00        11         0.0            0.0          0.000000                 0.0                                                LOW     4.2     Aalborg   0.000000      0.000000        0.000000             0.000000             0                 0                     1\n",
      "16        13 2025-04-18   17:00:00  00:00:00        17        50.0            6.0          4.250000                 4.0                              Club,Pub         HIGH     2.0     Aalborg  27.666667      0.500000        0.166667             0.333333             1                 1                     3\n",
      "17        41 2025-04-30   21:00:00  22:00:00         6         0.0            0.0          0.000000                 0.0                                                LOW     4.7     Horsens   0.000000      0.000000        0.000000             0.000000             0                 0                     1\n",
      "18        19 2025-04-21   20:00:00  01:00:00         1        13.0           13.0          4.200000                 5.0                       Any,Rave,Lounge       MEDIUM     3.3      Odense  35.923077      0.230769        0.461538             0.384615             1                 1                     2\n",
      "19        56 2025-04-28   18:00:00  01:00:00         4         0.0            0.0          0.000000                 0.0                                                LOW     4.4     Horsens   0.000000      0.000000        0.000000             0.000000             0                 0                     1\n",
      "20        48 2025-04-25   19:00:00  23:00:00        16         0.0            0.0          0.000000                 0.0                                                LOW     4.0  Copenhagen   0.000000      0.000000        0.000000             0.000000             0                 0                     1\n",
      "21         7 2025-04-13   21:00:00  23:00:00        30        20.0            3.0          4.500000                 2.0                         LGBTQ,Student       MEDIUM     3.7     Esbjerg  31.000000      0.000000        0.333333             0.666667             0                 1                     2\n",
      "22        14 2025-04-15   17:00:00  23:00:00         8        14.0            8.0          3.800000                 5.0  Art Bar,Acoustic,Karaoke,Mixed Crowd          LOW     4.9       Vejle  32.000000      0.500000        0.250000             0.250000             0                 1                     1\n",
      "23        34 2025-04-15   20:00:00  02:00:00        27         0.0            0.0          0.000000                 0.0                                               HIGH     5.0     Randers   0.000000      0.000000        0.000000             0.000000             0                 0                     3\n",
      "24        45 2025-04-28   19:00:00  23:00:00        27         0.0            0.0          0.000000                 0.0                                               HIGH     5.0     Randers   0.000000      0.000000        0.000000             0.000000             0                 0                     3\n",
      "25        20 2025-04-18   21:00:00  23:00:00        15         9.0           11.0          4.333333                 3.0                             Indie,Any          LOW     1.0     Aalborg  35.454545      0.363636        0.363636             0.272727             0                 1                     1\n",
      "26        53 2025-04-11   20:00:00  22:00:00        24         0.0            0.0          0.000000                 0.0                                                LOW     4.5     Kolding   0.000000      0.000000        0.000000             0.000000             0                 0                     1\n",
      "27        11 2025-04-30   21:00:00  22:00:00         6        14.0            7.0          4.000000                 2.0              Karaoke,High,Tavern,Jazz          LOW     4.7     Horsens  34.285714      0.428571        0.285714             0.428571             1                 1                     1\n",
      "28         8 2025-04-27   20:00:00  01:00:00        30        10.0           10.0          4.666667                 3.0        Themed Night,40+,Street,Sports       MEDIUM     3.7     Esbjerg  32.000000      0.300000        0.300000             0.200000             1                 1                     2\n",
      "29        58 2025-04-28   20:00:00  23:00:00         5         0.0            0.0          0.000000                 0.0                                                LOW     4.6     Randers   0.000000      0.000000        0.000000             0.000000             0                 0                     1\n",
      "30        57 2025-04-16   20:00:00  22:00:00        15         0.0            0.0          0.000000                 0.0                                                LOW     1.0     Aalborg   0.000000      0.000000        0.000000             0.000000             0                 0                     1\n",
      "31        35 2025-04-25   21:00:00  01:00:00        13         0.0            0.0          0.000000                 0.0                                               HIGH     3.9      Aarhus   0.000000      0.000000        0.000000             0.000000             0                 0                     3\n",
      "32        29 2025-04-19   20:00:00  01:00:00        12        17.0            7.0          4.800000                 5.0               Street,Sports,Medium,DJ       MEDIUM     4.5      Odense  31.142857      0.571429        0.285714             0.285714             1                 1                     2\n",
      "33        21 2025-04-30   19:00:00  02:00:00        28        20.0           11.0          4.000000                 4.0              Local,Themed Night,Beach       MEDIUM     4.1     Aalborg  34.090909      0.181818        0.636364             0.272727             1                 1                     2\n",
      "34        33 2025-05-06   17:00:00  22:00:00        22         0.0            0.0          0.000000                 0.0                                             MEDIUM     4.5    Roskilde   0.000000      0.000000        0.000000             0.000000             0                 0                     2\n",
      "35        42 2025-04-20   19:00:00  22:00:00        29         0.0            0.0          0.000000                 0.0                                                LOW     4.2     Randers   0.000000      0.000000        0.000000             0.000000             0                 0                     1\n",
      "36         9 2025-05-02   21:00:00  23:00:00        16        41.0           13.0          4.750000                 4.0                    Hotel,Indie,Gastro          LOW     4.0  Copenhagen  34.692308      0.230769        0.615385             0.230769             1                 1                     1\n",
      "37        32 2025-04-10   19:00:00  01:00:00        10         0.0            0.0          0.000000                 0.0                                               HIGH     3.1      Aarhus   0.000000      0.000000        0.000000             0.000000             0                 0                     3\n",
      "38        59 2025-04-19   20:00:00  01:00:00        12         0.0            0.0          0.000000                 0.0                                             MEDIUM     4.5      Odense   0.000000      0.000000        0.000000             0.000000             0                 0                     2\n",
      "39        26 2025-04-28   18:00:00  01:00:00         4         8.0           11.0          4.166667                 6.0                            Club,Beach          LOW     4.4     Horsens  34.363636      0.181818        0.272727             0.272727             0                 1                     1\n",
      "40        54 2025-04-21   18:00:00  00:00:00         9         0.0            0.0          0.000000                 0.0                                               HIGH     3.1  Copenhagen   0.000000      0.000000        0.000000             0.000000             0                 0                     3\n",
      "41        49 2025-04-21   20:00:00  01:00:00         1         0.0            0.0          0.000000                 0.0                                             MEDIUM     3.3      Odense   0.000000      0.000000        0.000000             0.000000             0                 0                     2\n",
      "42        40 2025-04-13   21:00:00  00:00:00        22         0.0            0.0          0.000000                 0.0                                             MEDIUM     4.5    Roskilde   0.000000      0.000000        0.000000             0.000000             0                 0                     2\n",
      "43        43 2025-04-18   17:00:00  00:00:00        17         0.0            0.0          0.000000                 0.0                                               HIGH     2.0     Aalborg   0.000000      0.000000        0.000000             0.000000             0                 0                     3\n",
      "44        18 2025-04-25   19:00:00  23:00:00        16        63.0            7.0          4.333333                 3.0               Indie,Tavern,Dress Code          LOW     4.0  Copenhagen  32.000000      0.000000        0.428571             0.428571             1                 1                     1\n",
      "45         6 2025-04-22   17:00:00  00:00:00         7        10.0            9.0          4.800000                 5.0                    Beach,Hotel,Lounge          LOW     3.0     Esbjerg  28.888889      0.555556        0.222222             0.444444             1                 1                     1\n",
      "46        27 2025-04-16   20:00:00  22:00:00        15        19.0            8.0          4.500000                 2.0                    Pub,Techno,Rooftop          LOW     1.0     Aalborg  36.125000      0.375000        0.500000             0.250000             1                 1                     1\n",
      "47        60 2025-04-20   19:00:00  02:00:00        28         0.0            0.0          0.000000                 0.0                                             MEDIUM     4.1     Aalborg   0.000000      0.000000        0.000000             0.000000             0                 0                     2\n",
      "48        17 2025-04-14   18:00:00  23:00:00        27        15.0            6.0          5.000000                 1.0                          Pop,Acoustic         HIGH     5.0     Randers  37.833333      0.333333        0.666667             0.166667             1                 1                     3\n",
      "49        37 2025-04-13   21:00:00  23:00:00        30         0.0            0.0          0.000000                 0.0                                             MEDIUM     3.7     Esbjerg   0.000000      0.000000        0.000000             0.000000             0                 0                     2\n"
     ]
    }
   ],
   "source": [
    "df_merged[\"price_rating\"] = df_merged[\"price_rating\"].str.upper()\n",
    "price_map = {\"LOW\": 1, \"MEDIUM\": 2, \"HIGH\": 3}\n",
    "df_merged[\"price_rating_encoded\"] = df_merged[\"price_rating\"].map(price_map)\n",
    "\n",
    "df_merged[\"event_date\"] = pd.to_datetime(df_merged[\"event_date\"])\n",
    "df_merged[\"start_time\"] = pd.to_datetime(df_merged[\"start_time\"], format=\"%H:%M:%S\").dt.time\n",
    "df_merged[\"end_time\"] = pd.to_datetime(df_merged[\"end_time\"], format=\"%H:%M:%S\").dt.time\n",
    "\n",
    "\n",
    "\n",
    "pd.set_option('display.max_columns', None)\n",
    "pd.set_option('display.expand_frame_repr', False)\n",
    "print(df_merged.head(50))\n"
   ]
  },
  {
   "cell_type": "markdown",
   "id": "f87d6104",
   "metadata": {},
   "source": [
    "### Ordinal encoding of tags - Since tags do not follow frequency like Low->Medium-> High. We count matching tags and assign ordinal values to them. "
   ]
  },
  {
   "cell_type": "code",
   "execution_count": 17,
   "id": "abea9080",
   "metadata": {},
   "outputs": [
    {
     "name": "stdout",
     "output_type": "stream",
     "text": [
      "                             tags     tags_encoded\n",
      "0  Karaoke,Tavern,Hotel,Guest DJs    [3, 7, 1, 26]\n",
      "1                                               []\n",
      "2                         Rap,Pub           [8, 4]\n",
      "3                                               []\n",
      "4                                               []\n",
      "5              Gastro,Medium,Open       [9, 5, 10]\n",
      "6                     Karaoke,Low          [3, 27]\n",
      "7    Gastro,Art Bar,Live,Open Air  [9, 14, 15, 16]\n",
      "8     Hotel,Medium,Indie,Open Air    [1, 5, 2, 16]\n",
      "9                                               []\n"
     ]
    }
   ],
   "source": [
    "# Step 1: Split all tags and count frequency\n",
    "from collections import Counter\n",
    "\n",
    "# Split tags and flatten list\n",
    "all_tags = df_merged[\"tags\"].dropna().str.split(\",\").sum()\n",
    "tag_counts = Counter(all_tags)\n",
    "\n",
    "# Step 2: Assign ordinal codes (most common gets lowest code)\n",
    "sorted_tags = [tag for tag, _ in tag_counts.most_common()]\n",
    "tag_to_code = {tag: idx for idx, tag in enumerate(sorted_tags)}\n",
    "\n",
    "# Step 3: Map encoded tags back to each row (as list of ints)\n",
    "def encode_tag_list(tag_str):\n",
    "    if pd.isna(tag_str) or tag_str.strip() == \"\":\n",
    "        return []\n",
    "    return [tag_to_code[tag] for tag in tag_str.split(\",\") if tag in tag_to_code]\n",
    "\n",
    "df_merged[\"tags_encoded\"] = df_merged[\"tags\"].apply(encode_tag_list)\n",
    "print(df_merged[[\"tags\", \"tags_encoded\"]].head(10))\n",
    "\n"
   ]
  },
  {
   "cell_type": "markdown",
   "id": "8ee5f4e6",
   "metadata": {},
   "source": [
    "### Since XGboost doesn't take in arrays into classifying output, we multi-hot encode these tags"
   ]
  },
  {
   "cell_type": "code",
   "execution_count": 18,
   "id": "58c1dbe4",
   "metadata": {},
   "outputs": [],
   "source": [
    "mlb = MultiLabelBinarizer()\n",
    "tags_multi_hot = mlb.fit_transform(df_merged[\"tags_encoded\"])\n",
    "\n",
    "# Step 2: Clean and flatten tag columns\n",
    "tag_names = [str(cls).replace(\" \", \"_\").replace(\"/\", \"_\") for cls in mlb.classes_]\n",
    "tags_df = pd.DataFrame(tags_multi_hot, columns=[f\"type_tag_{name}\" for name in tag_names])\n",
    "\n",
    "# Step 3: Ensure all tag values are scalar integers\n",
    "tags_df = tags_df.astype(\"int8\")  # or \"int32\" if many rows\n",
    "\n",
    "# Step 4: Reset index before merge to avoid nesting\n",
    "tags_df.index = df_merged.index\n",
    "df_merged = df_merged.reset_index(drop=True)\n",
    "\n",
    "# Step 5: Concatenate the tag features\n",
    "df_merged = pd.concat([df_merged, tags_df], axis=1)"
   ]
  },
  {
   "cell_type": "code",
   "execution_count": 19,
   "id": "9607e3d4",
   "metadata": {},
   "outputs": [
    {
     "name": "stdout",
     "output_type": "stream",
     "text": [
      "⚠️ Problem: column 'tags_encoded' contains nested structures!\n"
     ]
    }
   ],
   "source": [
    "for col in df_merged.columns:\n",
    "    if isinstance(df_merged[col].iloc[0], (pd.Series, pd.DataFrame, list, dict)):\n",
    "        print(f\"⚠️ Problem: column '{col}' contains nested structures!\")\n"
   ]
  },
  {
   "cell_type": "markdown",
   "id": "6b240e44",
   "metadata": {},
   "source": [
    "### Same ordinal encoding for cities"
   ]
  },
  {
   "cell_type": "code",
   "execution_count": 20,
   "id": "87a424fa",
   "metadata": {},
   "outputs": [
    {
     "name": "stdout",
     "output_type": "stream",
     "text": [
      "          city  city_encoded\n",
      "0      Randers             0\n",
      "3      Aalborg             1\n",
      "2       Aarhus             2\n",
      "1   Copenhagen             3\n",
      "9      Esbjerg             4\n",
      "17     Horsens             5\n",
      "18      Odense             6\n",
      "34    Roskilde             7\n",
      "22       Vejle             8\n",
      "26     Kolding             9\n"
     ]
    }
   ],
   "source": [
    "# Frequency-based ordinal encoding\n",
    "city_freq = df_merged[\"city\"].value_counts().index.tolist()\n",
    "city_to_code = {city: idx for idx, city in enumerate(city_freq)}\n",
    "\n",
    "df_merged[\"city_encoded\"] = df_merged[\"city\"].map(city_to_code)\n",
    "\n",
    "print(df_merged[[\"city\", \"city_encoded\"]].drop_duplicates().sort_values(\"city_encoded\"))\n"
   ]
  },
  {
   "cell_type": "code",
   "execution_count": 21,
   "id": "05133d74",
   "metadata": {},
   "outputs": [
    {
     "name": "stdout",
     "output_type": "stream",
     "text": [
      "   event_id event_date start_time  end_time  venue_id  like_count  checkin_count  avg_event_rating  event_rating_count                            tags price_rating  rating        city    avg_age  percent_male  percent_female  percent_local_users  success_flag  has_demographics  price_rating_encoded     tags_encoded  type_tag_1  type_tag_2  type_tag_3  type_tag_4  type_tag_5  type_tag_6  type_tag_7  type_tag_8  type_tag_9  type_tag_10  type_tag_11  type_tag_12  type_tag_13  type_tag_14  type_tag_15  type_tag_16  type_tag_17  type_tag_18  type_tag_19  type_tag_20  type_tag_21  type_tag_22  type_tag_23  type_tag_24  type_tag_25  type_tag_26  type_tag_27  type_tag_28  type_tag_29  type_tag_30  type_tag_31  type_tag_32  type_tag_33  type_tag_34  type_tag_35  type_tag_36  type_tag_37  type_tag_38  type_tag_39  type_tag_40  city_encoded  event_weekday_num  is_holiday\n",
      "0        15 2025-04-28   19:00:00  23:00:00        27        18.0           14.0          4.555556                 9.0  Karaoke,Tavern,Hotel,Guest DJs         HIGH     5.0     Randers  29.142857      0.428571        0.142857             0.285714             1                 1                     3    [3, 7, 1, 26]           1           0           1           0           0           0           1           0           0            0            0            0            0            0            0            0            0            0            0            0            0            0            0            0            0            1            0            0            0            0            0            0            0            0            0            0            0            0            0            0             0                  0           0\n",
      "1        39 2025-05-02   21:00:00  23:00:00        16         0.0            0.0          0.000000                 0.0                                          LOW     4.0  Copenhagen   0.000000      0.000000        0.000000             0.000000             0                 0                     1               []           0           0           0           0           0           0           0           0           0            0            0            0            0            0            0            0            0            0            0            0            0            0            0            0            0            0            0            0            0            0            0            0            0            0            0            0            0            0            0            0             3                  4           0\n",
      "2         5 2025-04-25   21:00:00  01:00:00        13        47.0           13.0          4.200000                 5.0                         Rap,Pub         HIGH     3.9      Aarhus  33.538462      0.307692        0.230769             0.230769             1                 1                     3           [8, 4]           0           0           0           1           0           0           0           1           0            0            0            0            0            0            0            0            0            0            0            0            0            0            0            0            0            0            0            0            0            0            0            0            0            0            0            0            0            0            0            0             2                  4           0\n",
      "3        50 2025-04-18   21:00:00  23:00:00        15         0.0            0.0          0.000000                 0.0                                          LOW     1.0     Aalborg   0.000000      0.000000        0.000000             0.000000             0                 0                     1               []           0           0           0           0           0           0           0           0           0            0            0            0            0            0            0            0            0            0            0            0            0            0            0            0            0            0            0            0            0            0            0            0            0            0            0            0            0            0            0            0             1                  4           0\n",
      "4        46 2025-04-26   17:00:00  02:00:00        29         0.0            0.0          0.000000                 0.0                                          LOW     4.2     Randers   0.000000      0.000000        0.000000             0.000000             0                 0                     1               []           0           0           0           0           0           0           0           0           0            0            0            0            0            0            0            0            0            0            0            0            0            0            0            0            0            0            0            0            0            0            0            0            0            0            0            0            0            0            0            0             0                  5           0\n",
      "5        25 2025-04-11   18:00:00  01:00:00        11        15.0           11.0          5.000000                 1.0              Gastro,Medium,Open          LOW     4.2     Aalborg  33.727273      0.545455        0.363636             0.363636             1                 1                     1       [9, 5, 10]           0           0           0           0           1           0           0           0           1            1            0            0            0            0            0            0            0            0            0            0            0            0            0            0            0            0            0            0            0            0            0            0            0            0            0            0            0            0            0            0             1                  4           0\n",
      "6         1 2025-04-23   21:00:00  22:00:00        13        49.0            6.0          4.000000                 2.0                     Karaoke,Low         HIGH     3.9      Aarhus  29.666667      0.333333        0.333333             0.166667             1                 1                     3          [3, 27]           0           0           1           0           0           0           0           0           0            0            0            0            0            0            0            0            0            0            0            0            0            0            0            0            0            0            1            0            0            0            0            0            0            0            0            0            0            0            0            0             2                  2           0\n",
      "7        30 2025-04-20   19:00:00  02:00:00        28        21.0            8.0          5.000000                 1.0    Gastro,Art Bar,Live,Open Air       MEDIUM     4.1     Aalborg  28.875000      0.125000        0.375000             0.375000             1                 1                     2  [9, 14, 15, 16]           0           0           0           0           0           0           0           0           1            0            0            0            0            1            1            1            0            0            0            0            0            0            0            0            0            0            0            0            0            0            0            0            0            0            0            0            0            0            0            0             1                  6           0\n",
      "8        12 2025-04-20   19:00:00  22:00:00        29        22.0           10.0          4.800000                 5.0     Hotel,Medium,Indie,Open Air          LOW     4.2     Randers  28.300000      0.400000        0.200000             0.200000             1                 1                     1    [1, 5, 2, 16]           1           1           0           0           1           0           0           0           0            0            0            0            0            0            0            1            0            0            0            0            0            0            0            0            0            0            0            0            0            0            0            0            0            0            0            0            0            0            0            0             0                  6           0\n",
      "9        36 2025-04-22   17:00:00  00:00:00         7         0.0            0.0          0.000000                 0.0                                          LOW     3.0     Esbjerg   0.000000      0.000000        0.000000             0.000000             0                 0                     1               []           0           0           0           0           0           0           0           0           0            0            0            0            0            0            0            0            0            0            0            0            0            0            0            0            0            0            0            0            0            0            0            0            0            0            0            0            0            0            0            0             4                  1           0\n"
     ]
    }
   ],
   "source": [
    "import holidays\n",
    "\n",
    "df_merged[\"event_weekday_num\"] = df_merged[\"event_date\"].dt.weekday  # 0=Monday, 6=Sunday\n",
    "\n",
    "# Step 2: Flag holidays using Denmark's calendar\n",
    "dk_holidays = holidays.country_holidays(\"DK\")\n",
    "df_merged[\"is_holiday\"] = df_merged[\"event_date\"].isin(dk_holidays).astype(int)\n",
    "df_merged[\"event_weekday_num\"] = df_merged[\"event_date\"].dt.weekday\n",
    "\n",
    "\n",
    "print(df_merged.head(10))"
   ]
  },
  {
   "cell_type": "markdown",
   "id": "78634919",
   "metadata": {},
   "source": [
    "### Drop non-numeric columns"
   ]
  },
  {
   "cell_type": "code",
   "execution_count": 22,
   "id": "d0e05597",
   "metadata": {},
   "outputs": [],
   "source": [
    "# df_merged = df_merged.drop(columns=[\"city\", \"price_rating\", \"tags\",\"tags_encoded\",\"venue_id\", ])\n",
    "# print(df_merged.head(50))"
   ]
  },
  {
   "cell_type": "code",
   "execution_count": 23,
   "id": "78c07c91",
   "metadata": {},
   "outputs": [
    {
     "ename": "AttributeError",
     "evalue": "'DataFrame' object has no attribute 'dtype'",
     "output_type": "error",
     "traceback": [
      "\u001b[1;31m---------------------------------------------------------------------------\u001b[0m",
      "\u001b[1;31mAttributeError\u001b[0m                            Traceback (most recent call last)",
      "\u001b[1;32m~\\AppData\\Local\\Temp\\ipykernel_37984\\2468356.py\u001b[0m in \u001b[0;36m?\u001b[1;34m()\u001b[0m\n\u001b[0;32m     10\u001b[0m \u001b[0mX_train\u001b[0m\u001b[1;33m,\u001b[0m \u001b[0mX_test\u001b[0m\u001b[1;33m,\u001b[0m \u001b[0my_train\u001b[0m\u001b[1;33m,\u001b[0m \u001b[0my_test\u001b[0m \u001b[1;33m=\u001b[0m \u001b[0mtrain_test_split\u001b[0m\u001b[1;33m(\u001b[0m\u001b[0mX\u001b[0m\u001b[1;33m,\u001b[0m \u001b[0my\u001b[0m\u001b[1;33m,\u001b[0m \u001b[0mtest_size\u001b[0m\u001b[1;33m=\u001b[0m\u001b[1;36m0.4\u001b[0m\u001b[1;33m,\u001b[0m \u001b[0mrandom_state\u001b[0m\u001b[1;33m=\u001b[0m\u001b[1;36m42\u001b[0m\u001b[1;33m)\u001b[0m\u001b[1;33m\u001b[0m\u001b[1;33m\u001b[0m\u001b[0m\n\u001b[0;32m     11\u001b[0m \u001b[1;33m\u001b[0m\u001b[0m\n\u001b[0;32m     12\u001b[0m \u001b[1;31m# Step 7: Train XGBoost model\u001b[0m\u001b[1;33m\u001b[0m\u001b[1;33m\u001b[0m\u001b[0m\n\u001b[0;32m     13\u001b[0m \u001b[0mmodel\u001b[0m \u001b[1;33m=\u001b[0m \u001b[0mXGBClassifier\u001b[0m\u001b[1;33m(\u001b[0m\u001b[0meval_metric\u001b[0m\u001b[1;33m=\u001b[0m\u001b[1;34m\"logloss\"\u001b[0m\u001b[1;33m,\u001b[0m \u001b[0muse_label_encoder\u001b[0m\u001b[1;33m=\u001b[0m\u001b[1;32mFalse\u001b[0m\u001b[1;33m,\u001b[0m \u001b[0mrandom_state\u001b[0m\u001b[1;33m=\u001b[0m\u001b[1;36m42\u001b[0m\u001b[1;33m)\u001b[0m\u001b[1;33m\u001b[0m\u001b[1;33m\u001b[0m\u001b[0m\n\u001b[1;32m---> 14\u001b[1;33m \u001b[0mmodel\u001b[0m\u001b[1;33m.\u001b[0m\u001b[0mfit\u001b[0m\u001b[1;33m(\u001b[0m\u001b[0mX_train\u001b[0m\u001b[1;33m,\u001b[0m \u001b[0my_train\u001b[0m\u001b[1;33m)\u001b[0m\u001b[1;33m\u001b[0m\u001b[1;33m\u001b[0m\u001b[0m\n\u001b[0m\u001b[0;32m     15\u001b[0m \u001b[1;33m\u001b[0m\u001b[0m\n\u001b[0;32m     16\u001b[0m \u001b[1;31m# Step 8: Predict and evaluate\u001b[0m\u001b[1;33m\u001b[0m\u001b[1;33m\u001b[0m\u001b[0m\n\u001b[0;32m     17\u001b[0m \u001b[0mprobs\u001b[0m \u001b[1;33m=\u001b[0m \u001b[0mmodel\u001b[0m\u001b[1;33m.\u001b[0m\u001b[0mpredict_proba\u001b[0m\u001b[1;33m(\u001b[0m\u001b[0mX_test\u001b[0m\u001b[1;33m)\u001b[0m\u001b[1;33m[\u001b[0m\u001b[1;33m:\u001b[0m\u001b[1;33m,\u001b[0m \u001b[1;36m1\u001b[0m\u001b[1;33m]\u001b[0m\u001b[1;33m\u001b[0m\u001b[1;33m\u001b[0m\u001b[0m\n",
      "\u001b[1;32m~\\AppData\\Local\\Packages\\PythonSoftwareFoundation.Python.3.12_qbz5n2kfra8p0\\LocalCache\\local-packages\\Python312\\site-packages\\xgboost\\core.py\u001b[0m in \u001b[0;36m?\u001b[1;34m(*args, **kwargs)\u001b[0m\n\u001b[0;32m    725\u001b[0m                     \u001b[1;32mraise\u001b[0m \u001b[0mTypeError\u001b[0m\u001b[1;33m(\u001b[0m\u001b[0mmsg\u001b[0m\u001b[1;33m)\u001b[0m\u001b[1;33m\u001b[0m\u001b[1;33m\u001b[0m\u001b[0m\n\u001b[0;32m    726\u001b[0m                 \u001b[0mwarnings\u001b[0m\u001b[1;33m.\u001b[0m\u001b[0mwarn\u001b[0m\u001b[1;33m(\u001b[0m\u001b[0mmsg\u001b[0m\u001b[1;33m,\u001b[0m \u001b[0mFutureWarning\u001b[0m\u001b[1;33m)\u001b[0m\u001b[1;33m\u001b[0m\u001b[1;33m\u001b[0m\u001b[0m\n\u001b[0;32m    727\u001b[0m             \u001b[1;32mfor\u001b[0m \u001b[0mk\u001b[0m\u001b[1;33m,\u001b[0m \u001b[0marg\u001b[0m \u001b[1;32min\u001b[0m \u001b[0mzip\u001b[0m\u001b[1;33m(\u001b[0m\u001b[0msig\u001b[0m\u001b[1;33m.\u001b[0m\u001b[0mparameters\u001b[0m\u001b[1;33m,\u001b[0m \u001b[0margs\u001b[0m\u001b[1;33m)\u001b[0m\u001b[1;33m:\u001b[0m\u001b[1;33m\u001b[0m\u001b[1;33m\u001b[0m\u001b[0m\n\u001b[0;32m    728\u001b[0m                 \u001b[0mkwargs\u001b[0m\u001b[1;33m[\u001b[0m\u001b[0mk\u001b[0m\u001b[1;33m]\u001b[0m \u001b[1;33m=\u001b[0m \u001b[0marg\u001b[0m\u001b[1;33m\u001b[0m\u001b[1;33m\u001b[0m\u001b[0m\n\u001b[1;32m--> 729\u001b[1;33m             \u001b[1;32mreturn\u001b[0m \u001b[0mfunc\u001b[0m\u001b[1;33m(\u001b[0m\u001b[1;33m**\u001b[0m\u001b[0mkwargs\u001b[0m\u001b[1;33m)\u001b[0m\u001b[1;33m\u001b[0m\u001b[1;33m\u001b[0m\u001b[0m\n\u001b[0m",
      "\u001b[1;32m~\\AppData\\Local\\Packages\\PythonSoftwareFoundation.Python.3.12_qbz5n2kfra8p0\\LocalCache\\local-packages\\Python312\\site-packages\\xgboost\\sklearn.py\u001b[0m in \u001b[0;36m?\u001b[1;34m(self, X, y, sample_weight, base_margin, eval_set, verbose, xgb_model, sample_weight_eval_set, base_margin_eval_set, feature_weights)\u001b[0m\n\u001b[0;32m   1659\u001b[0m \u001b[1;33m\u001b[0m\u001b[0m\n\u001b[0;32m   1660\u001b[0m             model, metric, params, feature_weights = self._configure_fit(\n\u001b[0;32m   1661\u001b[0m                 \u001b[0mxgb_model\u001b[0m\u001b[1;33m,\u001b[0m \u001b[0mparams\u001b[0m\u001b[1;33m,\u001b[0m \u001b[0mfeature_weights\u001b[0m\u001b[1;33m\u001b[0m\u001b[1;33m\u001b[0m\u001b[0m\n\u001b[0;32m   1662\u001b[0m             \u001b[1;33m)\u001b[0m\u001b[1;33m\u001b[0m\u001b[1;33m\u001b[0m\u001b[0m\n\u001b[1;32m-> 1663\u001b[1;33m             train_dmatrix, evals = _wrap_evaluation_matrices(\n\u001b[0m\u001b[0;32m   1664\u001b[0m                 \u001b[0mmissing\u001b[0m\u001b[1;33m=\u001b[0m\u001b[0mself\u001b[0m\u001b[1;33m.\u001b[0m\u001b[0mmissing\u001b[0m\u001b[1;33m,\u001b[0m\u001b[1;33m\u001b[0m\u001b[1;33m\u001b[0m\u001b[0m\n\u001b[0;32m   1665\u001b[0m                 \u001b[0mX\u001b[0m\u001b[1;33m=\u001b[0m\u001b[0mX\u001b[0m\u001b[1;33m,\u001b[0m\u001b[1;33m\u001b[0m\u001b[1;33m\u001b[0m\u001b[0m\n\u001b[0;32m   1666\u001b[0m                 \u001b[0my\u001b[0m\u001b[1;33m=\u001b[0m\u001b[0my\u001b[0m\u001b[1;33m,\u001b[0m\u001b[1;33m\u001b[0m\u001b[1;33m\u001b[0m\u001b[0m\n",
      "\u001b[1;32m~\\AppData\\Local\\Packages\\PythonSoftwareFoundation.Python.3.12_qbz5n2kfra8p0\\LocalCache\\local-packages\\Python312\\site-packages\\xgboost\\sklearn.py\u001b[0m in \u001b[0;36m?\u001b[1;34m(missing, X, y, group, qid, sample_weight, base_margin, feature_weights, eval_set, sample_weight_eval_set, base_margin_eval_set, eval_group, eval_qid, create_dmatrix, enable_categorical, feature_types)\u001b[0m\n\u001b[0;32m    624\u001b[0m     \u001b[0mfeature_types\u001b[0m\u001b[1;33m:\u001b[0m \u001b[0mOptional\u001b[0m\u001b[1;33m[\u001b[0m\u001b[0mFeatureTypes\u001b[0m\u001b[1;33m]\u001b[0m\u001b[1;33m,\u001b[0m\u001b[1;33m\u001b[0m\u001b[1;33m\u001b[0m\u001b[0m\n\u001b[0;32m    625\u001b[0m \u001b[1;33m)\u001b[0m \u001b[1;33m->\u001b[0m \u001b[0mTuple\u001b[0m\u001b[1;33m[\u001b[0m\u001b[0mAny\u001b[0m\u001b[1;33m,\u001b[0m \u001b[0mList\u001b[0m\u001b[1;33m[\u001b[0m\u001b[0mTuple\u001b[0m\u001b[1;33m[\u001b[0m\u001b[0mAny\u001b[0m\u001b[1;33m,\u001b[0m \u001b[0mstr\u001b[0m\u001b[1;33m]\u001b[0m\u001b[1;33m]\u001b[0m\u001b[1;33m]\u001b[0m\u001b[1;33m:\u001b[0m\u001b[1;33m\u001b[0m\u001b[1;33m\u001b[0m\u001b[0m\n\u001b[0;32m    626\u001b[0m     \"\"\"Convert array_like evaluation matrices into DMatrix.  Perform validation on the\n\u001b[0;32m    627\u001b[0m     way.\"\"\"\n\u001b[1;32m--> 628\u001b[1;33m     train_dmatrix = create_dmatrix(\n\u001b[0m\u001b[0;32m    629\u001b[0m         \u001b[0mdata\u001b[0m\u001b[1;33m=\u001b[0m\u001b[0mX\u001b[0m\u001b[1;33m,\u001b[0m\u001b[1;33m\u001b[0m\u001b[1;33m\u001b[0m\u001b[0m\n\u001b[0;32m    630\u001b[0m         \u001b[0mlabel\u001b[0m\u001b[1;33m=\u001b[0m\u001b[0my\u001b[0m\u001b[1;33m,\u001b[0m\u001b[1;33m\u001b[0m\u001b[1;33m\u001b[0m\u001b[0m\n\u001b[0;32m    631\u001b[0m         \u001b[0mgroup\u001b[0m\u001b[1;33m=\u001b[0m\u001b[0mgroup\u001b[0m\u001b[1;33m,\u001b[0m\u001b[1;33m\u001b[0m\u001b[1;33m\u001b[0m\u001b[0m\n",
      "\u001b[1;32m~\\AppData\\Local\\Packages\\PythonSoftwareFoundation.Python.3.12_qbz5n2kfra8p0\\LocalCache\\local-packages\\Python312\\site-packages\\xgboost\\sklearn.py\u001b[0m in \u001b[0;36m?\u001b[1;34m(self, ref, **kwargs)\u001b[0m\n\u001b[0;32m   1136\u001b[0m             \u001b[1;32mtry\u001b[0m\u001b[1;33m:\u001b[0m\u001b[1;33m\u001b[0m\u001b[1;33m\u001b[0m\u001b[0m\n\u001b[0;32m   1137\u001b[0m                 return QuantileDMatrix(\n\u001b[0;32m   1138\u001b[0m                     \u001b[1;33m**\u001b[0m\u001b[0mkwargs\u001b[0m\u001b[1;33m,\u001b[0m \u001b[0mref\u001b[0m\u001b[1;33m=\u001b[0m\u001b[0mref\u001b[0m\u001b[1;33m,\u001b[0m \u001b[0mnthread\u001b[0m\u001b[1;33m=\u001b[0m\u001b[0mself\u001b[0m\u001b[1;33m.\u001b[0m\u001b[0mn_jobs\u001b[0m\u001b[1;33m,\u001b[0m \u001b[0mmax_bin\u001b[0m\u001b[1;33m=\u001b[0m\u001b[0mself\u001b[0m\u001b[1;33m.\u001b[0m\u001b[0mmax_bin\u001b[0m\u001b[1;33m\u001b[0m\u001b[1;33m\u001b[0m\u001b[0m\n\u001b[0;32m   1139\u001b[0m                 \u001b[1;33m)\u001b[0m\u001b[1;33m\u001b[0m\u001b[1;33m\u001b[0m\u001b[0m\n\u001b[1;32m-> 1140\u001b[1;33m             \u001b[1;32mexcept\u001b[0m \u001b[0mTypeError\u001b[0m\u001b[1;33m:\u001b[0m  \u001b[1;31m# `QuantileDMatrix` supports lesser types than DMatrix\u001b[0m\u001b[1;33m\u001b[0m\u001b[1;33m\u001b[0m\u001b[0m\n\u001b[0m\u001b[0;32m   1141\u001b[0m                 \u001b[1;32mpass\u001b[0m\u001b[1;33m\u001b[0m\u001b[1;33m\u001b[0m\u001b[0m\n\u001b[0;32m   1142\u001b[0m         \u001b[1;32mreturn\u001b[0m \u001b[0mDMatrix\u001b[0m\u001b[1;33m(\u001b[0m\u001b[1;33m**\u001b[0m\u001b[0mkwargs\u001b[0m\u001b[1;33m,\u001b[0m \u001b[0mnthread\u001b[0m\u001b[1;33m=\u001b[0m\u001b[0mself\u001b[0m\u001b[1;33m.\u001b[0m\u001b[0mn_jobs\u001b[0m\u001b[1;33m)\u001b[0m\u001b[1;33m\u001b[0m\u001b[1;33m\u001b[0m\u001b[0m\n",
      "\u001b[1;32m~\\AppData\\Local\\Packages\\PythonSoftwareFoundation.Python.3.12_qbz5n2kfra8p0\\LocalCache\\local-packages\\Python312\\site-packages\\xgboost\\core.py\u001b[0m in \u001b[0;36m?\u001b[1;34m(*args, **kwargs)\u001b[0m\n\u001b[0;32m    725\u001b[0m                     \u001b[1;32mraise\u001b[0m \u001b[0mTypeError\u001b[0m\u001b[1;33m(\u001b[0m\u001b[0mmsg\u001b[0m\u001b[1;33m)\u001b[0m\u001b[1;33m\u001b[0m\u001b[1;33m\u001b[0m\u001b[0m\n\u001b[0;32m    726\u001b[0m                 \u001b[0mwarnings\u001b[0m\u001b[1;33m.\u001b[0m\u001b[0mwarn\u001b[0m\u001b[1;33m(\u001b[0m\u001b[0mmsg\u001b[0m\u001b[1;33m,\u001b[0m \u001b[0mFutureWarning\u001b[0m\u001b[1;33m)\u001b[0m\u001b[1;33m\u001b[0m\u001b[1;33m\u001b[0m\u001b[0m\n\u001b[0;32m    727\u001b[0m             \u001b[1;32mfor\u001b[0m \u001b[0mk\u001b[0m\u001b[1;33m,\u001b[0m \u001b[0marg\u001b[0m \u001b[1;32min\u001b[0m \u001b[0mzip\u001b[0m\u001b[1;33m(\u001b[0m\u001b[0msig\u001b[0m\u001b[1;33m.\u001b[0m\u001b[0mparameters\u001b[0m\u001b[1;33m,\u001b[0m \u001b[0margs\u001b[0m\u001b[1;33m)\u001b[0m\u001b[1;33m:\u001b[0m\u001b[1;33m\u001b[0m\u001b[1;33m\u001b[0m\u001b[0m\n\u001b[0;32m    728\u001b[0m                 \u001b[0mkwargs\u001b[0m\u001b[1;33m[\u001b[0m\u001b[0mk\u001b[0m\u001b[1;33m]\u001b[0m \u001b[1;33m=\u001b[0m \u001b[0marg\u001b[0m\u001b[1;33m\u001b[0m\u001b[1;33m\u001b[0m\u001b[0m\n\u001b[1;32m--> 729\u001b[1;33m             \u001b[1;32mreturn\u001b[0m \u001b[0mfunc\u001b[0m\u001b[1;33m(\u001b[0m\u001b[1;33m**\u001b[0m\u001b[0mkwargs\u001b[0m\u001b[1;33m)\u001b[0m\u001b[1;33m\u001b[0m\u001b[1;33m\u001b[0m\u001b[0m\n\u001b[0m",
      "\u001b[1;32m~\\AppData\\Local\\Packages\\PythonSoftwareFoundation.Python.3.12_qbz5n2kfra8p0\\LocalCache\\local-packages\\Python312\\site-packages\\xgboost\\core.py\u001b[0m in \u001b[0;36m?\u001b[1;34m(self, data, label, weight, base_margin, missing, silent, feature_names, feature_types, nthread, max_bin, ref, group, qid, label_lower_bound, label_upper_bound, feature_weights, enable_categorical, max_quantile_batches, data_split_mode)\u001b[0m\n\u001b[0;32m   1610\u001b[0m                     \u001b[1;34m\"If data iterator is used as input, data like label should be \"\u001b[0m\u001b[1;33m\u001b[0m\u001b[1;33m\u001b[0m\u001b[0m\n\u001b[0;32m   1611\u001b[0m                     \u001b[1;34m\"specified as batch argument.\"\u001b[0m\u001b[1;33m\u001b[0m\u001b[1;33m\u001b[0m\u001b[0m\n\u001b[0;32m   1612\u001b[0m                 \u001b[1;33m)\u001b[0m\u001b[1;33m\u001b[0m\u001b[1;33m\u001b[0m\u001b[0m\n\u001b[0;32m   1613\u001b[0m \u001b[1;33m\u001b[0m\u001b[0m\n\u001b[1;32m-> 1614\u001b[1;33m         self._init(\n\u001b[0m\u001b[0;32m   1615\u001b[0m             \u001b[0mdata\u001b[0m\u001b[1;33m,\u001b[0m\u001b[1;33m\u001b[0m\u001b[1;33m\u001b[0m\u001b[0m\n\u001b[0;32m   1616\u001b[0m             \u001b[0mref\u001b[0m\u001b[1;33m=\u001b[0m\u001b[0mref\u001b[0m\u001b[1;33m,\u001b[0m\u001b[1;33m\u001b[0m\u001b[1;33m\u001b[0m\u001b[0m\n\u001b[0;32m   1617\u001b[0m             \u001b[0mlabel\u001b[0m\u001b[1;33m=\u001b[0m\u001b[0mlabel\u001b[0m\u001b[1;33m,\u001b[0m\u001b[1;33m\u001b[0m\u001b[1;33m\u001b[0m\u001b[0m\n",
      "\u001b[1;32m~\\AppData\\Local\\Packages\\PythonSoftwareFoundation.Python.3.12_qbz5n2kfra8p0\\LocalCache\\local-packages\\Python312\\site-packages\\xgboost\\core.py\u001b[0m in \u001b[0;36m?\u001b[1;34m(self, data, ref, enable_categorical, max_quantile_blocks, **meta)\u001b[0m\n\u001b[0;32m   1674\u001b[0m             \u001b[0mnext_callback\u001b[0m\u001b[1;33m,\u001b[0m\u001b[1;33m\u001b[0m\u001b[1;33m\u001b[0m\u001b[0m\n\u001b[0;32m   1675\u001b[0m             \u001b[0mconfig\u001b[0m\u001b[1;33m,\u001b[0m\u001b[1;33m\u001b[0m\u001b[1;33m\u001b[0m\u001b[0m\n\u001b[0;32m   1676\u001b[0m             \u001b[0mctypes\u001b[0m\u001b[1;33m.\u001b[0m\u001b[0mbyref\u001b[0m\u001b[1;33m(\u001b[0m\u001b[0mhandle\u001b[0m\u001b[1;33m)\u001b[0m\u001b[1;33m,\u001b[0m\u001b[1;33m\u001b[0m\u001b[1;33m\u001b[0m\u001b[0m\n\u001b[0;32m   1677\u001b[0m         \u001b[1;33m)\u001b[0m\u001b[1;33m\u001b[0m\u001b[1;33m\u001b[0m\u001b[0m\n\u001b[1;32m-> 1678\u001b[1;33m         \u001b[0mit\u001b[0m\u001b[1;33m.\u001b[0m\u001b[0mreraise\u001b[0m\u001b[1;33m(\u001b[0m\u001b[1;33m)\u001b[0m\u001b[1;33m\u001b[0m\u001b[1;33m\u001b[0m\u001b[0m\n\u001b[0m\u001b[0;32m   1679\u001b[0m         \u001b[1;31m# delay check_call to throw intermediate exception first\u001b[0m\u001b[1;33m\u001b[0m\u001b[1;33m\u001b[0m\u001b[0m\n\u001b[0;32m   1680\u001b[0m         \u001b[0m_check_call\u001b[0m\u001b[1;33m(\u001b[0m\u001b[0mret\u001b[0m\u001b[1;33m)\u001b[0m\u001b[1;33m\u001b[0m\u001b[1;33m\u001b[0m\u001b[0m\n\u001b[0;32m   1681\u001b[0m         \u001b[0mself\u001b[0m\u001b[1;33m.\u001b[0m\u001b[0mhandle\u001b[0m \u001b[1;33m=\u001b[0m \u001b[0mhandle\u001b[0m\u001b[1;33m\u001b[0m\u001b[1;33m\u001b[0m\u001b[0m\n",
      "\u001b[1;32m~\\AppData\\Local\\Packages\\PythonSoftwareFoundation.Python.3.12_qbz5n2kfra8p0\\LocalCache\\local-packages\\Python312\\site-packages\\xgboost\\core.py\u001b[0m in \u001b[0;36m?\u001b[1;34m(self)\u001b[0m\n\u001b[0;32m    568\u001b[0m             \u001b[1;31m#  pylint 2.7.0 believes `self._exception` can be None even with `assert\u001b[0m\u001b[1;33m\u001b[0m\u001b[1;33m\u001b[0m\u001b[0m\n\u001b[0;32m    569\u001b[0m             \u001b[1;31m#  isinstace`\u001b[0m\u001b[1;33m\u001b[0m\u001b[1;33m\u001b[0m\u001b[0m\n\u001b[0;32m    570\u001b[0m             \u001b[0mexc\u001b[0m \u001b[1;33m=\u001b[0m \u001b[0mself\u001b[0m\u001b[1;33m.\u001b[0m\u001b[0m_exception\u001b[0m\u001b[1;33m\u001b[0m\u001b[1;33m\u001b[0m\u001b[0m\n\u001b[0;32m    571\u001b[0m             \u001b[0mself\u001b[0m\u001b[1;33m.\u001b[0m\u001b[0m_exception\u001b[0m \u001b[1;33m=\u001b[0m \u001b[1;32mNone\u001b[0m\u001b[1;33m\u001b[0m\u001b[1;33m\u001b[0m\u001b[0m\n\u001b[1;32m--> 572\u001b[1;33m             \u001b[1;32mraise\u001b[0m \u001b[0mexc\u001b[0m  \u001b[1;31m# pylint: disable=raising-bad-type\u001b[0m\u001b[1;33m\u001b[0m\u001b[1;33m\u001b[0m\u001b[0m\n\u001b[0m",
      "\u001b[1;32m~\\AppData\\Local\\Packages\\PythonSoftwareFoundation.Python.3.12_qbz5n2kfra8p0\\LocalCache\\local-packages\\Python312\\site-packages\\xgboost\\core.py\u001b[0m in \u001b[0;36m?\u001b[1;34m(self, fn, dft_ret)\u001b[0m\n\u001b[0;32m    558\u001b[0m             \u001b[0mtb\u001b[0m \u001b[1;33m=\u001b[0m \u001b[0msys\u001b[0m\u001b[1;33m.\u001b[0m\u001b[0mexc_info\u001b[0m\u001b[1;33m(\u001b[0m\u001b[1;33m)\u001b[0m\u001b[1;33m[\u001b[0m\u001b[1;36m2\u001b[0m\u001b[1;33m]\u001b[0m\u001b[1;33m\u001b[0m\u001b[1;33m\u001b[0m\u001b[0m\n\u001b[0;32m    559\u001b[0m             \u001b[1;31m# On dask, the worker is restarted and somehow the information is\u001b[0m\u001b[1;33m\u001b[0m\u001b[1;33m\u001b[0m\u001b[0m\n\u001b[0;32m    560\u001b[0m             \u001b[1;31m# lost.\u001b[0m\u001b[1;33m\u001b[0m\u001b[1;33m\u001b[0m\u001b[0m\n\u001b[0;32m    561\u001b[0m             \u001b[0mself\u001b[0m\u001b[1;33m.\u001b[0m\u001b[0m_exception\u001b[0m \u001b[1;33m=\u001b[0m \u001b[0me\u001b[0m\u001b[1;33m.\u001b[0m\u001b[0mwith_traceback\u001b[0m\u001b[1;33m(\u001b[0m\u001b[0mtb\u001b[0m\u001b[1;33m)\u001b[0m\u001b[1;33m\u001b[0m\u001b[1;33m\u001b[0m\u001b[0m\n\u001b[1;32m--> 562\u001b[1;33m         \u001b[1;32mreturn\u001b[0m \u001b[0mdft_ret\u001b[0m\u001b[1;33m\u001b[0m\u001b[1;33m\u001b[0m\u001b[0m\n\u001b[0m",
      "\u001b[1;32m~\\AppData\\Local\\Packages\\PythonSoftwareFoundation.Python.3.12_qbz5n2kfra8p0\\LocalCache\\local-packages\\Python312\\site-packages\\xgboost\\core.py\u001b[0m in \u001b[0;36m?\u001b[1;34m()\u001b[0m\n\u001b[1;32m--> 640\u001b[1;33m         \u001b[1;32mreturn\u001b[0m \u001b[0mself\u001b[0m\u001b[1;33m.\u001b[0m\u001b[0m_handle_exception\u001b[0m\u001b[1;33m(\u001b[0m\u001b[1;32mlambda\u001b[0m\u001b[1;33m:\u001b[0m \u001b[0mint\u001b[0m\u001b[1;33m(\u001b[0m\u001b[0mself\u001b[0m\u001b[1;33m.\u001b[0m\u001b[0mnext\u001b[0m\u001b[1;33m(\u001b[0m\u001b[0minput_data\u001b[0m\u001b[1;33m)\u001b[0m\u001b[1;33m)\u001b[0m\u001b[1;33m,\u001b[0m \u001b[1;36m0\u001b[0m\u001b[1;33m)\u001b[0m\u001b[1;33m\u001b[0m\u001b[1;33m\u001b[0m\u001b[0m\n\u001b[0m",
      "\u001b[1;32m~\\AppData\\Local\\Packages\\PythonSoftwareFoundation.Python.3.12_qbz5n2kfra8p0\\LocalCache\\local-packages\\Python312\\site-packages\\xgboost\\data.py\u001b[0m in \u001b[0;36m?\u001b[1;34m(self, input_data)\u001b[0m\n\u001b[0;32m   1650\u001b[0m     \u001b[1;32mdef\u001b[0m \u001b[0mnext\u001b[0m\u001b[1;33m(\u001b[0m\u001b[0mself\u001b[0m\u001b[1;33m,\u001b[0m \u001b[0minput_data\u001b[0m\u001b[1;33m:\u001b[0m \u001b[0mCallable\u001b[0m\u001b[1;33m)\u001b[0m \u001b[1;33m->\u001b[0m \u001b[0mbool\u001b[0m\u001b[1;33m:\u001b[0m\u001b[1;33m\u001b[0m\u001b[1;33m\u001b[0m\u001b[0m\n\u001b[0;32m   1651\u001b[0m         \u001b[1;32mif\u001b[0m \u001b[0mself\u001b[0m\u001b[1;33m.\u001b[0m\u001b[0mit\u001b[0m \u001b[1;33m==\u001b[0m \u001b[1;36m1\u001b[0m\u001b[1;33m:\u001b[0m\u001b[1;33m\u001b[0m\u001b[1;33m\u001b[0m\u001b[0m\n\u001b[0;32m   1652\u001b[0m             \u001b[1;32mreturn\u001b[0m \u001b[1;32mFalse\u001b[0m\u001b[1;33m\u001b[0m\u001b[1;33m\u001b[0m\u001b[0m\n\u001b[0;32m   1653\u001b[0m         \u001b[0mself\u001b[0m\u001b[1;33m.\u001b[0m\u001b[0mit\u001b[0m \u001b[1;33m+=\u001b[0m \u001b[1;36m1\u001b[0m\u001b[1;33m\u001b[0m\u001b[1;33m\u001b[0m\u001b[0m\n\u001b[1;32m-> 1654\u001b[1;33m         \u001b[0minput_data\u001b[0m\u001b[1;33m(\u001b[0m\u001b[1;33m**\u001b[0m\u001b[0mself\u001b[0m\u001b[1;33m.\u001b[0m\u001b[0mkwargs\u001b[0m\u001b[1;33m)\u001b[0m\u001b[1;33m\u001b[0m\u001b[1;33m\u001b[0m\u001b[0m\n\u001b[0m\u001b[0;32m   1655\u001b[0m         \u001b[1;32mreturn\u001b[0m \u001b[1;32mTrue\u001b[0m\u001b[1;33m\u001b[0m\u001b[1;33m\u001b[0m\u001b[0m\n",
      "\u001b[1;32m~\\AppData\\Local\\Packages\\PythonSoftwareFoundation.Python.3.12_qbz5n2kfra8p0\\LocalCache\\local-packages\\Python312\\site-packages\\xgboost\\core.py\u001b[0m in \u001b[0;36m?\u001b[1;34m(*args, **kwargs)\u001b[0m\n\u001b[0;32m    725\u001b[0m                     \u001b[1;32mraise\u001b[0m \u001b[0mTypeError\u001b[0m\u001b[1;33m(\u001b[0m\u001b[0mmsg\u001b[0m\u001b[1;33m)\u001b[0m\u001b[1;33m\u001b[0m\u001b[1;33m\u001b[0m\u001b[0m\n\u001b[0;32m    726\u001b[0m                 \u001b[0mwarnings\u001b[0m\u001b[1;33m.\u001b[0m\u001b[0mwarn\u001b[0m\u001b[1;33m(\u001b[0m\u001b[0mmsg\u001b[0m\u001b[1;33m,\u001b[0m \u001b[0mFutureWarning\u001b[0m\u001b[1;33m)\u001b[0m\u001b[1;33m\u001b[0m\u001b[1;33m\u001b[0m\u001b[0m\n\u001b[0;32m    727\u001b[0m             \u001b[1;32mfor\u001b[0m \u001b[0mk\u001b[0m\u001b[1;33m,\u001b[0m \u001b[0marg\u001b[0m \u001b[1;32min\u001b[0m \u001b[0mzip\u001b[0m\u001b[1;33m(\u001b[0m\u001b[0msig\u001b[0m\u001b[1;33m.\u001b[0m\u001b[0mparameters\u001b[0m\u001b[1;33m,\u001b[0m \u001b[0margs\u001b[0m\u001b[1;33m)\u001b[0m\u001b[1;33m:\u001b[0m\u001b[1;33m\u001b[0m\u001b[1;33m\u001b[0m\u001b[0m\n\u001b[0;32m    728\u001b[0m                 \u001b[0mkwargs\u001b[0m\u001b[1;33m[\u001b[0m\u001b[0mk\u001b[0m\u001b[1;33m]\u001b[0m \u001b[1;33m=\u001b[0m \u001b[0marg\u001b[0m\u001b[1;33m\u001b[0m\u001b[1;33m\u001b[0m\u001b[0m\n\u001b[1;32m--> 729\u001b[1;33m             \u001b[1;32mreturn\u001b[0m \u001b[0mfunc\u001b[0m\u001b[1;33m(\u001b[0m\u001b[1;33m**\u001b[0m\u001b[0mkwargs\u001b[0m\u001b[1;33m)\u001b[0m\u001b[1;33m\u001b[0m\u001b[1;33m\u001b[0m\u001b[0m\n\u001b[0m",
      "\u001b[1;32m~\\AppData\\Local\\Packages\\PythonSoftwareFoundation.Python.3.12_qbz5n2kfra8p0\\LocalCache\\local-packages\\Python312\\site-packages\\xgboost\\core.py\u001b[0m in \u001b[0;36m?\u001b[1;34m(data, feature_names, feature_types, **kwargs)\u001b[0m\n\u001b[0;32m    616\u001b[0m                 \u001b[1;32mand\u001b[0m \u001b[0mref\u001b[0m \u001b[1;32mis\u001b[0m \u001b[0mself\u001b[0m\u001b[1;33m.\u001b[0m\u001b[0m_data_ref\u001b[0m\u001b[1;33m\u001b[0m\u001b[1;33m\u001b[0m\u001b[0m\n\u001b[0;32m    617\u001b[0m             \u001b[1;33m)\u001b[0m\u001b[1;33m:\u001b[0m\u001b[1;33m\u001b[0m\u001b[1;33m\u001b[0m\u001b[0m\n\u001b[0;32m    618\u001b[0m                 \u001b[0mnew\u001b[0m\u001b[1;33m,\u001b[0m \u001b[0mcat_codes\u001b[0m\u001b[1;33m,\u001b[0m \u001b[0mfeature_names\u001b[0m\u001b[1;33m,\u001b[0m \u001b[0mfeature_types\u001b[0m \u001b[1;33m=\u001b[0m \u001b[0mself\u001b[0m\u001b[1;33m.\u001b[0m\u001b[0m_temporary_data\u001b[0m\u001b[1;33m\u001b[0m\u001b[1;33m\u001b[0m\u001b[0m\n\u001b[0;32m    619\u001b[0m             \u001b[1;32melse\u001b[0m\u001b[1;33m:\u001b[0m\u001b[1;33m\u001b[0m\u001b[1;33m\u001b[0m\u001b[0m\n\u001b[1;32m--> 620\u001b[1;33m                 new, cat_codes, feature_names, feature_types = _proxy_transform(\n\u001b[0m\u001b[0;32m    621\u001b[0m                     \u001b[0mdata\u001b[0m\u001b[1;33m,\u001b[0m\u001b[1;33m\u001b[0m\u001b[1;33m\u001b[0m\u001b[0m\n\u001b[0;32m    622\u001b[0m                     \u001b[0mfeature_names\u001b[0m\u001b[1;33m,\u001b[0m\u001b[1;33m\u001b[0m\u001b[1;33m\u001b[0m\u001b[0m\n\u001b[0;32m    623\u001b[0m                     \u001b[0mfeature_types\u001b[0m\u001b[1;33m,\u001b[0m\u001b[1;33m\u001b[0m\u001b[1;33m\u001b[0m\u001b[0m\n",
      "\u001b[1;32m~\\AppData\\Local\\Packages\\PythonSoftwareFoundation.Python.3.12_qbz5n2kfra8p0\\LocalCache\\local-packages\\Python312\\site-packages\\xgboost\\data.py\u001b[0m in \u001b[0;36m?\u001b[1;34m(data, feature_names, feature_types, enable_categorical)\u001b[0m\n\u001b[0;32m   1703\u001b[0m             \u001b[0mdata\u001b[0m\u001b[1;33m,\u001b[0m \u001b[0menable_categorical\u001b[0m\u001b[1;33m,\u001b[0m \u001b[0mfeature_names\u001b[0m\u001b[1;33m,\u001b[0m \u001b[0mfeature_types\u001b[0m\u001b[1;33m\u001b[0m\u001b[1;33m\u001b[0m\u001b[0m\n\u001b[0;32m   1704\u001b[0m         \u001b[1;33m)\u001b[0m\u001b[1;33m\u001b[0m\u001b[1;33m\u001b[0m\u001b[0m\n\u001b[0;32m   1705\u001b[0m         \u001b[1;32mreturn\u001b[0m \u001b[0mdf_pa\u001b[0m\u001b[1;33m,\u001b[0m \u001b[1;32mNone\u001b[0m\u001b[1;33m,\u001b[0m \u001b[0mfeature_names\u001b[0m\u001b[1;33m,\u001b[0m \u001b[0mfeature_types\u001b[0m\u001b[1;33m\u001b[0m\u001b[1;33m\u001b[0m\u001b[0m\n\u001b[0;32m   1706\u001b[0m     \u001b[1;32mif\u001b[0m \u001b[0m_is_pandas_df\u001b[0m\u001b[1;33m(\u001b[0m\u001b[0mdata\u001b[0m\u001b[1;33m)\u001b[0m\u001b[1;33m:\u001b[0m\u001b[1;33m\u001b[0m\u001b[1;33m\u001b[0m\u001b[0m\n\u001b[1;32m-> 1707\u001b[1;33m         df, feature_names, feature_types = _transform_pandas_df(\n\u001b[0m\u001b[0;32m   1708\u001b[0m             \u001b[0mdata\u001b[0m\u001b[1;33m,\u001b[0m \u001b[0menable_categorical\u001b[0m\u001b[1;33m,\u001b[0m \u001b[0mfeature_names\u001b[0m\u001b[1;33m,\u001b[0m \u001b[0mfeature_types\u001b[0m\u001b[1;33m\u001b[0m\u001b[1;33m\u001b[0m\u001b[0m\n\u001b[0;32m   1709\u001b[0m         \u001b[1;33m)\u001b[0m\u001b[1;33m\u001b[0m\u001b[1;33m\u001b[0m\u001b[0m\n\u001b[0;32m   1710\u001b[0m         \u001b[1;32mreturn\u001b[0m \u001b[0mdf\u001b[0m\u001b[1;33m,\u001b[0m \u001b[1;32mNone\u001b[0m\u001b[1;33m,\u001b[0m \u001b[0mfeature_names\u001b[0m\u001b[1;33m,\u001b[0m \u001b[0mfeature_types\u001b[0m\u001b[1;33m\u001b[0m\u001b[1;33m\u001b[0m\u001b[0m\n",
      "\u001b[1;32m~\\AppData\\Local\\Packages\\PythonSoftwareFoundation.Python.3.12_qbz5n2kfra8p0\\LocalCache\\local-packages\\Python312\\site-packages\\xgboost\\data.py\u001b[0m in \u001b[0;36m?\u001b[1;34m(data, enable_categorical, feature_names, feature_types, meta)\u001b[0m\n\u001b[0;32m    640\u001b[0m     feature_names, feature_types = pandas_feature_info(\n\u001b[0;32m    641\u001b[0m         \u001b[0mdata\u001b[0m\u001b[1;33m,\u001b[0m \u001b[0mmeta\u001b[0m\u001b[1;33m,\u001b[0m \u001b[0mfeature_names\u001b[0m\u001b[1;33m,\u001b[0m \u001b[0mfeature_types\u001b[0m\u001b[1;33m,\u001b[0m \u001b[0menable_categorical\u001b[0m\u001b[1;33m\u001b[0m\u001b[1;33m\u001b[0m\u001b[0m\n\u001b[0;32m    642\u001b[0m     \u001b[1;33m)\u001b[0m\u001b[1;33m\u001b[0m\u001b[1;33m\u001b[0m\u001b[0m\n\u001b[0;32m    643\u001b[0m \u001b[1;33m\u001b[0m\u001b[0m\n\u001b[1;32m--> 644\u001b[1;33m     \u001b[0marrays\u001b[0m \u001b[1;33m=\u001b[0m \u001b[0mpandas_transform_data\u001b[0m\u001b[1;33m(\u001b[0m\u001b[0mdata\u001b[0m\u001b[1;33m)\u001b[0m\u001b[1;33m\u001b[0m\u001b[1;33m\u001b[0m\u001b[0m\n\u001b[0m\u001b[0;32m    645\u001b[0m     \u001b[1;32mreturn\u001b[0m \u001b[0mPandasTransformed\u001b[0m\u001b[1;33m(\u001b[0m\u001b[0marrays\u001b[0m\u001b[1;33m)\u001b[0m\u001b[1;33m,\u001b[0m \u001b[0mfeature_names\u001b[0m\u001b[1;33m,\u001b[0m \u001b[0mfeature_types\u001b[0m\u001b[1;33m\u001b[0m\u001b[1;33m\u001b[0m\u001b[0m\n",
      "\u001b[1;32m~\\AppData\\Local\\Packages\\PythonSoftwareFoundation.Python.3.12_qbz5n2kfra8p0\\LocalCache\\local-packages\\Python312\\site-packages\\xgboost\\data.py\u001b[0m in \u001b[0;36m?\u001b[1;34m(data)\u001b[0m\n\u001b[0;32m    600\u001b[0m             \u001b[1;32mif\u001b[0m \u001b[0m_is_np_array_like\u001b[0m\u001b[1;33m(\u001b[0m\u001b[0marr\u001b[0m\u001b[1;33m)\u001b[0m\u001b[1;33m:\u001b[0m\u001b[1;33m\u001b[0m\u001b[1;33m\u001b[0m\u001b[0m\n\u001b[0;32m    601\u001b[0m                 \u001b[0marr\u001b[0m\u001b[1;33m,\u001b[0m \u001b[0m_\u001b[0m \u001b[1;33m=\u001b[0m \u001b[0m_ensure_np_dtype\u001b[0m\u001b[1;33m(\u001b[0m\u001b[0marr\u001b[0m\u001b[1;33m,\u001b[0m \u001b[0marr\u001b[0m\u001b[1;33m.\u001b[0m\u001b[0mdtype\u001b[0m\u001b[1;33m)\u001b[0m\u001b[1;33m\u001b[0m\u001b[1;33m\u001b[0m\u001b[0m\n\u001b[0;32m    602\u001b[0m             \u001b[0mresult\u001b[0m\u001b[1;33m.\u001b[0m\u001b[0mappend\u001b[0m\u001b[1;33m(\u001b[0m\u001b[0marr\u001b[0m\u001b[1;33m)\u001b[0m\u001b[1;33m\u001b[0m\u001b[1;33m\u001b[0m\u001b[0m\n\u001b[0;32m    603\u001b[0m         \u001b[1;32melse\u001b[0m\u001b[1;33m:\u001b[0m\u001b[1;33m\u001b[0m\u001b[1;33m\u001b[0m\u001b[0m\n\u001b[1;32m--> 604\u001b[1;33m             \u001b[0mresult\u001b[0m\u001b[1;33m.\u001b[0m\u001b[0mappend\u001b[0m\u001b[1;33m(\u001b[0m\u001b[0moth_type\u001b[0m\u001b[1;33m(\u001b[0m\u001b[0mdata\u001b[0m\u001b[1;33m[\u001b[0m\u001b[0mcol\u001b[0m\u001b[1;33m]\u001b[0m\u001b[1;33m)\u001b[0m\u001b[1;33m)\u001b[0m\u001b[1;33m\u001b[0m\u001b[1;33m\u001b[0m\u001b[0m\n\u001b[0m\u001b[0;32m    605\u001b[0m \u001b[1;33m\u001b[0m\u001b[0m\n\u001b[0;32m    606\u001b[0m     \u001b[1;31m# FIXME(jiamingy): Investigate the possibility of using dataframe protocol or arrow\u001b[0m\u001b[1;33m\u001b[0m\u001b[1;33m\u001b[0m\u001b[0m\n\u001b[0;32m    607\u001b[0m     \u001b[1;31m# IPC format for pandas so that we can apply the data transformation inside XGBoost\u001b[0m\u001b[1;33m\u001b[0m\u001b[1;33m\u001b[0m\u001b[0m\n",
      "\u001b[1;32m~\\AppData\\Local\\Packages\\PythonSoftwareFoundation.Python.3.12_qbz5n2kfra8p0\\LocalCache\\local-packages\\Python312\\site-packages\\xgboost\\data.py\u001b[0m in \u001b[0;36m?\u001b[1;34m(ser)\u001b[0m\n\u001b[0;32m    566\u001b[0m     \u001b[1;32mdef\u001b[0m \u001b[0moth_type\u001b[0m\u001b[1;33m(\u001b[0m\u001b[0mser\u001b[0m\u001b[1;33m:\u001b[0m \u001b[0mPdSeries\u001b[0m\u001b[1;33m)\u001b[0m \u001b[1;33m->\u001b[0m \u001b[0mnp\u001b[0m\u001b[1;33m.\u001b[0m\u001b[0mndarray\u001b[0m\u001b[1;33m:\u001b[0m\u001b[1;33m\u001b[0m\u001b[1;33m\u001b[0m\u001b[0m\n\u001b[0;32m    567\u001b[0m         \u001b[1;31m# The dtypes module is added in 1.25.\u001b[0m\u001b[1;33m\u001b[0m\u001b[1;33m\u001b[0m\u001b[0m\n\u001b[0;32m    568\u001b[0m         npdtypes = np_dtypes and isinstance(\n\u001b[1;32m--> 569\u001b[1;33m             \u001b[0mser\u001b[0m\u001b[1;33m.\u001b[0m\u001b[0mdtype\u001b[0m\u001b[1;33m,\u001b[0m\u001b[1;33m\u001b[0m\u001b[1;33m\u001b[0m\u001b[0m\n\u001b[0m\u001b[0;32m    570\u001b[0m             (\n\u001b[0;32m    571\u001b[0m                 \u001b[1;31m# pylint: disable=no-member\u001b[0m\u001b[1;33m\u001b[0m\u001b[1;33m\u001b[0m\u001b[0m\n\u001b[0;32m    572\u001b[0m                 \u001b[0mnp\u001b[0m\u001b[1;33m.\u001b[0m\u001b[0mdtypes\u001b[0m\u001b[1;33m.\u001b[0m\u001b[0mFloat32DType\u001b[0m\u001b[1;33m,\u001b[0m  \u001b[1;31m# type: ignore\u001b[0m\u001b[1;33m\u001b[0m\u001b[1;33m\u001b[0m\u001b[0m\n",
      "\u001b[1;32m~\\AppData\\Local\\Packages\\PythonSoftwareFoundation.Python.3.12_qbz5n2kfra8p0\\LocalCache\\local-packages\\Python312\\site-packages\\pandas\\core\\generic.py\u001b[0m in \u001b[0;36m?\u001b[1;34m(self, name)\u001b[0m\n\u001b[0;32m   6295\u001b[0m             \u001b[1;32mand\u001b[0m \u001b[0mname\u001b[0m \u001b[1;32mnot\u001b[0m \u001b[1;32min\u001b[0m \u001b[0mself\u001b[0m\u001b[1;33m.\u001b[0m\u001b[0m_accessors\u001b[0m\u001b[1;33m\u001b[0m\u001b[1;33m\u001b[0m\u001b[0m\n\u001b[0;32m   6296\u001b[0m             \u001b[1;32mand\u001b[0m \u001b[0mself\u001b[0m\u001b[1;33m.\u001b[0m\u001b[0m_info_axis\u001b[0m\u001b[1;33m.\u001b[0m\u001b[0m_can_hold_identifiers_and_holds_name\u001b[0m\u001b[1;33m(\u001b[0m\u001b[0mname\u001b[0m\u001b[1;33m)\u001b[0m\u001b[1;33m\u001b[0m\u001b[1;33m\u001b[0m\u001b[0m\n\u001b[0;32m   6297\u001b[0m         \u001b[1;33m)\u001b[0m\u001b[1;33m:\u001b[0m\u001b[1;33m\u001b[0m\u001b[1;33m\u001b[0m\u001b[0m\n\u001b[0;32m   6298\u001b[0m             \u001b[1;32mreturn\u001b[0m \u001b[0mself\u001b[0m\u001b[1;33m[\u001b[0m\u001b[0mname\u001b[0m\u001b[1;33m]\u001b[0m\u001b[1;33m\u001b[0m\u001b[1;33m\u001b[0m\u001b[0m\n\u001b[1;32m-> 6299\u001b[1;33m         \u001b[1;32mreturn\u001b[0m \u001b[0mobject\u001b[0m\u001b[1;33m.\u001b[0m\u001b[0m__getattribute__\u001b[0m\u001b[1;33m(\u001b[0m\u001b[0mself\u001b[0m\u001b[1;33m,\u001b[0m \u001b[0mname\u001b[0m\u001b[1;33m)\u001b[0m\u001b[1;33m\u001b[0m\u001b[1;33m\u001b[0m\u001b[0m\n\u001b[0m",
      "\u001b[1;31mAttributeError\u001b[0m: 'DataFrame' object has no attribute 'dtype'"
     ]
    }
   ],
   "source": [
    "from sklearn.model_selection import train_test_split\n",
    "from sklearn.metrics import precision_score, classification_report\n",
    "from xgboost import XGBClassifier\n",
    "\n",
    "drop_cols = [\"tags\", \"tags_encoded\", \"event_date\", \"city\", \"success_flag\",\"start_time\",\"end_time\",\"price_rating\",\"event_id\"]\n",
    "X = pd.concat([df_merged.drop(columns=drop_cols), tags_df], axis=1)\n",
    "y = df_merged[\"success_flag\"]\n",
    "\n",
    "# Step 6: Train/test split\n",
    "X_train, X_test, y_train, y_test = train_test_split(X, y, test_size=0.4, random_state=42)\n",
    "\n",
    "# Step 7: Train XGBoost model\n",
    "model = XGBClassifier(eval_metric=\"logloss\", use_label_encoder=False, random_state=42)\n",
    "model.fit(X_train, y_train)\n",
    "\n",
    "# Step 8: Predict and evaluate\n",
    "probs = model.predict_proba(X_test)[:, 1]\n",
    "threshold = 0.5\n",
    "y_pred = (probs >= threshold).astype(int)\n",
    "precision = precision_score(y_test, y_pred)\n",
    "report = classification_report(y_test, y_pred, output_dict=True)\n",
    "report_df = pd.DataFrame(report).transpose()"
   ]
  },
  {
   "cell_type": "code",
   "execution_count": 24,
   "id": "5eb12940",
   "metadata": {},
   "outputs": [
    {
     "ename": "AttributeError",
     "evalue": "'DataFrame' object has no attribute 'dtype'",
     "output_type": "error",
     "traceback": [
      "\u001b[1;31m---------------------------------------------------------------------------\u001b[0m",
      "\u001b[1;31mAttributeError\u001b[0m                            Traceback (most recent call last)",
      "\u001b[1;32m~\\AppData\\Local\\Temp\\ipykernel_32548\\2430191039.py\u001b[0m in \u001b[0;36m?\u001b[1;34m()\u001b[0m\n\u001b[0;32m     11\u001b[0m \u001b[0mX_train\u001b[0m\u001b[1;33m,\u001b[0m \u001b[0mX_test\u001b[0m\u001b[1;33m,\u001b[0m \u001b[0my_train\u001b[0m\u001b[1;33m,\u001b[0m \u001b[0my_test\u001b[0m \u001b[1;33m=\u001b[0m \u001b[0mtrain_test_split\u001b[0m\u001b[1;33m(\u001b[0m\u001b[0mX\u001b[0m\u001b[1;33m,\u001b[0m \u001b[0my\u001b[0m\u001b[1;33m,\u001b[0m \u001b[0mtest_size\u001b[0m\u001b[1;33m=\u001b[0m\u001b[1;36m0.3\u001b[0m\u001b[1;33m,\u001b[0m \u001b[0mrandom_state\u001b[0m\u001b[1;33m=\u001b[0m\u001b[1;36m42\u001b[0m\u001b[1;33m)\u001b[0m\u001b[1;33m\u001b[0m\u001b[1;33m\u001b[0m\u001b[0m\n\u001b[0;32m     12\u001b[0m \u001b[1;33m\u001b[0m\u001b[0m\n\u001b[0;32m     13\u001b[0m \u001b[1;31m# Step 7: Train XGBoost\u001b[0m\u001b[1;33m\u001b[0m\u001b[1;33m\u001b[0m\u001b[0m\n\u001b[0;32m     14\u001b[0m \u001b[0mmodel\u001b[0m \u001b[1;33m=\u001b[0m \u001b[0mXGBClassifier\u001b[0m\u001b[1;33m(\u001b[0m\u001b[0meval_metric\u001b[0m\u001b[1;33m=\u001b[0m\u001b[1;34m\"logloss\"\u001b[0m\u001b[1;33m,\u001b[0m \u001b[0muse_label_encoder\u001b[0m\u001b[1;33m=\u001b[0m\u001b[1;32mFalse\u001b[0m\u001b[1;33m,\u001b[0m \u001b[0mrandom_state\u001b[0m\u001b[1;33m=\u001b[0m\u001b[1;36m42\u001b[0m\u001b[1;33m)\u001b[0m\u001b[1;33m\u001b[0m\u001b[1;33m\u001b[0m\u001b[0m\n\u001b[1;32m---> 15\u001b[1;33m \u001b[0mmodel\u001b[0m\u001b[1;33m.\u001b[0m\u001b[0mfit\u001b[0m\u001b[1;33m(\u001b[0m\u001b[0mX_train\u001b[0m\u001b[1;33m,\u001b[0m \u001b[0my_train\u001b[0m\u001b[1;33m)\u001b[0m\u001b[1;33m\u001b[0m\u001b[1;33m\u001b[0m\u001b[0m\n\u001b[0m\u001b[0;32m     16\u001b[0m \u001b[1;33m\u001b[0m\u001b[0m\n\u001b[0;32m     17\u001b[0m \u001b[1;31m# Step 8: Predict & evaluate\u001b[0m\u001b[1;33m\u001b[0m\u001b[1;33m\u001b[0m\u001b[0m\n\u001b[0;32m     18\u001b[0m \u001b[0mprobs\u001b[0m \u001b[1;33m=\u001b[0m \u001b[0mmodel\u001b[0m\u001b[1;33m.\u001b[0m\u001b[0mpredict_proba\u001b[0m\u001b[1;33m(\u001b[0m\u001b[0mX_test\u001b[0m\u001b[1;33m)\u001b[0m\u001b[1;33m[\u001b[0m\u001b[1;33m:\u001b[0m\u001b[1;33m,\u001b[0m \u001b[1;36m1\u001b[0m\u001b[1;33m]\u001b[0m\u001b[1;33m\u001b[0m\u001b[1;33m\u001b[0m\u001b[0m\n",
      "\u001b[1;32m~\\AppData\\Local\\Packages\\PythonSoftwareFoundation.Python.3.12_qbz5n2kfra8p0\\LocalCache\\local-packages\\Python312\\site-packages\\xgboost\\core.py\u001b[0m in \u001b[0;36m?\u001b[1;34m(*args, **kwargs)\u001b[0m\n\u001b[0;32m    725\u001b[0m                     \u001b[1;32mraise\u001b[0m \u001b[0mTypeError\u001b[0m\u001b[1;33m(\u001b[0m\u001b[0mmsg\u001b[0m\u001b[1;33m)\u001b[0m\u001b[1;33m\u001b[0m\u001b[1;33m\u001b[0m\u001b[0m\n\u001b[0;32m    726\u001b[0m                 \u001b[0mwarnings\u001b[0m\u001b[1;33m.\u001b[0m\u001b[0mwarn\u001b[0m\u001b[1;33m(\u001b[0m\u001b[0mmsg\u001b[0m\u001b[1;33m,\u001b[0m \u001b[0mFutureWarning\u001b[0m\u001b[1;33m)\u001b[0m\u001b[1;33m\u001b[0m\u001b[1;33m\u001b[0m\u001b[0m\n\u001b[0;32m    727\u001b[0m             \u001b[1;32mfor\u001b[0m \u001b[0mk\u001b[0m\u001b[1;33m,\u001b[0m \u001b[0marg\u001b[0m \u001b[1;32min\u001b[0m \u001b[0mzip\u001b[0m\u001b[1;33m(\u001b[0m\u001b[0msig\u001b[0m\u001b[1;33m.\u001b[0m\u001b[0mparameters\u001b[0m\u001b[1;33m,\u001b[0m \u001b[0margs\u001b[0m\u001b[1;33m)\u001b[0m\u001b[1;33m:\u001b[0m\u001b[1;33m\u001b[0m\u001b[1;33m\u001b[0m\u001b[0m\n\u001b[0;32m    728\u001b[0m                 \u001b[0mkwargs\u001b[0m\u001b[1;33m[\u001b[0m\u001b[0mk\u001b[0m\u001b[1;33m]\u001b[0m \u001b[1;33m=\u001b[0m \u001b[0marg\u001b[0m\u001b[1;33m\u001b[0m\u001b[1;33m\u001b[0m\u001b[0m\n\u001b[1;32m--> 729\u001b[1;33m             \u001b[1;32mreturn\u001b[0m \u001b[0mfunc\u001b[0m\u001b[1;33m(\u001b[0m\u001b[1;33m**\u001b[0m\u001b[0mkwargs\u001b[0m\u001b[1;33m)\u001b[0m\u001b[1;33m\u001b[0m\u001b[1;33m\u001b[0m\u001b[0m\n\u001b[0m",
      "\u001b[1;32m~\\AppData\\Local\\Packages\\PythonSoftwareFoundation.Python.3.12_qbz5n2kfra8p0\\LocalCache\\local-packages\\Python312\\site-packages\\xgboost\\sklearn.py\u001b[0m in \u001b[0;36m?\u001b[1;34m(self, X, y, sample_weight, base_margin, eval_set, verbose, xgb_model, sample_weight_eval_set, base_margin_eval_set, feature_weights)\u001b[0m\n\u001b[0;32m   1659\u001b[0m \u001b[1;33m\u001b[0m\u001b[0m\n\u001b[0;32m   1660\u001b[0m             model, metric, params, feature_weights = self._configure_fit(\n\u001b[0;32m   1661\u001b[0m                 \u001b[0mxgb_model\u001b[0m\u001b[1;33m,\u001b[0m \u001b[0mparams\u001b[0m\u001b[1;33m,\u001b[0m \u001b[0mfeature_weights\u001b[0m\u001b[1;33m\u001b[0m\u001b[1;33m\u001b[0m\u001b[0m\n\u001b[0;32m   1662\u001b[0m             \u001b[1;33m)\u001b[0m\u001b[1;33m\u001b[0m\u001b[1;33m\u001b[0m\u001b[0m\n\u001b[1;32m-> 1663\u001b[1;33m             train_dmatrix, evals = _wrap_evaluation_matrices(\n\u001b[0m\u001b[0;32m   1664\u001b[0m                 \u001b[0mmissing\u001b[0m\u001b[1;33m=\u001b[0m\u001b[0mself\u001b[0m\u001b[1;33m.\u001b[0m\u001b[0mmissing\u001b[0m\u001b[1;33m,\u001b[0m\u001b[1;33m\u001b[0m\u001b[1;33m\u001b[0m\u001b[0m\n\u001b[0;32m   1665\u001b[0m                 \u001b[0mX\u001b[0m\u001b[1;33m=\u001b[0m\u001b[0mX\u001b[0m\u001b[1;33m,\u001b[0m\u001b[1;33m\u001b[0m\u001b[1;33m\u001b[0m\u001b[0m\n\u001b[0;32m   1666\u001b[0m                 \u001b[0my\u001b[0m\u001b[1;33m=\u001b[0m\u001b[0my\u001b[0m\u001b[1;33m,\u001b[0m\u001b[1;33m\u001b[0m\u001b[1;33m\u001b[0m\u001b[0m\n",
      "\u001b[1;32m~\\AppData\\Local\\Packages\\PythonSoftwareFoundation.Python.3.12_qbz5n2kfra8p0\\LocalCache\\local-packages\\Python312\\site-packages\\xgboost\\sklearn.py\u001b[0m in \u001b[0;36m?\u001b[1;34m(missing, X, y, group, qid, sample_weight, base_margin, feature_weights, eval_set, sample_weight_eval_set, base_margin_eval_set, eval_group, eval_qid, create_dmatrix, enable_categorical, feature_types)\u001b[0m\n\u001b[0;32m    624\u001b[0m     \u001b[0mfeature_types\u001b[0m\u001b[1;33m:\u001b[0m \u001b[0mOptional\u001b[0m\u001b[1;33m[\u001b[0m\u001b[0mFeatureTypes\u001b[0m\u001b[1;33m]\u001b[0m\u001b[1;33m,\u001b[0m\u001b[1;33m\u001b[0m\u001b[1;33m\u001b[0m\u001b[0m\n\u001b[0;32m    625\u001b[0m \u001b[1;33m)\u001b[0m \u001b[1;33m->\u001b[0m \u001b[0mTuple\u001b[0m\u001b[1;33m[\u001b[0m\u001b[0mAny\u001b[0m\u001b[1;33m,\u001b[0m \u001b[0mList\u001b[0m\u001b[1;33m[\u001b[0m\u001b[0mTuple\u001b[0m\u001b[1;33m[\u001b[0m\u001b[0mAny\u001b[0m\u001b[1;33m,\u001b[0m \u001b[0mstr\u001b[0m\u001b[1;33m]\u001b[0m\u001b[1;33m]\u001b[0m\u001b[1;33m]\u001b[0m\u001b[1;33m:\u001b[0m\u001b[1;33m\u001b[0m\u001b[1;33m\u001b[0m\u001b[0m\n\u001b[0;32m    626\u001b[0m     \"\"\"Convert array_like evaluation matrices into DMatrix.  Perform validation on the\n\u001b[0;32m    627\u001b[0m     way.\"\"\"\n\u001b[1;32m--> 628\u001b[1;33m     train_dmatrix = create_dmatrix(\n\u001b[0m\u001b[0;32m    629\u001b[0m         \u001b[0mdata\u001b[0m\u001b[1;33m=\u001b[0m\u001b[0mX\u001b[0m\u001b[1;33m,\u001b[0m\u001b[1;33m\u001b[0m\u001b[1;33m\u001b[0m\u001b[0m\n\u001b[0;32m    630\u001b[0m         \u001b[0mlabel\u001b[0m\u001b[1;33m=\u001b[0m\u001b[0my\u001b[0m\u001b[1;33m,\u001b[0m\u001b[1;33m\u001b[0m\u001b[1;33m\u001b[0m\u001b[0m\n\u001b[0;32m    631\u001b[0m         \u001b[0mgroup\u001b[0m\u001b[1;33m=\u001b[0m\u001b[0mgroup\u001b[0m\u001b[1;33m,\u001b[0m\u001b[1;33m\u001b[0m\u001b[1;33m\u001b[0m\u001b[0m\n",
      "\u001b[1;32m~\\AppData\\Local\\Packages\\PythonSoftwareFoundation.Python.3.12_qbz5n2kfra8p0\\LocalCache\\local-packages\\Python312\\site-packages\\xgboost\\sklearn.py\u001b[0m in \u001b[0;36m?\u001b[1;34m(self, ref, **kwargs)\u001b[0m\n\u001b[0;32m   1136\u001b[0m             \u001b[1;32mtry\u001b[0m\u001b[1;33m:\u001b[0m\u001b[1;33m\u001b[0m\u001b[1;33m\u001b[0m\u001b[0m\n\u001b[0;32m   1137\u001b[0m                 return QuantileDMatrix(\n\u001b[0;32m   1138\u001b[0m                     \u001b[1;33m**\u001b[0m\u001b[0mkwargs\u001b[0m\u001b[1;33m,\u001b[0m \u001b[0mref\u001b[0m\u001b[1;33m=\u001b[0m\u001b[0mref\u001b[0m\u001b[1;33m,\u001b[0m \u001b[0mnthread\u001b[0m\u001b[1;33m=\u001b[0m\u001b[0mself\u001b[0m\u001b[1;33m.\u001b[0m\u001b[0mn_jobs\u001b[0m\u001b[1;33m,\u001b[0m \u001b[0mmax_bin\u001b[0m\u001b[1;33m=\u001b[0m\u001b[0mself\u001b[0m\u001b[1;33m.\u001b[0m\u001b[0mmax_bin\u001b[0m\u001b[1;33m\u001b[0m\u001b[1;33m\u001b[0m\u001b[0m\n\u001b[0;32m   1139\u001b[0m                 \u001b[1;33m)\u001b[0m\u001b[1;33m\u001b[0m\u001b[1;33m\u001b[0m\u001b[0m\n\u001b[1;32m-> 1140\u001b[1;33m             \u001b[1;32mexcept\u001b[0m \u001b[0mTypeError\u001b[0m\u001b[1;33m:\u001b[0m  \u001b[1;31m# `QuantileDMatrix` supports lesser types than DMatrix\u001b[0m\u001b[1;33m\u001b[0m\u001b[1;33m\u001b[0m\u001b[0m\n\u001b[0m\u001b[0;32m   1141\u001b[0m                 \u001b[1;32mpass\u001b[0m\u001b[1;33m\u001b[0m\u001b[1;33m\u001b[0m\u001b[0m\n\u001b[0;32m   1142\u001b[0m         \u001b[1;32mreturn\u001b[0m \u001b[0mDMatrix\u001b[0m\u001b[1;33m(\u001b[0m\u001b[1;33m**\u001b[0m\u001b[0mkwargs\u001b[0m\u001b[1;33m,\u001b[0m \u001b[0mnthread\u001b[0m\u001b[1;33m=\u001b[0m\u001b[0mself\u001b[0m\u001b[1;33m.\u001b[0m\u001b[0mn_jobs\u001b[0m\u001b[1;33m)\u001b[0m\u001b[1;33m\u001b[0m\u001b[1;33m\u001b[0m\u001b[0m\n",
      "\u001b[1;32m~\\AppData\\Local\\Packages\\PythonSoftwareFoundation.Python.3.12_qbz5n2kfra8p0\\LocalCache\\local-packages\\Python312\\site-packages\\xgboost\\core.py\u001b[0m in \u001b[0;36m?\u001b[1;34m(*args, **kwargs)\u001b[0m\n\u001b[0;32m    725\u001b[0m                     \u001b[1;32mraise\u001b[0m \u001b[0mTypeError\u001b[0m\u001b[1;33m(\u001b[0m\u001b[0mmsg\u001b[0m\u001b[1;33m)\u001b[0m\u001b[1;33m\u001b[0m\u001b[1;33m\u001b[0m\u001b[0m\n\u001b[0;32m    726\u001b[0m                 \u001b[0mwarnings\u001b[0m\u001b[1;33m.\u001b[0m\u001b[0mwarn\u001b[0m\u001b[1;33m(\u001b[0m\u001b[0mmsg\u001b[0m\u001b[1;33m,\u001b[0m \u001b[0mFutureWarning\u001b[0m\u001b[1;33m)\u001b[0m\u001b[1;33m\u001b[0m\u001b[1;33m\u001b[0m\u001b[0m\n\u001b[0;32m    727\u001b[0m             \u001b[1;32mfor\u001b[0m \u001b[0mk\u001b[0m\u001b[1;33m,\u001b[0m \u001b[0marg\u001b[0m \u001b[1;32min\u001b[0m \u001b[0mzip\u001b[0m\u001b[1;33m(\u001b[0m\u001b[0msig\u001b[0m\u001b[1;33m.\u001b[0m\u001b[0mparameters\u001b[0m\u001b[1;33m,\u001b[0m \u001b[0margs\u001b[0m\u001b[1;33m)\u001b[0m\u001b[1;33m:\u001b[0m\u001b[1;33m\u001b[0m\u001b[1;33m\u001b[0m\u001b[0m\n\u001b[0;32m    728\u001b[0m                 \u001b[0mkwargs\u001b[0m\u001b[1;33m[\u001b[0m\u001b[0mk\u001b[0m\u001b[1;33m]\u001b[0m \u001b[1;33m=\u001b[0m \u001b[0marg\u001b[0m\u001b[1;33m\u001b[0m\u001b[1;33m\u001b[0m\u001b[0m\n\u001b[1;32m--> 729\u001b[1;33m             \u001b[1;32mreturn\u001b[0m \u001b[0mfunc\u001b[0m\u001b[1;33m(\u001b[0m\u001b[1;33m**\u001b[0m\u001b[0mkwargs\u001b[0m\u001b[1;33m)\u001b[0m\u001b[1;33m\u001b[0m\u001b[1;33m\u001b[0m\u001b[0m\n\u001b[0m",
      "\u001b[1;32m~\\AppData\\Local\\Packages\\PythonSoftwareFoundation.Python.3.12_qbz5n2kfra8p0\\LocalCache\\local-packages\\Python312\\site-packages\\xgboost\\core.py\u001b[0m in \u001b[0;36m?\u001b[1;34m(self, data, label, weight, base_margin, missing, silent, feature_names, feature_types, nthread, max_bin, ref, group, qid, label_lower_bound, label_upper_bound, feature_weights, enable_categorical, max_quantile_batches, data_split_mode)\u001b[0m\n\u001b[0;32m   1610\u001b[0m                     \u001b[1;34m\"If data iterator is used as input, data like label should be \"\u001b[0m\u001b[1;33m\u001b[0m\u001b[1;33m\u001b[0m\u001b[0m\n\u001b[0;32m   1611\u001b[0m                     \u001b[1;34m\"specified as batch argument.\"\u001b[0m\u001b[1;33m\u001b[0m\u001b[1;33m\u001b[0m\u001b[0m\n\u001b[0;32m   1612\u001b[0m                 \u001b[1;33m)\u001b[0m\u001b[1;33m\u001b[0m\u001b[1;33m\u001b[0m\u001b[0m\n\u001b[0;32m   1613\u001b[0m \u001b[1;33m\u001b[0m\u001b[0m\n\u001b[1;32m-> 1614\u001b[1;33m         self._init(\n\u001b[0m\u001b[0;32m   1615\u001b[0m             \u001b[0mdata\u001b[0m\u001b[1;33m,\u001b[0m\u001b[1;33m\u001b[0m\u001b[1;33m\u001b[0m\u001b[0m\n\u001b[0;32m   1616\u001b[0m             \u001b[0mref\u001b[0m\u001b[1;33m=\u001b[0m\u001b[0mref\u001b[0m\u001b[1;33m,\u001b[0m\u001b[1;33m\u001b[0m\u001b[1;33m\u001b[0m\u001b[0m\n\u001b[0;32m   1617\u001b[0m             \u001b[0mlabel\u001b[0m\u001b[1;33m=\u001b[0m\u001b[0mlabel\u001b[0m\u001b[1;33m,\u001b[0m\u001b[1;33m\u001b[0m\u001b[1;33m\u001b[0m\u001b[0m\n",
      "\u001b[1;32m~\\AppData\\Local\\Packages\\PythonSoftwareFoundation.Python.3.12_qbz5n2kfra8p0\\LocalCache\\local-packages\\Python312\\site-packages\\xgboost\\core.py\u001b[0m in \u001b[0;36m?\u001b[1;34m(self, data, ref, enable_categorical, max_quantile_blocks, **meta)\u001b[0m\n\u001b[0;32m   1674\u001b[0m             \u001b[0mnext_callback\u001b[0m\u001b[1;33m,\u001b[0m\u001b[1;33m\u001b[0m\u001b[1;33m\u001b[0m\u001b[0m\n\u001b[0;32m   1675\u001b[0m             \u001b[0mconfig\u001b[0m\u001b[1;33m,\u001b[0m\u001b[1;33m\u001b[0m\u001b[1;33m\u001b[0m\u001b[0m\n\u001b[0;32m   1676\u001b[0m             \u001b[0mctypes\u001b[0m\u001b[1;33m.\u001b[0m\u001b[0mbyref\u001b[0m\u001b[1;33m(\u001b[0m\u001b[0mhandle\u001b[0m\u001b[1;33m)\u001b[0m\u001b[1;33m,\u001b[0m\u001b[1;33m\u001b[0m\u001b[1;33m\u001b[0m\u001b[0m\n\u001b[0;32m   1677\u001b[0m         \u001b[1;33m)\u001b[0m\u001b[1;33m\u001b[0m\u001b[1;33m\u001b[0m\u001b[0m\n\u001b[1;32m-> 1678\u001b[1;33m         \u001b[0mit\u001b[0m\u001b[1;33m.\u001b[0m\u001b[0mreraise\u001b[0m\u001b[1;33m(\u001b[0m\u001b[1;33m)\u001b[0m\u001b[1;33m\u001b[0m\u001b[1;33m\u001b[0m\u001b[0m\n\u001b[0m\u001b[0;32m   1679\u001b[0m         \u001b[1;31m# delay check_call to throw intermediate exception first\u001b[0m\u001b[1;33m\u001b[0m\u001b[1;33m\u001b[0m\u001b[0m\n\u001b[0;32m   1680\u001b[0m         \u001b[0m_check_call\u001b[0m\u001b[1;33m(\u001b[0m\u001b[0mret\u001b[0m\u001b[1;33m)\u001b[0m\u001b[1;33m\u001b[0m\u001b[1;33m\u001b[0m\u001b[0m\n\u001b[0;32m   1681\u001b[0m         \u001b[0mself\u001b[0m\u001b[1;33m.\u001b[0m\u001b[0mhandle\u001b[0m \u001b[1;33m=\u001b[0m \u001b[0mhandle\u001b[0m\u001b[1;33m\u001b[0m\u001b[1;33m\u001b[0m\u001b[0m\n",
      "\u001b[1;32m~\\AppData\\Local\\Packages\\PythonSoftwareFoundation.Python.3.12_qbz5n2kfra8p0\\LocalCache\\local-packages\\Python312\\site-packages\\xgboost\\core.py\u001b[0m in \u001b[0;36m?\u001b[1;34m(self)\u001b[0m\n\u001b[0;32m    568\u001b[0m             \u001b[1;31m#  pylint 2.7.0 believes `self._exception` can be None even with `assert\u001b[0m\u001b[1;33m\u001b[0m\u001b[1;33m\u001b[0m\u001b[0m\n\u001b[0;32m    569\u001b[0m             \u001b[1;31m#  isinstace`\u001b[0m\u001b[1;33m\u001b[0m\u001b[1;33m\u001b[0m\u001b[0m\n\u001b[0;32m    570\u001b[0m             \u001b[0mexc\u001b[0m \u001b[1;33m=\u001b[0m \u001b[0mself\u001b[0m\u001b[1;33m.\u001b[0m\u001b[0m_exception\u001b[0m\u001b[1;33m\u001b[0m\u001b[1;33m\u001b[0m\u001b[0m\n\u001b[0;32m    571\u001b[0m             \u001b[0mself\u001b[0m\u001b[1;33m.\u001b[0m\u001b[0m_exception\u001b[0m \u001b[1;33m=\u001b[0m \u001b[1;32mNone\u001b[0m\u001b[1;33m\u001b[0m\u001b[1;33m\u001b[0m\u001b[0m\n\u001b[1;32m--> 572\u001b[1;33m             \u001b[1;32mraise\u001b[0m \u001b[0mexc\u001b[0m  \u001b[1;31m# pylint: disable=raising-bad-type\u001b[0m\u001b[1;33m\u001b[0m\u001b[1;33m\u001b[0m\u001b[0m\n\u001b[0m",
      "\u001b[1;32m~\\AppData\\Local\\Packages\\PythonSoftwareFoundation.Python.3.12_qbz5n2kfra8p0\\LocalCache\\local-packages\\Python312\\site-packages\\xgboost\\core.py\u001b[0m in \u001b[0;36m?\u001b[1;34m(self, fn, dft_ret)\u001b[0m\n\u001b[0;32m    558\u001b[0m             \u001b[0mtb\u001b[0m \u001b[1;33m=\u001b[0m \u001b[0msys\u001b[0m\u001b[1;33m.\u001b[0m\u001b[0mexc_info\u001b[0m\u001b[1;33m(\u001b[0m\u001b[1;33m)\u001b[0m\u001b[1;33m[\u001b[0m\u001b[1;36m2\u001b[0m\u001b[1;33m]\u001b[0m\u001b[1;33m\u001b[0m\u001b[1;33m\u001b[0m\u001b[0m\n\u001b[0;32m    559\u001b[0m             \u001b[1;31m# On dask, the worker is restarted and somehow the information is\u001b[0m\u001b[1;33m\u001b[0m\u001b[1;33m\u001b[0m\u001b[0m\n\u001b[0;32m    560\u001b[0m             \u001b[1;31m# lost.\u001b[0m\u001b[1;33m\u001b[0m\u001b[1;33m\u001b[0m\u001b[0m\n\u001b[0;32m    561\u001b[0m             \u001b[0mself\u001b[0m\u001b[1;33m.\u001b[0m\u001b[0m_exception\u001b[0m \u001b[1;33m=\u001b[0m \u001b[0me\u001b[0m\u001b[1;33m.\u001b[0m\u001b[0mwith_traceback\u001b[0m\u001b[1;33m(\u001b[0m\u001b[0mtb\u001b[0m\u001b[1;33m)\u001b[0m\u001b[1;33m\u001b[0m\u001b[1;33m\u001b[0m\u001b[0m\n\u001b[1;32m--> 562\u001b[1;33m         \u001b[1;32mreturn\u001b[0m \u001b[0mdft_ret\u001b[0m\u001b[1;33m\u001b[0m\u001b[1;33m\u001b[0m\u001b[0m\n\u001b[0m",
      "\u001b[1;32m~\\AppData\\Local\\Packages\\PythonSoftwareFoundation.Python.3.12_qbz5n2kfra8p0\\LocalCache\\local-packages\\Python312\\site-packages\\xgboost\\core.py\u001b[0m in \u001b[0;36m?\u001b[1;34m()\u001b[0m\n\u001b[1;32m--> 640\u001b[1;33m         \u001b[1;32mreturn\u001b[0m \u001b[0mself\u001b[0m\u001b[1;33m.\u001b[0m\u001b[0m_handle_exception\u001b[0m\u001b[1;33m(\u001b[0m\u001b[1;32mlambda\u001b[0m\u001b[1;33m:\u001b[0m \u001b[0mint\u001b[0m\u001b[1;33m(\u001b[0m\u001b[0mself\u001b[0m\u001b[1;33m.\u001b[0m\u001b[0mnext\u001b[0m\u001b[1;33m(\u001b[0m\u001b[0minput_data\u001b[0m\u001b[1;33m)\u001b[0m\u001b[1;33m)\u001b[0m\u001b[1;33m,\u001b[0m \u001b[1;36m0\u001b[0m\u001b[1;33m)\u001b[0m\u001b[1;33m\u001b[0m\u001b[1;33m\u001b[0m\u001b[0m\n\u001b[0m",
      "\u001b[1;32m~\\AppData\\Local\\Packages\\PythonSoftwareFoundation.Python.3.12_qbz5n2kfra8p0\\LocalCache\\local-packages\\Python312\\site-packages\\xgboost\\data.py\u001b[0m in \u001b[0;36m?\u001b[1;34m(self, input_data)\u001b[0m\n\u001b[0;32m   1650\u001b[0m     \u001b[1;32mdef\u001b[0m \u001b[0mnext\u001b[0m\u001b[1;33m(\u001b[0m\u001b[0mself\u001b[0m\u001b[1;33m,\u001b[0m \u001b[0minput_data\u001b[0m\u001b[1;33m:\u001b[0m \u001b[0mCallable\u001b[0m\u001b[1;33m)\u001b[0m \u001b[1;33m->\u001b[0m \u001b[0mbool\u001b[0m\u001b[1;33m:\u001b[0m\u001b[1;33m\u001b[0m\u001b[1;33m\u001b[0m\u001b[0m\n\u001b[0;32m   1651\u001b[0m         \u001b[1;32mif\u001b[0m \u001b[0mself\u001b[0m\u001b[1;33m.\u001b[0m\u001b[0mit\u001b[0m \u001b[1;33m==\u001b[0m \u001b[1;36m1\u001b[0m\u001b[1;33m:\u001b[0m\u001b[1;33m\u001b[0m\u001b[1;33m\u001b[0m\u001b[0m\n\u001b[0;32m   1652\u001b[0m             \u001b[1;32mreturn\u001b[0m \u001b[1;32mFalse\u001b[0m\u001b[1;33m\u001b[0m\u001b[1;33m\u001b[0m\u001b[0m\n\u001b[0;32m   1653\u001b[0m         \u001b[0mself\u001b[0m\u001b[1;33m.\u001b[0m\u001b[0mit\u001b[0m \u001b[1;33m+=\u001b[0m \u001b[1;36m1\u001b[0m\u001b[1;33m\u001b[0m\u001b[1;33m\u001b[0m\u001b[0m\n\u001b[1;32m-> 1654\u001b[1;33m         \u001b[0minput_data\u001b[0m\u001b[1;33m(\u001b[0m\u001b[1;33m**\u001b[0m\u001b[0mself\u001b[0m\u001b[1;33m.\u001b[0m\u001b[0mkwargs\u001b[0m\u001b[1;33m)\u001b[0m\u001b[1;33m\u001b[0m\u001b[1;33m\u001b[0m\u001b[0m\n\u001b[0m\u001b[0;32m   1655\u001b[0m         \u001b[1;32mreturn\u001b[0m \u001b[1;32mTrue\u001b[0m\u001b[1;33m\u001b[0m\u001b[1;33m\u001b[0m\u001b[0m\n",
      "\u001b[1;32m~\\AppData\\Local\\Packages\\PythonSoftwareFoundation.Python.3.12_qbz5n2kfra8p0\\LocalCache\\local-packages\\Python312\\site-packages\\xgboost\\core.py\u001b[0m in \u001b[0;36m?\u001b[1;34m(*args, **kwargs)\u001b[0m\n\u001b[0;32m    725\u001b[0m                     \u001b[1;32mraise\u001b[0m \u001b[0mTypeError\u001b[0m\u001b[1;33m(\u001b[0m\u001b[0mmsg\u001b[0m\u001b[1;33m)\u001b[0m\u001b[1;33m\u001b[0m\u001b[1;33m\u001b[0m\u001b[0m\n\u001b[0;32m    726\u001b[0m                 \u001b[0mwarnings\u001b[0m\u001b[1;33m.\u001b[0m\u001b[0mwarn\u001b[0m\u001b[1;33m(\u001b[0m\u001b[0mmsg\u001b[0m\u001b[1;33m,\u001b[0m \u001b[0mFutureWarning\u001b[0m\u001b[1;33m)\u001b[0m\u001b[1;33m\u001b[0m\u001b[1;33m\u001b[0m\u001b[0m\n\u001b[0;32m    727\u001b[0m             \u001b[1;32mfor\u001b[0m \u001b[0mk\u001b[0m\u001b[1;33m,\u001b[0m \u001b[0marg\u001b[0m \u001b[1;32min\u001b[0m \u001b[0mzip\u001b[0m\u001b[1;33m(\u001b[0m\u001b[0msig\u001b[0m\u001b[1;33m.\u001b[0m\u001b[0mparameters\u001b[0m\u001b[1;33m,\u001b[0m \u001b[0margs\u001b[0m\u001b[1;33m)\u001b[0m\u001b[1;33m:\u001b[0m\u001b[1;33m\u001b[0m\u001b[1;33m\u001b[0m\u001b[0m\n\u001b[0;32m    728\u001b[0m                 \u001b[0mkwargs\u001b[0m\u001b[1;33m[\u001b[0m\u001b[0mk\u001b[0m\u001b[1;33m]\u001b[0m \u001b[1;33m=\u001b[0m \u001b[0marg\u001b[0m\u001b[1;33m\u001b[0m\u001b[1;33m\u001b[0m\u001b[0m\n\u001b[1;32m--> 729\u001b[1;33m             \u001b[1;32mreturn\u001b[0m \u001b[0mfunc\u001b[0m\u001b[1;33m(\u001b[0m\u001b[1;33m**\u001b[0m\u001b[0mkwargs\u001b[0m\u001b[1;33m)\u001b[0m\u001b[1;33m\u001b[0m\u001b[1;33m\u001b[0m\u001b[0m\n\u001b[0m",
      "\u001b[1;32m~\\AppData\\Local\\Packages\\PythonSoftwareFoundation.Python.3.12_qbz5n2kfra8p0\\LocalCache\\local-packages\\Python312\\site-packages\\xgboost\\core.py\u001b[0m in \u001b[0;36m?\u001b[1;34m(data, feature_names, feature_types, **kwargs)\u001b[0m\n\u001b[0;32m    616\u001b[0m                 \u001b[1;32mand\u001b[0m \u001b[0mref\u001b[0m \u001b[1;32mis\u001b[0m \u001b[0mself\u001b[0m\u001b[1;33m.\u001b[0m\u001b[0m_data_ref\u001b[0m\u001b[1;33m\u001b[0m\u001b[1;33m\u001b[0m\u001b[0m\n\u001b[0;32m    617\u001b[0m             \u001b[1;33m)\u001b[0m\u001b[1;33m:\u001b[0m\u001b[1;33m\u001b[0m\u001b[1;33m\u001b[0m\u001b[0m\n\u001b[0;32m    618\u001b[0m                 \u001b[0mnew\u001b[0m\u001b[1;33m,\u001b[0m \u001b[0mcat_codes\u001b[0m\u001b[1;33m,\u001b[0m \u001b[0mfeature_names\u001b[0m\u001b[1;33m,\u001b[0m \u001b[0mfeature_types\u001b[0m \u001b[1;33m=\u001b[0m \u001b[0mself\u001b[0m\u001b[1;33m.\u001b[0m\u001b[0m_temporary_data\u001b[0m\u001b[1;33m\u001b[0m\u001b[1;33m\u001b[0m\u001b[0m\n\u001b[0;32m    619\u001b[0m             \u001b[1;32melse\u001b[0m\u001b[1;33m:\u001b[0m\u001b[1;33m\u001b[0m\u001b[1;33m\u001b[0m\u001b[0m\n\u001b[1;32m--> 620\u001b[1;33m                 new, cat_codes, feature_names, feature_types = _proxy_transform(\n\u001b[0m\u001b[0;32m    621\u001b[0m                     \u001b[0mdata\u001b[0m\u001b[1;33m,\u001b[0m\u001b[1;33m\u001b[0m\u001b[1;33m\u001b[0m\u001b[0m\n\u001b[0;32m    622\u001b[0m                     \u001b[0mfeature_names\u001b[0m\u001b[1;33m,\u001b[0m\u001b[1;33m\u001b[0m\u001b[1;33m\u001b[0m\u001b[0m\n\u001b[0;32m    623\u001b[0m                     \u001b[0mfeature_types\u001b[0m\u001b[1;33m,\u001b[0m\u001b[1;33m\u001b[0m\u001b[1;33m\u001b[0m\u001b[0m\n",
      "\u001b[1;32m~\\AppData\\Local\\Packages\\PythonSoftwareFoundation.Python.3.12_qbz5n2kfra8p0\\LocalCache\\local-packages\\Python312\\site-packages\\xgboost\\data.py\u001b[0m in \u001b[0;36m?\u001b[1;34m(data, feature_names, feature_types, enable_categorical)\u001b[0m\n\u001b[0;32m   1703\u001b[0m             \u001b[0mdata\u001b[0m\u001b[1;33m,\u001b[0m \u001b[0menable_categorical\u001b[0m\u001b[1;33m,\u001b[0m \u001b[0mfeature_names\u001b[0m\u001b[1;33m,\u001b[0m \u001b[0mfeature_types\u001b[0m\u001b[1;33m\u001b[0m\u001b[1;33m\u001b[0m\u001b[0m\n\u001b[0;32m   1704\u001b[0m         \u001b[1;33m)\u001b[0m\u001b[1;33m\u001b[0m\u001b[1;33m\u001b[0m\u001b[0m\n\u001b[0;32m   1705\u001b[0m         \u001b[1;32mreturn\u001b[0m \u001b[0mdf_pa\u001b[0m\u001b[1;33m,\u001b[0m \u001b[1;32mNone\u001b[0m\u001b[1;33m,\u001b[0m \u001b[0mfeature_names\u001b[0m\u001b[1;33m,\u001b[0m \u001b[0mfeature_types\u001b[0m\u001b[1;33m\u001b[0m\u001b[1;33m\u001b[0m\u001b[0m\n\u001b[0;32m   1706\u001b[0m     \u001b[1;32mif\u001b[0m \u001b[0m_is_pandas_df\u001b[0m\u001b[1;33m(\u001b[0m\u001b[0mdata\u001b[0m\u001b[1;33m)\u001b[0m\u001b[1;33m:\u001b[0m\u001b[1;33m\u001b[0m\u001b[1;33m\u001b[0m\u001b[0m\n\u001b[1;32m-> 1707\u001b[1;33m         df, feature_names, feature_types = _transform_pandas_df(\n\u001b[0m\u001b[0;32m   1708\u001b[0m             \u001b[0mdata\u001b[0m\u001b[1;33m,\u001b[0m \u001b[0menable_categorical\u001b[0m\u001b[1;33m,\u001b[0m \u001b[0mfeature_names\u001b[0m\u001b[1;33m,\u001b[0m \u001b[0mfeature_types\u001b[0m\u001b[1;33m\u001b[0m\u001b[1;33m\u001b[0m\u001b[0m\n\u001b[0;32m   1709\u001b[0m         \u001b[1;33m)\u001b[0m\u001b[1;33m\u001b[0m\u001b[1;33m\u001b[0m\u001b[0m\n\u001b[0;32m   1710\u001b[0m         \u001b[1;32mreturn\u001b[0m \u001b[0mdf\u001b[0m\u001b[1;33m,\u001b[0m \u001b[1;32mNone\u001b[0m\u001b[1;33m,\u001b[0m \u001b[0mfeature_names\u001b[0m\u001b[1;33m,\u001b[0m \u001b[0mfeature_types\u001b[0m\u001b[1;33m\u001b[0m\u001b[1;33m\u001b[0m\u001b[0m\n",
      "\u001b[1;32m~\\AppData\\Local\\Packages\\PythonSoftwareFoundation.Python.3.12_qbz5n2kfra8p0\\LocalCache\\local-packages\\Python312\\site-packages\\xgboost\\data.py\u001b[0m in \u001b[0;36m?\u001b[1;34m(data, enable_categorical, feature_names, feature_types, meta)\u001b[0m\n\u001b[0;32m    640\u001b[0m     feature_names, feature_types = pandas_feature_info(\n\u001b[0;32m    641\u001b[0m         \u001b[0mdata\u001b[0m\u001b[1;33m,\u001b[0m \u001b[0mmeta\u001b[0m\u001b[1;33m,\u001b[0m \u001b[0mfeature_names\u001b[0m\u001b[1;33m,\u001b[0m \u001b[0mfeature_types\u001b[0m\u001b[1;33m,\u001b[0m \u001b[0menable_categorical\u001b[0m\u001b[1;33m\u001b[0m\u001b[1;33m\u001b[0m\u001b[0m\n\u001b[0;32m    642\u001b[0m     \u001b[1;33m)\u001b[0m\u001b[1;33m\u001b[0m\u001b[1;33m\u001b[0m\u001b[0m\n\u001b[0;32m    643\u001b[0m \u001b[1;33m\u001b[0m\u001b[0m\n\u001b[1;32m--> 644\u001b[1;33m     \u001b[0marrays\u001b[0m \u001b[1;33m=\u001b[0m \u001b[0mpandas_transform_data\u001b[0m\u001b[1;33m(\u001b[0m\u001b[0mdata\u001b[0m\u001b[1;33m)\u001b[0m\u001b[1;33m\u001b[0m\u001b[1;33m\u001b[0m\u001b[0m\n\u001b[0m\u001b[0;32m    645\u001b[0m     \u001b[1;32mreturn\u001b[0m \u001b[0mPandasTransformed\u001b[0m\u001b[1;33m(\u001b[0m\u001b[0marrays\u001b[0m\u001b[1;33m)\u001b[0m\u001b[1;33m,\u001b[0m \u001b[0mfeature_names\u001b[0m\u001b[1;33m,\u001b[0m \u001b[0mfeature_types\u001b[0m\u001b[1;33m\u001b[0m\u001b[1;33m\u001b[0m\u001b[0m\n",
      "\u001b[1;32m~\\AppData\\Local\\Packages\\PythonSoftwareFoundation.Python.3.12_qbz5n2kfra8p0\\LocalCache\\local-packages\\Python312\\site-packages\\xgboost\\data.py\u001b[0m in \u001b[0;36m?\u001b[1;34m(data)\u001b[0m\n\u001b[0;32m    600\u001b[0m             \u001b[1;32mif\u001b[0m \u001b[0m_is_np_array_like\u001b[0m\u001b[1;33m(\u001b[0m\u001b[0marr\u001b[0m\u001b[1;33m)\u001b[0m\u001b[1;33m:\u001b[0m\u001b[1;33m\u001b[0m\u001b[1;33m\u001b[0m\u001b[0m\n\u001b[0;32m    601\u001b[0m                 \u001b[0marr\u001b[0m\u001b[1;33m,\u001b[0m \u001b[0m_\u001b[0m \u001b[1;33m=\u001b[0m \u001b[0m_ensure_np_dtype\u001b[0m\u001b[1;33m(\u001b[0m\u001b[0marr\u001b[0m\u001b[1;33m,\u001b[0m \u001b[0marr\u001b[0m\u001b[1;33m.\u001b[0m\u001b[0mdtype\u001b[0m\u001b[1;33m)\u001b[0m\u001b[1;33m\u001b[0m\u001b[1;33m\u001b[0m\u001b[0m\n\u001b[0;32m    602\u001b[0m             \u001b[0mresult\u001b[0m\u001b[1;33m.\u001b[0m\u001b[0mappend\u001b[0m\u001b[1;33m(\u001b[0m\u001b[0marr\u001b[0m\u001b[1;33m)\u001b[0m\u001b[1;33m\u001b[0m\u001b[1;33m\u001b[0m\u001b[0m\n\u001b[0;32m    603\u001b[0m         \u001b[1;32melse\u001b[0m\u001b[1;33m:\u001b[0m\u001b[1;33m\u001b[0m\u001b[1;33m\u001b[0m\u001b[0m\n\u001b[1;32m--> 604\u001b[1;33m             \u001b[0mresult\u001b[0m\u001b[1;33m.\u001b[0m\u001b[0mappend\u001b[0m\u001b[1;33m(\u001b[0m\u001b[0moth_type\u001b[0m\u001b[1;33m(\u001b[0m\u001b[0mdata\u001b[0m\u001b[1;33m[\u001b[0m\u001b[0mcol\u001b[0m\u001b[1;33m]\u001b[0m\u001b[1;33m)\u001b[0m\u001b[1;33m)\u001b[0m\u001b[1;33m\u001b[0m\u001b[1;33m\u001b[0m\u001b[0m\n\u001b[0m\u001b[0;32m    605\u001b[0m \u001b[1;33m\u001b[0m\u001b[0m\n\u001b[0;32m    606\u001b[0m     \u001b[1;31m# FIXME(jiamingy): Investigate the possibility of using dataframe protocol or arrow\u001b[0m\u001b[1;33m\u001b[0m\u001b[1;33m\u001b[0m\u001b[0m\n\u001b[0;32m    607\u001b[0m     \u001b[1;31m# IPC format for pandas so that we can apply the data transformation inside XGBoost\u001b[0m\u001b[1;33m\u001b[0m\u001b[1;33m\u001b[0m\u001b[0m\n",
      "\u001b[1;32m~\\AppData\\Local\\Packages\\PythonSoftwareFoundation.Python.3.12_qbz5n2kfra8p0\\LocalCache\\local-packages\\Python312\\site-packages\\xgboost\\data.py\u001b[0m in \u001b[0;36m?\u001b[1;34m(ser)\u001b[0m\n\u001b[0;32m    566\u001b[0m     \u001b[1;32mdef\u001b[0m \u001b[0moth_type\u001b[0m\u001b[1;33m(\u001b[0m\u001b[0mser\u001b[0m\u001b[1;33m:\u001b[0m \u001b[0mPdSeries\u001b[0m\u001b[1;33m)\u001b[0m \u001b[1;33m->\u001b[0m \u001b[0mnp\u001b[0m\u001b[1;33m.\u001b[0m\u001b[0mndarray\u001b[0m\u001b[1;33m:\u001b[0m\u001b[1;33m\u001b[0m\u001b[1;33m\u001b[0m\u001b[0m\n\u001b[0;32m    567\u001b[0m         \u001b[1;31m# The dtypes module is added in 1.25.\u001b[0m\u001b[1;33m\u001b[0m\u001b[1;33m\u001b[0m\u001b[0m\n\u001b[0;32m    568\u001b[0m         npdtypes = np_dtypes and isinstance(\n\u001b[1;32m--> 569\u001b[1;33m             \u001b[0mser\u001b[0m\u001b[1;33m.\u001b[0m\u001b[0mdtype\u001b[0m\u001b[1;33m,\u001b[0m\u001b[1;33m\u001b[0m\u001b[1;33m\u001b[0m\u001b[0m\n\u001b[0m\u001b[0;32m    570\u001b[0m             (\n\u001b[0;32m    571\u001b[0m                 \u001b[1;31m# pylint: disable=no-member\u001b[0m\u001b[1;33m\u001b[0m\u001b[1;33m\u001b[0m\u001b[0m\n\u001b[0;32m    572\u001b[0m                 \u001b[0mnp\u001b[0m\u001b[1;33m.\u001b[0m\u001b[0mdtypes\u001b[0m\u001b[1;33m.\u001b[0m\u001b[0mFloat32DType\u001b[0m\u001b[1;33m,\u001b[0m  \u001b[1;31m# type: ignore\u001b[0m\u001b[1;33m\u001b[0m\u001b[1;33m\u001b[0m\u001b[0m\n",
      "\u001b[1;32m~\\AppData\\Local\\Packages\\PythonSoftwareFoundation.Python.3.12_qbz5n2kfra8p0\\LocalCache\\local-packages\\Python312\\site-packages\\pandas\\core\\generic.py\u001b[0m in \u001b[0;36m?\u001b[1;34m(self, name)\u001b[0m\n\u001b[0;32m   6295\u001b[0m             \u001b[1;32mand\u001b[0m \u001b[0mname\u001b[0m \u001b[1;32mnot\u001b[0m \u001b[1;32min\u001b[0m \u001b[0mself\u001b[0m\u001b[1;33m.\u001b[0m\u001b[0m_accessors\u001b[0m\u001b[1;33m\u001b[0m\u001b[1;33m\u001b[0m\u001b[0m\n\u001b[0;32m   6296\u001b[0m             \u001b[1;32mand\u001b[0m \u001b[0mself\u001b[0m\u001b[1;33m.\u001b[0m\u001b[0m_info_axis\u001b[0m\u001b[1;33m.\u001b[0m\u001b[0m_can_hold_identifiers_and_holds_name\u001b[0m\u001b[1;33m(\u001b[0m\u001b[0mname\u001b[0m\u001b[1;33m)\u001b[0m\u001b[1;33m\u001b[0m\u001b[1;33m\u001b[0m\u001b[0m\n\u001b[0;32m   6297\u001b[0m         \u001b[1;33m)\u001b[0m\u001b[1;33m:\u001b[0m\u001b[1;33m\u001b[0m\u001b[1;33m\u001b[0m\u001b[0m\n\u001b[0;32m   6298\u001b[0m             \u001b[1;32mreturn\u001b[0m \u001b[0mself\u001b[0m\u001b[1;33m[\u001b[0m\u001b[0mname\u001b[0m\u001b[1;33m]\u001b[0m\u001b[1;33m\u001b[0m\u001b[1;33m\u001b[0m\u001b[0m\n\u001b[1;32m-> 6299\u001b[1;33m         \u001b[1;32mreturn\u001b[0m \u001b[0mobject\u001b[0m\u001b[1;33m.\u001b[0m\u001b[0m__getattribute__\u001b[0m\u001b[1;33m(\u001b[0m\u001b[0mself\u001b[0m\u001b[1;33m,\u001b[0m \u001b[0mname\u001b[0m\u001b[1;33m)\u001b[0m\u001b[1;33m\u001b[0m\u001b[1;33m\u001b[0m\u001b[0m\n\u001b[0m",
      "\u001b[1;31mAttributeError\u001b[0m: 'DataFrame' object has no attribute 'dtype'"
     ]
    }
   ],
   "source": [
    "import numpy as np\n",
    "# Step 4: Select only numeric columns, fill missing\n",
    "X = X.select_dtypes(include=[\"number\"]).replace([np.inf, -np.inf], np.nan).fillna(0)\n",
    "y = df_merged[\"success_flag\"].reset_index(drop=True)\n",
    "\n",
    "# Step 5: Final index and shape check\n",
    "assert X.shape[0] == y.shape[0], \"Mismatched X/y lengths\"\n",
    "X = X.reset_index(drop=True)\n",
    "\n",
    "# Step 6: Train/test split\n",
    "X_train, X_test, y_train, y_test = train_test_split(X, y, test_size=0.3, random_state=42)\n",
    "\n",
    "# Step 7: Train XGBoost\n",
    "model = XGBClassifier(eval_metric=\"logloss\", use_label_encoder=False, random_state=42)\n",
    "model.fit(X_train, y_train)\n",
    "\n",
    "# Step 8: Predict & evaluate\n",
    "probs = model.predict_proba(X_test)[:, 1]\n",
    "y_pred = (probs >= 0.5).astype(int)\n",
    "\n",
    "print(\"✅ Precision:\", precision_score(y_test, y_pred))\n",
    "print(classification_report(y_test, y_pred))"
   ]
  },
  {
   "cell_type": "code",
   "execution_count": 25,
   "id": "8fcbeb31",
   "metadata": {},
   "outputs": [
    {
     "name": "stdout",
     "output_type": "stream",
     "text": [
      "❌ Column 'type_tag_1' is a nested DataFrame\n",
      "❌ Column 'type_tag_2' is a nested DataFrame\n",
      "❌ Column 'type_tag_3' is a nested DataFrame\n",
      "❌ Column 'type_tag_4' is a nested DataFrame\n",
      "❌ Column 'type_tag_5' is a nested DataFrame\n",
      "❌ Column 'type_tag_6' is a nested DataFrame\n",
      "❌ Column 'type_tag_7' is a nested DataFrame\n",
      "❌ Column 'type_tag_8' is a nested DataFrame\n",
      "❌ Column 'type_tag_9' is a nested DataFrame\n",
      "❌ Column 'type_tag_10' is a nested DataFrame\n",
      "❌ Column 'type_tag_11' is a nested DataFrame\n",
      "❌ Column 'type_tag_12' is a nested DataFrame\n",
      "❌ Column 'type_tag_13' is a nested DataFrame\n",
      "❌ Column 'type_tag_14' is a nested DataFrame\n",
      "❌ Column 'type_tag_15' is a nested DataFrame\n",
      "❌ Column 'type_tag_16' is a nested DataFrame\n",
      "❌ Column 'type_tag_17' is a nested DataFrame\n",
      "❌ Column 'type_tag_18' is a nested DataFrame\n",
      "❌ Column 'type_tag_19' is a nested DataFrame\n",
      "❌ Column 'type_tag_20' is a nested DataFrame\n",
      "❌ Column 'type_tag_21' is a nested DataFrame\n",
      "❌ Column 'type_tag_22' is a nested DataFrame\n",
      "❌ Column 'type_tag_23' is a nested DataFrame\n",
      "❌ Column 'type_tag_24' is a nested DataFrame\n",
      "❌ Column 'type_tag_25' is a nested DataFrame\n",
      "❌ Column 'type_tag_26' is a nested DataFrame\n",
      "❌ Column 'type_tag_27' is a nested DataFrame\n",
      "❌ Column 'type_tag_28' is a nested DataFrame\n",
      "❌ Column 'type_tag_29' is a nested DataFrame\n",
      "❌ Column 'type_tag_30' is a nested DataFrame\n",
      "❌ Column 'type_tag_31' is a nested DataFrame\n",
      "❌ Column 'type_tag_32' is a nested DataFrame\n",
      "❌ Column 'type_tag_33' is a nested DataFrame\n",
      "❌ Column 'type_tag_34' is a nested DataFrame\n",
      "❌ Column 'type_tag_35' is a nested DataFrame\n",
      "❌ Column 'type_tag_36' is a nested DataFrame\n",
      "❌ Column 'type_tag_37' is a nested DataFrame\n",
      "❌ Column 'type_tag_38' is a nested DataFrame\n",
      "❌ Column 'type_tag_39' is a nested DataFrame\n",
      "❌ Column 'type_tag_40' is a nested DataFrame\n",
      "❌ Column 'type_tag_1' is a nested DataFrame\n",
      "❌ Column 'type_tag_2' is a nested DataFrame\n",
      "❌ Column 'type_tag_3' is a nested DataFrame\n",
      "❌ Column 'type_tag_4' is a nested DataFrame\n",
      "❌ Column 'type_tag_5' is a nested DataFrame\n",
      "❌ Column 'type_tag_6' is a nested DataFrame\n",
      "❌ Column 'type_tag_7' is a nested DataFrame\n",
      "❌ Column 'type_tag_8' is a nested DataFrame\n",
      "❌ Column 'type_tag_9' is a nested DataFrame\n",
      "❌ Column 'type_tag_10' is a nested DataFrame\n",
      "❌ Column 'type_tag_11' is a nested DataFrame\n",
      "❌ Column 'type_tag_12' is a nested DataFrame\n",
      "❌ Column 'type_tag_13' is a nested DataFrame\n",
      "❌ Column 'type_tag_14' is a nested DataFrame\n",
      "❌ Column 'type_tag_15' is a nested DataFrame\n",
      "❌ Column 'type_tag_16' is a nested DataFrame\n",
      "❌ Column 'type_tag_17' is a nested DataFrame\n",
      "❌ Column 'type_tag_18' is a nested DataFrame\n",
      "❌ Column 'type_tag_19' is a nested DataFrame\n",
      "❌ Column 'type_tag_20' is a nested DataFrame\n",
      "❌ Column 'type_tag_21' is a nested DataFrame\n",
      "❌ Column 'type_tag_22' is a nested DataFrame\n",
      "❌ Column 'type_tag_23' is a nested DataFrame\n",
      "❌ Column 'type_tag_24' is a nested DataFrame\n",
      "❌ Column 'type_tag_25' is a nested DataFrame\n",
      "❌ Column 'type_tag_26' is a nested DataFrame\n",
      "❌ Column 'type_tag_27' is a nested DataFrame\n",
      "❌ Column 'type_tag_28' is a nested DataFrame\n",
      "❌ Column 'type_tag_29' is a nested DataFrame\n",
      "❌ Column 'type_tag_30' is a nested DataFrame\n",
      "❌ Column 'type_tag_31' is a nested DataFrame\n",
      "❌ Column 'type_tag_32' is a nested DataFrame\n",
      "❌ Column 'type_tag_33' is a nested DataFrame\n",
      "❌ Column 'type_tag_34' is a nested DataFrame\n",
      "❌ Column 'type_tag_35' is a nested DataFrame\n",
      "❌ Column 'type_tag_36' is a nested DataFrame\n",
      "❌ Column 'type_tag_37' is a nested DataFrame\n",
      "❌ Column 'type_tag_38' is a nested DataFrame\n",
      "❌ Column 'type_tag_39' is a nested DataFrame\n",
      "❌ Column 'type_tag_40' is a nested DataFrame\n",
      "✅ Column types:\n",
      "venue_id                int64\n",
      "like_count            float64\n",
      "checkin_count         float64\n",
      "avg_event_rating      float64\n",
      "event_rating_count    float64\n",
      "                       ...   \n",
      "type_tag_36             int64\n",
      "type_tag_37             int64\n",
      "type_tag_38             int64\n",
      "type_tag_39             int64\n",
      "type_tag_40             int64\n",
      "Length: 95, dtype: object\n",
      "🧪 Checking row 0:\n",
      "venue_id              <class 'float'>\n",
      "like_count            <class 'float'>\n",
      "checkin_count         <class 'float'>\n",
      "avg_event_rating      <class 'float'>\n",
      "event_rating_count    <class 'float'>\n",
      "                           ...       \n",
      "type_tag_36           <class 'float'>\n",
      "type_tag_37           <class 'float'>\n",
      "type_tag_38           <class 'float'>\n",
      "type_tag_39           <class 'float'>\n",
      "type_tag_40           <class 'float'>\n",
      "Name: 0, Length: 95, dtype: object\n"
     ]
    }
   ],
   "source": [
    "# 1. Check for nested DataFrame columns\n",
    "for col in X.columns:\n",
    "    if isinstance(X[col], pd.DataFrame):\n",
    "        print(f\"❌ Column '{col}' is a nested DataFrame\")\n",
    "\n",
    "# 2. Print out dtypes to verify\n",
    "print(\"✅ Column types:\")\n",
    "print(X.dtypes)\n",
    "\n",
    "# 3. Ensure all values are numeric scalars\n",
    "print(\"🧪 Checking row 0:\")\n",
    "print(X.iloc[0].apply(type))\n"
   ]
  }
 ],
 "metadata": {
  "kernelspec": {
   "display_name": "Python 3",
   "language": "python",
   "name": "python3"
  },
  "language_info": {
   "codemirror_mode": {
    "name": "ipython",
    "version": 3
   },
   "file_extension": ".py",
   "mimetype": "text/x-python",
   "name": "python",
   "nbconvert_exporter": "python",
   "pygments_lexer": "ipython3",
   "version": "3.12.10"
  }
 },
 "nbformat": 4,
 "nbformat_minor": 5
}
