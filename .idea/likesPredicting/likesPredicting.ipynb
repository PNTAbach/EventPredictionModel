{
 "cells": [
  {
   "cell_type": "code",
   "execution_count": null,
   "id": "2221af82",
   "metadata": {},
   "outputs": [],
   "source": [
    "\n",
    "import pandas as pd\n",
    "import psycopg2\n",
    "from sklearn.ensemble import RandomForestClassifier\n",
    "from sklearn.model_selection import train_test_split\n",
    "from sklearn.preprocessing import OneHotEncoder\n",
    "from sklearn.feature_extraction.text import TfidfVectorizer\n",
    "from sklearn.metrics import classification_report\n",
    "\n",
    "LIKES_THRESHOLD = 50  # threshold to classify events as popular\n",
    "\n",
    "DB_PARAMS = {\n",
    "    'host': 'localhost',\n",
    "    'dbname': 'pnta',\n",
    "    'user': 'postgres',\n",
    "    'password': 'your_password',  # replace with your actual password\n",
    "    'port': 5432\n",
    "}\n"
   ]
  },
  {
   "cell_type": "code",
   "execution_count": null,
   "id": "3f13fb49",
   "metadata": {},
   "outputs": [],
   "source": [
    "\n",
    "def get_connection():\n",
    "    return psycopg2.connect(**DB_PARAMS)\n"
   ]
  },
  {
   "cell_type": "code",
   "execution_count": null,
   "id": "f4d3b781",
   "metadata": {},
   "outputs": [],
   "source": [
    "\n",
    "def load_data():\n",
    "    query = '''\n",
    "    SELECT\n",
    "        e.event_id,\n",
    "        e.name,\n",
    "        e.description,\n",
    "        e.event_date,\n",
    "        e.start_time,\n",
    "        e.end_time,\n",
    "        e.venue_id,\n",
    "        l.city,\n",
    "        v.rating AS venue_rating,\n",
    "        (SELECT COUNT(*) FROM pnta.user_event_like l WHERE l.event_id = e.event_id) AS event_likes,\n",
    "        ARRAY(\n",
    "            SELECT t.name\n",
    "            FROM pnta.tag t\n",
    "            JOIN pnta.event_tag et ON t.tag_id = et.tag_id\n",
    "            WHERE et.event_id = e.event_id\n",
    "        ) AS event_tags\n",
    "    FROM pnta.event e\n",
    "    JOIN pnta.venue v ON v.venue_id = e.venue_id\n",
    "    JOIN pnta.location l ON l.venue_id = v.venue_id;\n",
    "    '''\n",
    "    with get_connection() as conn:\n",
    "        return pd.read_sql(query, conn)\n"
   ]
  },
  {
   "cell_type": "code",
   "execution_count": null,
   "id": "0a3b4c64",
   "metadata": {},
   "outputs": [],
   "source": [
    "\n",
    "df = load_data()\n",
    "df.head()\n"
   ]
  },
  {
   "cell_type": "code",
   "execution_count": null,
   "id": "689194c0",
   "metadata": {},
   "outputs": [],
   "source": [
    "\n",
    "def preprocess(df):\n",
    "    df['label'] = (df['event_likes'] >= LIKES_THRESHOLD).astype(int)\n",
    "    df['weekday'] = pd.to_datetime(df['event_date']).dt.dayofweek\n",
    "    df['hour'] = pd.to_datetime(df['start_time'].astype(str), format='%H:%M:%S', errors='coerce').dt.hour\n",
    "    df['text'] = df['name'].fillna('') + ' ' + df['description'].fillna('')\n",
    "\n",
    "    # Encode text\n",
    "    tfidf = TfidfVectorizer(max_features=100)\n",
    "    X_text = tfidf.fit_transform(df['text']).toarray()\n",
    "\n",
    "    # Encode categorical\n",
    "    encoder = OneHotEncoder(handle_unknown='ignore', sparse_output=False)\n",
    "    X_cat = encoder.fit_transform(df[['city']])\n",
    "\n",
    "    # Numerical features\n",
    "    X_num = df[['venue_rating', 'weekday', 'hour']].fillna(0)\n",
    "\n",
    "    # Combine\n",
    "    X = pd.concat([\n",
    "        pd.DataFrame(X_text),\n",
    "        pd.DataFrame(X_cat),\n",
    "        X_num.reset_index(drop=True)\n",
    "    ], axis=1)\n",
    "\n",
    "    X.columns = X.columns.astype(str)\n",
    "    y = df['label']\n",
    "    return X, y\n"
   ]
  },
  {
   "cell_type": "code",
   "execution_count": null,
   "id": "46a1d69d",
   "metadata": {},
   "outputs": [],
   "source": [
    "\n",
    "X, y = preprocess(df)\n",
    "X.shape, y.value_counts()\n"
   ]
  },
  {
   "cell_type": "code",
   "execution_count": null,
   "id": "523f22f2",
   "metadata": {},
   "outputs": [],
   "source": [
    "\n",
    "def train_model(X, y):\n",
    "    X_train, X_test, y_train, y_test = train_test_split(X, y, stratify=y, test_size=0.2, random_state=42)\n",
    "    model = RandomForestClassifier(n_estimators=100, random_state=42)\n",
    "    model.fit(X_train, y_train)\n",
    "    print(classification_report(y_test, model.predict(X_test)))\n",
    "    return model\n",
    "\n",
    "model = train_model(X, y)\n"
   ]
  }
 ],
 "metadata": {
  "language_info": {
   "name": "python"
  }
 },
 "nbformat": 4,
 "nbformat_minor": 5
}
